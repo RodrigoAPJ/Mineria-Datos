{
 "cells": [
  {
   "cell_type": "markdown",
   "metadata": {
    "id": "0yPGOsytwJ9z"
   },
   "source": [
    "### Actividad 2: KNN sobre el Congreso 2018-2022\n",
    "El objetivo de esta actividad es utilizar el algoritmo KNN para clasificar a los diputados del Congreso 2018-2022 a partir de tres `y`: el partido, el pacto o su ideología (izquierda o derecha). \n",
    "\n",
    "\n",
    "Aparte de los 3 `y`, hay dos características `x1` y `x2` que utilizarán para entrenar los modelos. Estas dos características se obtuvieron tras realizar una reducción de dimensionalidad utilizando PCA, un algoritmo que se estudiará más adelante en el curso. En resumidas cuentas, este algoritmo tomó las más de 5.000 votaciones del Congreso anterior y las redujo a 2 dimensiones que son distintivas para cada diputado. Veamos el dataset."
   ]
  },
  {
   "cell_type": "code",
   "execution_count": 1,
   "metadata": {
    "collapsed": true
   },
   "outputs": [
    {
     "name": "stdout",
     "output_type": "stream",
     "text": [
      "Requirement already satisfied: altair in c:\\users\\rodri\\appdata\\local\\programs\\python\\python39\\lib\\site-packages (4.2.0)"
     ]
    },
    {
     "name": "stderr",
     "output_type": "stream",
     "text": [
      "WARNING: You are using pip version 20.2.3; however, version 22.0.4 is available.\n",
      "You should consider upgrading via the 'c:\\users\\rodri\\appdata\\local\\programs\\python\\python39\\python.exe -m pip install --upgrade pip' command.\n"
     ]
    },
    {
     "name": "stdout",
     "output_type": "stream",
     "text": [
      "\n",
      "Requirement already satisfied: toolz in c:\\users\\rodri\\appdata\\local\\programs\\python\\python39\\lib\\site-packages (from altair) (0.11.2)\n",
      "Requirement already satisfied: entrypoints in c:\\users\\rodri\\appdata\\local\\programs\\python\\python39\\lib\\site-packages (from altair) (0.3)\n",
      "Requirement already satisfied: jinja2 in c:\\users\\rodri\\appdata\\local\\programs\\python\\python39\\lib\\site-packages (from altair) (2.11.3)\n",
      "Requirement already satisfied: jsonschema>=3.0 in c:\\users\\rodri\\appdata\\local\\programs\\python\\python39\\lib\\site-packages (from altair) (3.2.0)\n",
      "Requirement already satisfied: pandas>=0.18 in c:\\users\\rodri\\appdata\\local\\programs\\python\\python39\\lib\\site-packages (from altair) (1.4.0)\n",
      "Requirement already satisfied: numpy in c:\\users\\rodri\\appdata\\local\\programs\\python\\python39\\lib\\site-packages (from altair) (1.20.2)\n",
      "Requirement already satisfied: MarkupSafe>=0.23 in c:\\users\\rodri\\appdata\\local\\programs\\python\\python39\\lib\\site-packages (from jinja2->altair) (1.1.1)\n",
      "Requirement already satisfied: attrs>=17.4.0 in c:\\users\\rodri\\appdata\\local\\programs\\python\\python39\\lib\\site-packages (from jsonschema>=3.0->altair) (20.3.0)\n",
      "Requirement already satisfied: pyrsistent>=0.14.0 in c:\\users\\rodri\\appdata\\local\\programs\\python\\python39\\lib\\site-packages (from jsonschema>=3.0->altair) (0.17.3)\n",
      "Requirement already satisfied: setuptools in c:\\users\\rodri\\appdata\\local\\programs\\python\\python39\\lib\\site-packages (from jsonschema>=3.0->altair) (49.2.1)\n",
      "Requirement already satisfied: six>=1.11.0 in c:\\users\\rodri\\appdata\\local\\programs\\python\\python39\\lib\\site-packages (from jsonschema>=3.0->altair) (1.15.0)\n",
      "Requirement already satisfied: python-dateutil>=2.8.1 in c:\\users\\rodri\\appdata\\local\\programs\\python\\python39\\lib\\site-packages (from pandas>=0.18->altair) (2.8.1)\n",
      "Requirement already satisfied: pytz>=2020.1 in c:\\users\\rodri\\appdata\\local\\programs\\python\\python39\\lib\\site-packages (from pandas>=0.18->altair) (2020.4)\n"
     ]
    }
   ],
   "source": [
    "!pip install altair"
   ]
  },
  {
   "cell_type": "code",
   "execution_count": 2,
   "metadata": {
    "id": "4kDc4LS8KucE"
   },
   "outputs": [],
   "source": [
    "import pandas as pd\n",
    "import numpy as np"
   ]
  },
  {
   "cell_type": "markdown",
   "metadata": {
    "id": "CJEDgaFZfrRQ"
   },
   "source": [
    "### Descargar datos"
   ]
  },
  {
   "cell_type": "code",
   "execution_count": 3,
   "metadata": {
    "colab": {
     "base_uri": "https://localhost:8080/",
     "height": 237
    },
    "executionInfo": {
     "elapsed": 772,
     "status": "ok",
     "timestamp": 1648693521151,
     "user": {
      "displayName": "LUCAS VALENZUELA",
      "userId": "14283391417871840336"
     },
     "user_tz": 180
    },
    "id": "Axe6VzTSOXNr",
    "outputId": "7c68f122-edba-4231-e3d1-35a046e4004f"
   },
   "outputs": [
    {
     "data": {
      "text/html": [
       "<div>\n",
       "<style scoped>\n",
       "    .dataframe tbody tr th:only-of-type {\n",
       "        vertical-align: middle;\n",
       "    }\n",
       "\n",
       "    .dataframe tbody tr th {\n",
       "        vertical-align: top;\n",
       "    }\n",
       "\n",
       "    .dataframe thead th {\n",
       "        text-align: right;\n",
       "    }\n",
       "</style>\n",
       "<table border=\"1\" class=\"dataframe\">\n",
       "  <thead>\n",
       "    <tr style=\"text-align: right;\">\n",
       "      <th></th>\n",
       "      <th>x1</th>\n",
       "      <th>x2</th>\n",
       "      <th>party</th>\n",
       "      <th>pact</th>\n",
       "      <th>ideology</th>\n",
       "    </tr>\n",
       "    <tr>\n",
       "      <th>name</th>\n",
       "      <th></th>\n",
       "      <th></th>\n",
       "      <th></th>\n",
       "      <th></th>\n",
       "      <th></th>\n",
       "    </tr>\n",
       "  </thead>\n",
       "  <tbody>\n",
       "    <tr>\n",
       "      <th>Marcela Hernando</th>\n",
       "      <td>-1.508095</td>\n",
       "      <td>-0.352802</td>\n",
       "      <td>PR</td>\n",
       "      <td>La Fuerza de la Mayoría</td>\n",
       "      <td>izquierda</td>\n",
       "    </tr>\n",
       "    <tr>\n",
       "      <th>Pablo Prieto</th>\n",
       "      <td>1.696765</td>\n",
       "      <td>-0.070751</td>\n",
       "      <td>RN</td>\n",
       "      <td>Chile Vamos</td>\n",
       "      <td>derecha</td>\n",
       "    </tr>\n",
       "    <tr>\n",
       "      <th>Sebastián Alvarez</th>\n",
       "      <td>1.788885</td>\n",
       "      <td>-0.022077</td>\n",
       "      <td>EVO</td>\n",
       "      <td>Chile Vamos</td>\n",
       "      <td>derecha</td>\n",
       "    </tr>\n",
       "    <tr>\n",
       "      <th>María José Hoffmann</th>\n",
       "      <td>2.121502</td>\n",
       "      <td>0.261220</td>\n",
       "      <td>UDI</td>\n",
       "      <td>Chile Vamos</td>\n",
       "      <td>derecha</td>\n",
       "    </tr>\n",
       "    <tr>\n",
       "      <th>Guillermo Ramírez</th>\n",
       "      <td>2.161527</td>\n",
       "      <td>0.308997</td>\n",
       "      <td>UDI</td>\n",
       "      <td>Chile Vamos</td>\n",
       "      <td>derecha</td>\n",
       "    </tr>\n",
       "  </tbody>\n",
       "</table>\n",
       "</div>"
      ],
      "text/plain": [
       "                           x1        x2 party                     pact  \\\n",
       "name                                                                     \n",
       "Marcela Hernando    -1.508095 -0.352802    PR  La Fuerza de la Mayoría   \n",
       "Pablo Prieto         1.696765 -0.070751    RN              Chile Vamos   \n",
       "Sebastián Alvarez    1.788885 -0.022077   EVO              Chile Vamos   \n",
       "María José Hoffmann  2.121502  0.261220   UDI              Chile Vamos   \n",
       "Guillermo Ramírez    2.161527  0.308997   UDI              Chile Vamos   \n",
       "\n",
       "                      ideology  \n",
       "name                            \n",
       "Marcela Hernando     izquierda  \n",
       "Pablo Prieto           derecha  \n",
       "Sebastián Alvarez      derecha  \n",
       "María José Hoffmann    derecha  \n",
       "Guillermo Ramírez      derecha  "
      ]
     },
     "execution_count": 3,
     "metadata": {},
     "output_type": "execute_result"
    }
   ],
   "source": [
    "# Descargamos los datos\n",
    "url='https://drive.google.com/uc?id=1rsyHdVpRqKj5UQpiObP-Ko2va2yEfWhL'\n",
    "df = pd.read_csv(url, index_col='name')\n",
    "\n",
    "df.head()"
   ]
  },
  {
   "cell_type": "markdown",
   "metadata": {
    "id": "gJLMyK9w0i8W"
   },
   "source": [
    "Si bien 155 diputados fueron electos, se eliminaron a 2 porque no pertenecían a un cluster de partido mayor a 1."
   ]
  },
  {
   "cell_type": "code",
   "execution_count": 4,
   "metadata": {
    "colab": {
     "base_uri": "https://localhost:8080/"
    },
    "executionInfo": {
     "elapsed": 278,
     "status": "ok",
     "timestamp": 1648694008887,
     "user": {
      "displayName": "LUCAS VALENZUELA",
      "userId": "14283391417871840336"
     },
     "user_tz": 180
    },
    "id": "Nbmbe85dyoQo",
    "outputId": "d6a8d8e9-f8b3-4d35-bdfe-04718824dfbb"
   },
   "outputs": [
    {
     "data": {
      "text/plain": [
       "(153, 5)"
      ]
     },
     "execution_count": 4,
     "metadata": {},
     "output_type": "execute_result"
    }
   ],
   "source": [
    "df.shape"
   ]
  },
  {
   "cell_type": "markdown",
   "metadata": {
    "id": "tlhAe9w01DXl"
   },
   "source": [
    "Al graficar ambas dimensiones, vemos la distribución de los diputados a lo largo del mapa. En este caso, distinguimos a los diputados a partir del pacto con que fueron electos."
   ]
  },
  {
   "cell_type": "code",
   "execution_count": 5,
   "metadata": {
    "colab": {
     "base_uri": "https://localhost:8080/",
     "height": 368
    },
    "executionInfo": {
     "elapsed": 362,
     "status": "ok",
     "timestamp": 1648694142288,
     "user": {
      "displayName": "LUCAS VALENZUELA",
      "userId": "14283391417871840336"
     },
     "user_tz": 180
    },
    "id": "nElATsM8PQK9",
    "outputId": "31a8352f-ea43-45b6-ef9c-d82fedc12d17"
   },
   "outputs": [
    {
     "data": {
      "text/html": [
       "\n",
       "<div id=\"altair-viz-40b16722a5c5447e8fe2891e72b1675e\"></div>\n",
       "<script type=\"text/javascript\">\n",
       "  var VEGA_DEBUG = (typeof VEGA_DEBUG == \"undefined\") ? {} : VEGA_DEBUG;\n",
       "  (function(spec, embedOpt){\n",
       "    let outputDiv = document.currentScript.previousElementSibling;\n",
       "    if (outputDiv.id !== \"altair-viz-40b16722a5c5447e8fe2891e72b1675e\") {\n",
       "      outputDiv = document.getElementById(\"altair-viz-40b16722a5c5447e8fe2891e72b1675e\");\n",
       "    }\n",
       "    const paths = {\n",
       "      \"vega\": \"https://cdn.jsdelivr.net/npm//vega@5?noext\",\n",
       "      \"vega-lib\": \"https://cdn.jsdelivr.net/npm//vega-lib?noext\",\n",
       "      \"vega-lite\": \"https://cdn.jsdelivr.net/npm//vega-lite@4.17.0?noext\",\n",
       "      \"vega-embed\": \"https://cdn.jsdelivr.net/npm//vega-embed@6?noext\",\n",
       "    };\n",
       "\n",
       "    function maybeLoadScript(lib, version) {\n",
       "      var key = `${lib.replace(\"-\", \"\")}_version`;\n",
       "      return (VEGA_DEBUG[key] == version) ?\n",
       "        Promise.resolve(paths[lib]) :\n",
       "        new Promise(function(resolve, reject) {\n",
       "          var s = document.createElement('script');\n",
       "          document.getElementsByTagName(\"head\")[0].appendChild(s);\n",
       "          s.async = true;\n",
       "          s.onload = () => {\n",
       "            VEGA_DEBUG[key] = version;\n",
       "            return resolve(paths[lib]);\n",
       "          };\n",
       "          s.onerror = () => reject(`Error loading script: ${paths[lib]}`);\n",
       "          s.src = paths[lib];\n",
       "        });\n",
       "    }\n",
       "\n",
       "    function showError(err) {\n",
       "      outputDiv.innerHTML = `<div class=\"error\" style=\"color:red;\">${err}</div>`;\n",
       "      throw err;\n",
       "    }\n",
       "\n",
       "    function displayChart(vegaEmbed) {\n",
       "      vegaEmbed(outputDiv, spec, embedOpt)\n",
       "        .catch(err => showError(`Javascript Error: ${err.message}<br>This usually means there's a typo in your chart specification. See the javascript console for the full traceback.`));\n",
       "    }\n",
       "\n",
       "    if(typeof define === \"function\" && define.amd) {\n",
       "      requirejs.config({paths});\n",
       "      require([\"vega-embed\"], displayChart, err => showError(`Error loading script: ${err.message}`));\n",
       "    } else {\n",
       "      maybeLoadScript(\"vega\", \"5\")\n",
       "        .then(() => maybeLoadScript(\"vega-lite\", \"4.17.0\"))\n",
       "        .then(() => maybeLoadScript(\"vega-embed\", \"6\"))\n",
       "        .catch(showError)\n",
       "        .then(() => displayChart(vegaEmbed));\n",
       "    }\n",
       "  })({\"config\": {\"view\": {\"continuousWidth\": 400, \"continuousHeight\": 300}}, \"data\": {\"name\": \"data-da2dc6c8adedc746f98a7928fa8fae02\"}, \"mark\": \"point\", \"encoding\": {\"color\": {\"field\": \"pact\", \"type\": \"nominal\"}, \"tooltip\": {\"field\": \"name\", \"type\": \"nominal\"}, \"x\": {\"field\": \"x1\", \"type\": \"quantitative\"}, \"y\": {\"field\": \"x2\", \"type\": \"quantitative\"}}, \"selection\": {\"selector001\": {\"type\": \"interval\", \"bind\": \"scales\", \"encodings\": [\"x\", \"y\"]}}, \"$schema\": \"https://vega.github.io/schema/vega-lite/v4.17.0.json\", \"datasets\": {\"data-da2dc6c8adedc746f98a7928fa8fae02\": [{\"name\": \"Marcela Hernando\", \"x1\": -1.5080945971608322, \"x2\": -0.3528023940523507, \"party\": \"PR\", \"pact\": \"La Fuerza de la Mayor\\u00eda\", \"ideology\": \"izquierda\"}, {\"name\": \"Pablo Prieto\", \"x1\": 1.6967650595774515, \"x2\": -0.0707511194107809, \"party\": \"RN\", \"pact\": \"Chile Vamos\", \"ideology\": \"derecha\"}, {\"name\": \"Sebasti\\u00e1n Alvarez\", \"x1\": 1.7888851936654222, \"x2\": -0.0220774518525645, \"party\": \"EVO\", \"pact\": \"Chile Vamos\", \"ideology\": \"derecha\"}, {\"name\": \"Mar\\u00eda Jos\\u00e9 Hoffmann\", \"x1\": 2.121502407115346, \"x2\": 0.261219858764719, \"party\": \"UDI\", \"pact\": \"Chile Vamos\", \"ideology\": \"derecha\"}, {\"name\": \"Guillermo Ram\\u00edrez\", \"x1\": 2.161526693551199, \"x2\": 0.3089971829912388, \"party\": \"UDI\", \"pact\": \"Chile Vamos\", \"ideology\": \"derecha\"}, {\"name\": \"Sandra Amar\", \"x1\": 1.7887496735063864, \"x2\": -0.1527785235845898, \"party\": \"UDI\", \"pact\": \"Chile Vamos\", \"ideology\": \"derecha\"}, {\"name\": \"Tucapel Jim\\u00e9nez\", \"x1\": -1.792318166632668, \"x2\": -0.2347864744257513, \"party\": \"PPD\", \"pact\": \"La Fuerza de la Mayor\\u00eda\", \"ideology\": \"izquierda\"}, {\"name\": \"Jorge Rathgeb\", \"x1\": 1.914843476536732, \"x2\": 0.1598614420764033, \"party\": \"RN\", \"pact\": \"Chile Vamos\", \"ideology\": \"derecha\"}, {\"name\": \"Pepe Auth\", \"x1\": -0.3408894751925564, \"x2\": -0.3964202714747946, \"party\": \"PR\", \"pact\": \"La Fuerza de la Mayor\\u00eda\", \"ideology\": \"izquierda\"}, {\"name\": \"Harry J\\u00fcrgensen\", \"x1\": 2.0443639461832785, \"x2\": 0.2013368966675505, \"party\": \"RN\", \"pact\": \"Chile Vamos\", \"ideology\": \"derecha\"}, {\"name\": \"Rolando Renter\\u00eda\", \"x1\": 1.8135908535053369, \"x2\": -0.0704372581623453, \"party\": \"UDI\", \"pact\": \"Chile Vamos\", \"ideology\": \"derecha\"}, {\"name\": \"Nino Baltolu\", \"x1\": 1.9392010715005616, \"x2\": 0.1036971984907275, \"party\": \"UDI\", \"pact\": \"Chile Vamos\", \"ideology\": \"derecha\"}, {\"name\": \"Pablo Kast\", \"x1\": 1.694664917340119, \"x2\": 0.0956590347315091, \"party\": \"EVO\", \"pact\": \"Chile Vamos\", \"ideology\": \"derecha\"}, {\"name\": \"Hugo Rey\", \"x1\": 1.7763901025432367, \"x2\": -0.1222546691947719, \"party\": \"RN\", \"pact\": \"Chile Vamos\", \"ideology\": \"derecha\"}, {\"name\": \"Ram\\u00f3n Barros\", \"x1\": 2.1160046901107727, \"x2\": 0.2317668792706897, \"party\": \"UDI\", \"pact\": \"Chile Vamos\", \"ideology\": \"derecha\"}, {\"name\": \"Sebasti\\u00e1n Keitel\", \"x1\": 1.584520710890322, \"x2\": -0.2206664166794963, \"party\": \"EVO\", \"pact\": \"Chile Vamos\", \"ideology\": \"derecha\"}, {\"name\": \"Leonidas Romero\", \"x1\": 1.6813654102704103, \"x2\": 0.0244802331548872, \"party\": \"RN\", \"pact\": \"Chile Vamos\", \"ideology\": \"derecha\"}, {\"name\": \"Carlos Kuschel\", \"x1\": 2.0255879112545583, \"x2\": 0.2717634149520578, \"party\": \"RN\", \"pact\": \"Chile Vamos\", \"ideology\": \"derecha\"}, {\"name\": \"Jorge Sabag\", \"x1\": 0.2452505238481605, \"x2\": -0.4456197224541002, \"party\": \"DC\", \"pact\": \"Convergencia Democr\\u00e1tica\", \"ideology\": \"izquierda\"}, {\"name\": \"Bernardo Berger\", \"x1\": 1.9055567278407293, \"x2\": -0.0371607718706277, \"party\": \"RN\", \"pact\": \"Chile Vamos\", \"ideology\": \"derecha\"}, {\"name\": \"Joaqu\\u00edn Lav\\u00edn\", \"x1\": 1.802800370278838, \"x2\": -0.079601564390404, \"party\": \"UDI\", \"pact\": \"Chile Vamos\", \"ideology\": \"derecha\"}, {\"name\": \"Alejandro Bernales\", \"x1\": -1.777209295519956, \"x2\": -0.0605499051233821, \"party\": \"PL\", \"pact\": \"Frente Amplio\", \"ideology\": \"izquierda\"}, {\"name\": \"Aracely Leuqu\\u00e9n\", \"x1\": 1.8378644197091, \"x2\": -0.0994380950083228, \"party\": \"RN\", \"pact\": \"Chile Vamos\", \"ideology\": \"derecha\"}, {\"name\": \"Gustavo Sanhueza\", \"x1\": 2.023520718239657, \"x2\": 0.144689401499998, \"party\": \"UDI\", \"pact\": \"Chile Vamos\", \"ideology\": \"derecha\"}, {\"name\": \"Sergio Bobadilla\", \"x1\": 1.9662789548613016, \"x2\": 0.0590946337180972, \"party\": \"UDI\", \"pact\": \"Chile Vamos\", \"ideology\": \"derecha\"}, {\"name\": \"Pablo Lorenzini\", \"x1\": 0.1402336280471444, \"x2\": -0.5449264627020669, \"party\": \"DC\", \"pact\": \"Convergencia Democr\\u00e1tica\", \"ideology\": \"izquierda\"}, {\"name\": \"Alejandro Santana\", \"x1\": 1.986622102934487, \"x2\": 0.0099780580211907, \"party\": \"RN\", \"pact\": \"Chile Vamos\", \"ideology\": \"derecha\"}, {\"name\": \"Miguel \\u00c1ngel Calisto\", \"x1\": 0.0942845614393214, \"x2\": -0.5174327356229551, \"party\": \"DC\", \"pact\": \"Convergencia Democr\\u00e1tica\", \"ideology\": \"izquierda\"}, {\"name\": \"Karin Luck\", \"x1\": 1.983230776327774, \"x2\": 0.0286801999959336, \"party\": \"RN\", \"pact\": \"Chile Vamos\", \"ideology\": \"derecha\"}, {\"name\": \"Frank Sauerbaum\", \"x1\": 2.011735082281433, \"x2\": 0.0678664577906886, \"party\": \"RN\", \"pact\": \"Chile Vamos\", \"ideology\": \"derecha\"}, {\"name\": \"\\u00c1lvaro Carter\", \"x1\": 1.72114166560527, \"x2\": -0.1262215065611486, \"party\": \"UDI\", \"pact\": \"Chile Vamos\", \"ideology\": \"derecha\"}, {\"name\": \"Javier Macaya\", \"x1\": 2.170451506685189, \"x2\": 0.3556731984323261, \"party\": \"UDI\", \"pact\": \"Chile Vamos\", \"ideology\": \"derecha\"}, {\"name\": \"Diego Schalper\", \"x1\": 2.036875002497133, \"x2\": 0.1098785273036568, \"party\": \"RN\", \"pact\": \"Chile Vamos\", \"ideology\": \"derecha\"}, {\"name\": \"Jos\\u00e9 Miguel Castro\", \"x1\": 1.9879313296827053, \"x2\": 0.0450143628495099, \"party\": \"RN\", \"pact\": \"Chile Vamos\", \"ideology\": \"derecha\"}, {\"name\": \"Alejandra Sep\\u00falveda\", \"x1\": -1.9847301566564173, \"x2\": 0.1044242577077254, \"party\": \"FREVS\", \"pact\": \"Coalici\\u00f3n Regionalista Verde\", \"ideology\": \"izquierda\"}, {\"name\": \"Andr\\u00e9s Celis\", \"x1\": 1.7119126678096273, \"x2\": -0.1247823657720404, \"party\": \"RN\", \"pact\": \"Chile Vamos\", \"ideology\": \"derecha\"}, {\"name\": \"Cosme Mellado\", \"x1\": -1.6104109418608026, \"x2\": -0.3189598426195814, \"party\": \"PR\", \"pact\": \"La Fuerza de la Mayor\\u00eda\", \"ideology\": \"izquierda\"}, {\"name\": \"Alexis Sep\\u00falveda\", \"x1\": -1.477037523077796, \"x2\": -0.2938898180167664, \"party\": \"PR\", \"pact\": \"La Fuerza de la Mayor\\u00eda\", \"ideology\": \"izquierda\"}, {\"name\": \"Sof\\u00eda Cid\", \"x1\": 1.8846891205430767, \"x2\": 0.0062151431038458, \"party\": \"RN\", \"pact\": \"Chile Vamos\", \"ideology\": \"derecha\"}, {\"name\": \"Miguel Mellado\", \"x1\": 1.9226869595852245, \"x2\": 0.0461107043739674, \"party\": \"RN\", \"pact\": \"Chile Vamos\", \"ideology\": \"derecha\"}, {\"name\": \"Gabriel Silber\", \"x1\": -0.8358035616189915, \"x2\": -0.4260719950895492, \"party\": \"DC\", \"pact\": \"Convergencia Democr\\u00e1tica\", \"ideology\": \"izquierda\"}, {\"name\": \"Juan Antonio Coloma\", \"x1\": 2.1110601850582515, \"x2\": 0.2554474952433665, \"party\": \"UDI\", \"pact\": \"Chile Vamos\", \"ideology\": \"derecha\"}, {\"name\": \"Andr\\u00e9s Molina\", \"x1\": 1.932850082542363, \"x2\": 0.1600664237783514, \"party\": \"EVO\", \"pact\": \"Chile Vamos\", \"ideology\": \"derecha\"}, {\"name\": \"Ra\\u00fal Soto\", \"x1\": -1.6931579364700309, \"x2\": -0.2004400280232994, \"party\": \"DC\", \"pact\": \"Convergencia Democr\\u00e1tica\", \"ideology\": \"izquierda\"}, {\"name\": \"Luciano Cruz-Coke\", \"x1\": 1.943136412567853, \"x2\": 0.1564979135294722, \"party\": \"EVO\", \"pact\": \"Chile Vamos\", \"ideology\": \"derecha\"}, {\"name\": \"Celso Morales\", \"x1\": 1.861562243339027, \"x2\": -0.0087210418458036, \"party\": \"UDI\", \"pact\": \"Chile Vamos\", \"ideology\": \"derecha\"}, {\"name\": \"Jaime Toh\\u00e1\", \"x1\": -1.5373485410639576, \"x2\": -0.2636313172329218, \"party\": \"PS\", \"pact\": \"La Fuerza de la Mayor\\u00eda\", \"ideology\": \"izquierda\"}, {\"name\": \"Catalina Del Real\", \"x1\": 1.99747305251787, \"x2\": 0.0013750186204727, \"party\": \"RN\", \"pact\": \"Chile Vamos\", \"ideology\": \"derecha\"}, {\"name\": \"Cristhian Moreira\", \"x1\": 1.8726144779776464, \"x2\": -0.0668270486377652, \"party\": \"UDI\", \"pact\": \"Chile Vamos\", \"ideology\": \"derecha\"}, {\"name\": \"Sebasti\\u00e1n Torrealba\", \"x1\": 1.856020943588428, \"x2\": 0.0482330658500958, \"party\": \"RN\", \"pact\": \"Chile Vamos\", \"ideology\": \"derecha\"}, {\"name\": \"Francesca Mu\\u00f1oz\", \"x1\": 1.6344725408491645, \"x2\": -0.1651794006897566, \"party\": \"RN\", \"pact\": \"Chile Vamos\", \"ideology\": \"derecha\"}, {\"name\": \"Renzo Trisotti\", \"x1\": 1.896079475640393, \"x2\": -0.032152746913491, \"party\": \"UDI\", \"pact\": \"Chile Vamos\", \"ideology\": \"derecha\"}, {\"name\": \"Jorge Dur\\u00e1n\", \"x1\": 1.4616738836497398, \"x2\": -0.1986743178500805, \"party\": \"RN\", \"pact\": \"Chile Vamos\", \"ideology\": \"derecha\"}, {\"name\": \"Jaime Naranjo\", \"x1\": -1.9623220793435063, \"x2\": -0.0655970061406556, \"party\": \"PS\", \"pact\": \"La Fuerza de la Mayor\\u00eda\", \"ideology\": \"izquierda\"}, {\"name\": \"Virginia Troncoso\", \"x1\": 1.5698705577942718, \"x2\": -0.1364463775602357, \"party\": \"UDI\", \"pact\": \"Chile Vamos\", \"ideology\": \"derecha\"}, {\"name\": \"Eduardo Dur\\u00e1n\", \"x1\": 1.8942005185571984, \"x2\": -0.0396265364076976, \"party\": \"RN\", \"pact\": \"Chile Vamos\", \"ideology\": \"derecha\"}, {\"name\": \"Nicol\\u00e1s Noman\", \"x1\": 1.8330573114508184, \"x2\": -0.2115932891529727, \"party\": \"UDI\", \"pact\": \"Chile Vamos\", \"ideology\": \"derecha\"}, {\"name\": \"Francisco Undurraga\", \"x1\": 1.8209104572259684, \"x2\": 0.1865353515023886, \"party\": \"EVO\", \"pact\": \"Chile Vamos\", \"ideology\": \"derecha\"}, {\"name\": \"Francisco Eguiguren\", \"x1\": 1.954903022772646, \"x2\": -0.0296587801939273, \"party\": \"RN\", \"pact\": \"Chile Vamos\", \"ideology\": \"derecha\"}, {\"name\": \"Iv\\u00e1n Norambuena\", \"x1\": 1.809393006250364, \"x2\": 0.0516567300235101, \"party\": \"UDI\", \"pact\": \"Chile Vamos\", \"ideology\": \"derecha\"}, {\"name\": \"Ignacio Urrutia\", \"x1\": 1.9156957779718635, \"x2\": 0.5189176884517888, \"party\": \"UDI\", \"pact\": \"Chile Vamos\", \"ideology\": \"derecha\"}, {\"name\": \"Camila Flores\", \"x1\": 1.991162413677354, \"x2\": 0.1018315528981473, \"party\": \"RN\", \"pact\": \"Chile Vamos\", \"ideology\": \"derecha\"}, {\"name\": \"Erika Olivera\", \"x1\": 1.131408659878862, \"x2\": -0.3098211330906993, \"party\": \"RN\", \"pact\": \"Chile Vamos\", \"ideology\": \"derecha\"}, {\"name\": \"Osvaldo Urrutia\", \"x1\": 2.0208728866163628, \"x2\": 0.1152877383447113, \"party\": \"UDI\", \"pact\": \"Chile Vamos\", \"ideology\": \"derecha\"}, {\"name\": \"Juan Fuenzalida\", \"x1\": 2.117819655213144, \"x2\": 0.2946180971857034, \"party\": \"UDI\", \"pact\": \"Chile Vamos\", \"ideology\": \"derecha\"}, {\"name\": \"Jos\\u00e9 Miguel Ortiz\", \"x1\": -0.0980334797246489, \"x2\": -0.4946675951384788, \"party\": \"DC\", \"pact\": \"Convergencia Democr\\u00e1tica\", \"ideology\": \"izquierda\"}, {\"name\": \"Crist\\u00f3bal Urruticoechea\", \"x1\": 1.997059135509512, \"x2\": 0.14140696452745, \"party\": \"RN\", \"pact\": \"Chile Vamos\", \"ideology\": \"derecha\"}, {\"name\": \"Gonzalo Fuenzalida\", \"x1\": 1.7557809726278295, \"x2\": -0.0240700214057686, \"party\": \"RN\", \"pact\": \"Chile Vamos\", \"ideology\": \"derecha\"}, {\"name\": \"Ximena Ossand\\u00f3n\", \"x1\": 1.5837316228844274, \"x2\": -0.1768434667469648, \"party\": \"RN\", \"pact\": \"Chile Vamos\", \"ideology\": \"derecha\"}, {\"name\": \"Enrique Van Rysselberghe\", \"x1\": 1.976339416264938, \"x2\": 0.0127966803545722, \"party\": \"UDI\", \"pact\": \"Chile Vamos\", \"ideology\": \"derecha\"}, {\"name\": \"Sergio Gahona\", \"x1\": 1.9503242799177647, \"x2\": 0.0250650989020671, \"party\": \"UDI\", \"pact\": \"Chile Vamos\", \"ideology\": \"derecha\"}, {\"name\": \"Luis Pardo\", \"x1\": 2.1124094395860213, \"x2\": 0.1882538840450431, \"party\": \"RN\", \"pact\": \"Chile Vamos\", \"ideology\": \"derecha\"}, {\"name\": \"Daniel Verdessi\", \"x1\": -0.4224636453409311, \"x2\": -0.5536179159208132, \"party\": \"DC\", \"pact\": \"Convergencia Democr\\u00e1tica\", \"ideology\": \"izquierda\"}, {\"name\": \"Ram\\u00f3n Galleguillos\", \"x1\": 1.8136029125415, \"x2\": -0.0175629379012642, \"party\": \"RN\", \"pact\": \"Chile Vamos\", \"ideology\": \"derecha\"}, {\"name\": \"Leopoldo P\\u00e9rez\", \"x1\": 2.0765760019944537, \"x2\": 0.2295573527562868, \"party\": \"RN\", \"pact\": \"Chile Vamos\", \"ideology\": \"derecha\"}, {\"name\": \"Gast\\u00f3n Von M\\u00fchlenbrock\", \"x1\": 1.9968791740533032, \"x2\": 0.090696671422149, \"party\": \"UDI\", \"pact\": \"Chile Vamos\", \"ideology\": \"derecha\"}, {\"name\": \"Rodrigo Gonz\\u00e1lez\", \"x1\": -1.9924323617401936, \"x2\": 0.1227848338287898, \"party\": \"PPD\", \"pact\": \"La Fuerza de la Mayor\\u00eda\", \"ideology\": \"izquierda\"}, {\"name\": \"Joanna P\\u00e9rez\", \"x1\": -0.5696396309482631, \"x2\": -0.4643160820306885, \"party\": \"DC\", \"pact\": \"Convergencia Democr\\u00e1tica\", \"ideology\": \"izquierda\"}, {\"name\": \"Mat\\u00edas Walker\", \"x1\": -0.3690542440161848, \"x2\": -0.5616190876041175, \"party\": \"DC\", \"pact\": \"Convergencia Democr\\u00e1tica\", \"ideology\": \"izquierda\"}, {\"name\": \"Florcita Alarc\\u00f3n\", \"x1\": -2.153027189382527, \"x2\": 0.510998228915202, \"party\": \"PH\", \"pact\": \"Frente Amplio\", \"ideology\": \"izquierda\"}, {\"name\": \"Maite Orsini\", \"x1\": -2.1177691953744286, \"x2\": 0.1793586333823607, \"party\": \"RD\", \"pact\": \"Frente Amplio\", \"ideology\": \"izquierda\"}, {\"name\": \"Gabriel Ascencio\", \"x1\": -0.9825541074625334, \"x2\": -0.4364410115173674, \"party\": \"DC\", \"pact\": \"Convergencia Democr\\u00e1tica\", \"ideology\": \"izquierda\"}, {\"name\": \"Carmen Hertz\", \"x1\": -2.1670723848573066, \"x2\": 0.1790090779573627, \"party\": \"PC\", \"pact\": \"La Fuerza de la Mayor\\u00eda\", \"ideology\": \"izquierda\"}, {\"name\": \"Catalina P\\u00e9rez\", \"x1\": -2.1171170648142064, \"x2\": 0.178805323753759, \"party\": \"RD\", \"pact\": \"Frente Amplio\", \"ideology\": \"izquierda\"}, {\"name\": \"Boris Barrera\", \"x1\": -2.208036111926371, \"x2\": 0.2290039038362363, \"party\": \"PC\", \"pact\": \"La Fuerza de la Mayor\\u00eda\", \"ideology\": \"izquierda\"}, {\"name\": \"Tom\\u00e1s Hirsch\", \"x1\": -2.2762694025136843, \"x2\": 0.4446466806542025, \"party\": \"PH\", \"pact\": \"Frente Amplio\", \"ideology\": \"izquierda\"}, {\"name\": \"Camila Rojas\", \"x1\": -2.190929425288507, \"x2\": 0.3290390028902831, \"party\": \"Com\", \"pact\": \"Frente Amplio\", \"ideology\": \"izquierda\"}, {\"name\": \"Jorge Brito\", \"x1\": -2.104188309072364, \"x2\": 0.1495321000125455, \"party\": \"RD\", \"pact\": \"Frente Amplio\", \"ideology\": \"izquierda\"}, {\"name\": \"Diego Ib\\u00e1\\u00f1ez\", \"x1\": -2.1965793463687504, \"x2\": 0.2806796757846305, \"party\": \"CS\", \"pact\": \"Frente Amplio\", \"ideology\": \"izquierda\"}, {\"name\": \"Marcelo Schilling\", \"x1\": -1.763402746859722, \"x2\": 0.0022413497275985, \"party\": \"PS\", \"pact\": \"La Fuerza de la Mayor\\u00eda\", \"ideology\": \"izquierda\"}, {\"name\": \"Karol Cariola\", \"x1\": -2.247096364008301, \"x2\": 0.2621938151690663, \"party\": \"PC\", \"pact\": \"La Fuerza de la Mayor\\u00eda\", \"ideology\": \"izquierda\"}, {\"name\": \"Giorgio Jackson\", \"x1\": -2.1244777663787224, \"x2\": 0.1891554928712411, \"party\": \"RD\", \"pact\": \"Frente Amplio\", \"ideology\": \"izquierda\"}, {\"name\": \"Guillermo Teillier\", \"x1\": -2.163002119298118, \"x2\": 0.2031708647368569, \"party\": \"PC\", \"pact\": \"La Fuerza de la Mayor\\u00eda\", \"ideology\": \"izquierda\"}, {\"name\": \"Natalia Castillo\", \"x1\": -2.1144326482013103, \"x2\": 0.1720195517536946, \"party\": \"RD\", \"pact\": \"Frente Amplio\", \"ideology\": \"izquierda\"}, {\"name\": \"Pamela Jiles\", \"x1\": -2.156578706104168, \"x2\": 0.4964649008491273, \"party\": \"PH\", \"pact\": \"Frente Amplio\", \"ideology\": \"izquierda\"}, {\"name\": \"Camila Vallejo\", \"x1\": -2.204609421263936, \"x2\": 0.1906273064071598, \"party\": \"PC\", \"pact\": \"La Fuerza de la Mayor\\u00eda\", \"ideology\": \"izquierda\"}, {\"name\": \"Daniella Cicardini\", \"x1\": -2.0473571863096933, \"x2\": -0.0094807214378057, \"party\": \"PS\", \"pact\": \"La Fuerza de la Mayor\\u00eda\", \"ideology\": \"izquierda\"}, {\"name\": \"Amaro Labra\", \"x1\": -2.2365758540140868, \"x2\": 0.2830511776951385, \"party\": \"PC\", \"pact\": \"La Fuerza de la Mayor\\u00eda\", \"ideology\": \"izquierda\"}, {\"name\": \"Esteban Vel\\u00e1squez\", \"x1\": -1.9665403771633527, \"x2\": 0.1657363203933446, \"party\": \"FREVS\", \"pact\": \"Coalici\\u00f3n Regionalista Verde\", \"ideology\": \"izquierda\"}, {\"name\": \"Miguel Crispi\", \"x1\": -2.109577639996284, \"x2\": 0.1345416770250421, \"party\": \"RD\", \"pact\": \"Frente Amplio\", \"ideology\": \"izquierda\"}, {\"name\": \"Claudia Mix\", \"x1\": -2.2961189944889613, \"x2\": 0.490879603712513, \"party\": \"Com\", \"pact\": \"Frente Amplio\", \"ideology\": \"izquierda\"}, {\"name\": \"Pablo Vidal\", \"x1\": -2.0715022626820465, \"x2\": 0.1079171012689163, \"party\": \"RD\", \"pact\": \"Frente Amplio\", \"ideology\": \"izquierda\"}, {\"name\": \"Daniel N\\u00fa\\u00f1ez\", \"x1\": -2.208705873829956, \"x2\": 0.2273368107620753, \"party\": \"PC\", \"pact\": \"La Fuerza de la Mayor\\u00eda\", \"ideology\": \"izquierda\"}, {\"name\": \"Gonzalo Winter\", \"x1\": -2.181457216858845, \"x2\": 0.3056390015362917, \"party\": \"CS\", \"pact\": \"Frente Amplio\", \"ideology\": \"izquierda\"}, {\"name\": \"Ricardo Celis\", \"x1\": -1.7265789871876618, \"x2\": -0.2179916360335345, \"party\": \"PPD\", \"pact\": \"La Fuerza de la Mayor\\u00eda\", \"ideology\": \"izquierda\"}, {\"name\": \"Carlos Abel Jarpa\", \"x1\": -0.6422717444819328, \"x2\": -0.4383357388163324, \"party\": \"PR\", \"pact\": \"La Fuerza de la Mayor\\u00eda\", \"ideology\": \"izquierda\"}, {\"name\": \"Patricio Rosas\", \"x1\": -1.936570274676917, \"x2\": -0.0617901349968012, \"party\": \"PS\", \"pact\": \"La Fuerza de la Mayor\\u00eda\", \"ideology\": \"izquierda\"}, {\"name\": \"Marcelo D\\u00edaz\", \"x1\": -2.057613189312356, \"x2\": 0.0615794710680127, \"party\": \"PS\", \"pact\": \"La Fuerza de la Mayor\\u00eda\", \"ideology\": \"izquierda\"}, {\"name\": \"Jaime Mulet\", \"x1\": -1.714069111536268, \"x2\": 0.2138121109669477, \"party\": \"FREVS\", \"pact\": \"Coalici\\u00f3n Regionalista Verde\", \"ideology\": \"izquierda\"}, {\"name\": \"Gast\\u00f3n Saavedra\", \"x1\": -1.995310992327272, \"x2\": -0.0559706203042164, \"party\": \"PS\", \"pact\": \"La Fuerza de la Mayor\\u00eda\", \"ideology\": \"izquierda\"}, {\"name\": \"Maya Fern\\u00e1ndez\", \"x1\": -2.1238129710259366, \"x2\": -0.0071619882752629, \"party\": \"PS\", \"pact\": \"La Fuerza de la Mayor\\u00eda\", \"ideology\": \"izquierda\"}, {\"name\": \"Andrea Parra\", \"x1\": -1.8026808901217235, \"x2\": -0.0969852571972607, \"party\": \"PPD\", \"pact\": \"La Fuerza de la Mayor\\u00eda\", \"ideology\": \"izquierda\"}, {\"name\": \"Ra\\u00fal Sald\\u00edvar\", \"x1\": -1.9199958259449728, \"x2\": -0.0817643523167016, \"party\": \"PS\", \"pact\": \"La Fuerza de la Mayor\\u00eda\", \"ideology\": \"izquierda\"}, {\"name\": \"Cristina Girardi\", \"x1\": -2.1738203536055285, \"x2\": 0.2561365338034313, \"party\": \"PPD\", \"pact\": \"La Fuerza de la Mayor\\u00eda\", \"ideology\": \"izquierda\"}, {\"name\": \"Luis Rocafull\", \"x1\": -1.9645634617352428, \"x2\": -0.0463867248876137, \"party\": \"PS\", \"pact\": \"La Fuerza de la Mayor\\u00eda\", \"ideology\": \"izquierda\"}, {\"name\": \"Pedro Vel\\u00e1squez\", \"x1\": -0.4315008180958837, \"x2\": -0.2112885173380551, \"party\": \"FREVS\", \"pact\": \"Coalici\\u00f3n Regionalista Verde\", \"ideology\": \"izquierda\"}, {\"name\": \"Javier Hern\\u00e1ndez\", \"x1\": 1.902462708315952, \"x2\": -0.0273898114942295, \"party\": \"UDI\", \"pact\": \"Chile Vamos\", \"ideology\": \"derecha\"}, {\"name\": \"Juan Santana\", \"x1\": -2.031650022095899, \"x2\": -0.0216931301227566, \"party\": \"PS\", \"pact\": \"La Fuerza de la Mayor\\u00eda\", \"ideology\": \"izquierda\"}, {\"name\": \"Juan Luis Castro\", \"x1\": -1.7635880498100125, \"x2\": -0.2129951519359399, \"party\": \"PS\", \"pact\": \"La Fuerza de la Mayor\\u00eda\", \"ideology\": \"izquierda\"}, {\"name\": \"Gael Yeomans\", \"x1\": -2.207504300922011, \"x2\": 0.2990885683414147, \"party\": \"CS\", \"pact\": \"Frente Amplio\", \"ideology\": \"izquierda\"}, {\"name\": \"Ren\\u00e9 Alinco\", \"x1\": -1.251105866815787, \"x2\": -0.0974252269843342, \"party\": \"PPD\", \"pact\": \"La Fuerza de la Mayor\\u00eda\", \"ideology\": \"izquierda\"}, {\"name\": \"Emilia Nuyado\", \"x1\": -2.0557251458872603, \"x2\": 0.1002945294430598, \"party\": \"PS\", \"pact\": \"La Fuerza de la Mayor\\u00eda\", \"ideology\": \"izquierda\"}, {\"name\": \"Gabriel Boric\", \"x1\": -2.1372535692369685, \"x2\": 0.2268804677404064, \"party\": \"CS\", \"pact\": \"Frente Amplio\", \"ideology\": \"izquierda\"}, {\"name\": \"Marcos Ilabaca\", \"x1\": -1.8831418006250489, \"x2\": -0.1494689044407975, \"party\": \"PS\", \"pact\": \"La Fuerza de la Mayor\\u00eda\", \"ideology\": \"izquierda\"}, {\"name\": \"Carolina Marz\\u00e1n\", \"x1\": -1.941010529732225, \"x2\": -0.1688152986530004, \"party\": \"PPD\", \"pact\": \"La Fuerza de la Mayor\\u00eda\", \"ideology\": \"izquierda\"}, {\"name\": \"Leonardo Soto\", \"x1\": -1.8151354218206737, \"x2\": -0.1629015695047922, \"party\": \"PS\", \"pact\": \"La Fuerza de la Mayor\\u00eda\", \"ideology\": \"izquierda\"}, {\"name\": \"V\\u00edctor Torres\", \"x1\": -1.5919181279159162, \"x2\": -0.357980513382575, \"party\": \"DC\", \"pact\": \"Convergencia Democr\\u00e1tica\", \"ideology\": \"izquierda\"}, {\"name\": \"Andr\\u00e9s Longton\", \"x1\": 1.6634338750981466, \"x2\": -0.1590908169302944, \"party\": \"RN\", \"pact\": \"Chile Vamos\", \"ideology\": \"derecha\"}, {\"name\": \"Marisela Santib\\u00e1\\u00f1ez\", \"x1\": -2.2250984342238387, \"x2\": 0.2374865573613395, \"party\": \"PC\", \"pact\": \"La Fuerza de la Mayor\\u00eda\", \"ideology\": \"izquierda\"}, {\"name\": \"Jenny Alvarez\", \"x1\": -1.9280581761981104, \"x2\": -0.0870893564994864, \"party\": \"PS\", \"pact\": \"La Fuerza de la Mayor\\u00eda\", \"ideology\": \"izquierda\"}, {\"name\": \"Pedro Pablo Alvarez-Salamanca\", \"x1\": 1.60056159663291, \"x2\": -0.1204912579952343, \"party\": \"UDI\", \"pact\": \"Chile Vamos\", \"ideology\": \"derecha\"}, {\"name\": \"Ra\\u00fal Leiva\", \"x1\": -1.863631530999028, \"x2\": -0.1763839674657785, \"party\": \"PS\", \"pact\": \"La Fuerza de la Mayor\\u00eda\", \"ideology\": \"izquierda\"}, {\"name\": \"Fernando Meza\", \"x1\": -0.0971084851475759, \"x2\": -0.5061232058457413, \"party\": \"PR\", \"pact\": \"La Fuerza de la Mayor\\u00eda\", \"ideology\": \"izquierda\"}, {\"name\": \"Vlado Mirosevic\", \"x1\": -2.00160231001592, \"x2\": 0.0797846564061048, \"party\": \"PL\", \"pact\": \"Frente Amplio\", \"ideology\": \"izquierda\"}, {\"name\": \"Manuel Monsalve\", \"x1\": -1.9738657491849945, \"x2\": -0.0702284516025885, \"party\": \"PS\", \"pact\": \"La Fuerza de la Mayor\\u00eda\", \"ideology\": \"izquierda\"}, {\"name\": \"Iv\\u00e1n Flores\", \"x1\": -0.7090432216427728, \"x2\": -0.4172548230947701, \"party\": \"DC\", \"pact\": \"Convergencia Democr\\u00e1tica\", \"ideology\": \"izquierda\"}, {\"name\": \"Mario Venegas\", \"x1\": -0.8314404554050489, \"x2\": -0.3657354322182335, \"party\": \"DC\", \"pact\": \"Convergencia Democr\\u00e1tica\", \"ideology\": \"izquierda\"}, {\"name\": \"Ren\\u00e9 Manuel Garc\\u00eda\", \"x1\": 1.9491046403175247, \"x2\": 0.0796660322084145, \"party\": \"RN\", \"pact\": \"Chile Vamos\", \"ideology\": \"derecha\"}, {\"name\": \"Diego Paulsen\", \"x1\": 2.152483544214047, \"x2\": 0.3418222422165663, \"party\": \"RN\", \"pact\": \"Chile Vamos\", \"ideology\": \"derecha\"}, {\"name\": \"Jos\\u00e9 P\\u00e9rez\", \"x1\": -0.5341801434742856, \"x2\": -0.3574662896095508, \"party\": \"PR\", \"pact\": \"La Fuerza de la Mayor\\u00eda\", \"ideology\": \"izquierda\"}, {\"name\": \"Karim Bianchi\", \"x1\": -1.1629697571391062, \"x2\": -0.1212092853328626, \"party\": \"PR\", \"pact\": \"La Fuerza de la Mayor\\u00eda\", \"ideology\": \"izquierda\"}, {\"name\": \"Paulina N\\u00fa\\u00f1ez\", \"x1\": 1.976625716741083, \"x2\": 0.0945031496850772, \"party\": \"RN\", \"pact\": \"Chile Vamos\", \"ideology\": \"derecha\"}, {\"name\": \"Manuel Matta\", \"x1\": -0.0227342481266015, \"x2\": -0.4530117131364501, \"party\": \"DC\", \"pact\": \"Convergencia Democr\\u00e1tica\", \"ideology\": \"izquierda\"}, {\"name\": \"Fidel Espinoza\", \"x1\": -1.6414301692377669, \"x2\": -0.146698949307529, \"party\": \"PS\", \"pact\": \"La Fuerza de la Mayor\\u00eda\", \"ideology\": \"izquierda\"}, {\"name\": \"Jaime Bellolio / Nora Cuevas\", \"x1\": 1.8092237713986288, \"x2\": -0.0526142466777198, \"party\": \"UDI\", \"pact\": \"Chile Vamos\", \"ideology\": \"derecha\"}, {\"name\": \"Marcela Sabat / Tom\\u00e1s Fuentes\", \"x1\": 1.8193663373199307, \"x2\": -0.0836802956346552, \"party\": \"RN\", \"pact\": \"Chile Vamos\", \"ideology\": \"derecha\"}, {\"name\": \"Mario Desbordes / Camilo Mor\\u00e1n\", \"x1\": 1.889602724947912, \"x2\": 0.0295910607567785, \"party\": \"RN\", \"pact\": \"Chile Vamos\", \"ideology\": \"derecha\"}, {\"name\": \"Hugo Guti\\u00e9rrez / Rub\\u00e9n Moraga\", \"x1\": -2.258000867767441, \"x2\": 0.2890329811011924, \"party\": \"PC\", \"pact\": \"La Fuerza de la Mayor\\u00eda\", \"ideology\": \"izquierda\"}, {\"name\": \" Renato Gar\\u00edn / Marcela Sandoval\", \"x1\": -2.0216573717207886, \"x2\": 0.1862719235317648, \"party\": \"RD\", \"pact\": \"Frente Amplio\", \"ideology\": \"izquierda\"}, {\"name\": \"Loreto Carvajal / Patricia Rubio\", \"x1\": -1.856898411284163, \"x2\": -0.1498703375448886, \"party\": \"PPD\", \"pact\": \"La Fuerza de la Mayor\\u00eda\", \"ideology\": \"izquierda\"}, {\"name\": \" Patricio Melero / Cristian Labb\\u00e9\", \"x1\": 2.13787862638648, \"x2\": 0.3278249271873952, \"party\": \"UDI\", \"pact\": \"Chile Vamos\", \"ideology\": \"derecha\"}, {\"name\": \"Issa Kort / Juan Manuel Masferrer\", \"x1\": 2.010461302427614, \"x2\": 0.2112002639074055, \"party\": \"UDI\", \"pact\": \"Chile Vamos\", \"ideology\": \"derecha\"}, {\"name\": \"Jorge Alessandri\", \"x1\": 2.067330641257543, \"x2\": 0.2523750808872211, \"party\": \"UDI\", \"pact\": \"Chile Vamos\", \"ideology\": \"derecha\"}]}}, {\"mode\": \"vega-lite\"});\n",
       "</script>"
      ],
      "text/plain": [
       "alt.Chart(...)"
      ]
     },
     "execution_count": 5,
     "metadata": {},
     "output_type": "execute_result"
    }
   ],
   "source": [
    "import altair as alt\n",
    "alt.Chart(df.reset_index()).mark_point().encode(\n",
    "    x='x1', y='x2', color='pact', tooltip='name'\n",
    ").interactive()"
   ]
  },
  {
   "cell_type": "markdown",
   "metadata": {
    "id": "vhO_QsPb1dVS"
   },
   "source": [
    "### [0.5 puntos] Separar el dataset en X e y\n",
    "A partir del dataset, genera dos datasets:\n",
    "- X, contiene las características `x1`, `x2`\n",
    "- y, contiene las columnas con los labels `party`, `pact`, `ideology`\n"
   ]
  },
  {
   "cell_type": "code",
   "execution_count": 6,
   "metadata": {
    "id": "iH4k4U44Vi2v"
   },
   "outputs": [],
   "source": [
    "X = df[['x1', 'x2']]\n",
    "y = df[['party', 'pact', 'ideology']]"
   ]
  },
  {
   "cell_type": "markdown",
   "metadata": {
    "id": "Ym296FkQfw7t"
   },
   "source": [
    "### [0.5 puntos] Generar los datasets de train y test\n",
    "A través del método `train_test_split` de `sklearn`, separa los datasets `X` e `y` en un conjunto de entrenamiento y otro de test. Este método tiene ciertos parámetros que queremos que incluyas:\n",
    "- el tamaño del set de test debe ser de un 20% del original\n",
    "- ocupar un random_state de 11\n",
    "- estratificar por partido"
   ]
  },
  {
   "cell_type": "code",
   "execution_count": 7,
   "metadata": {
    "id": "n-Od3b2_VZ9W"
   },
   "outputs": [],
   "source": [
    "from sklearn.model_selection import train_test_split\n",
    "\n",
    "X_train, X_test, y_train, y_test = train_test_split(X, y, train_size=.8, random_state=11, stratify=y.party)"
   ]
  },
  {
   "cell_type": "markdown",
   "metadata": {
    "id": "HHSX0Y7-grHj"
   },
   "source": [
    "## [1.5 puntos] Función knn_classifier\n",
    "Construye una función `knn_classifier` que dado un cierto `k` y una columna de y `y_col`, entrena con el set de train un modelo con `KNeighborsClassifier` de `sklearn` y luego predice con el set de test. debe retornar un dataframe de dos columnas: `pred` que es la clase predicha para cada diputado del set de test y `real` que es el cluster real al que pertenece ese legislador.\n"
   ]
  },
  {
   "cell_type": "code",
   "execution_count": 8,
   "metadata": {
    "id": "dMVKLDPacT7z"
   },
   "outputs": [],
   "source": [
    "from sklearn.neighbors import KNeighborsClassifier\n",
    "\n",
    "def knn_classifier(k, y_col):\n",
    "    global X_train, X_test, y_train, y_test\n",
    "    \n",
    "    knn  = KNeighborsClassifier(n_neighbors=k).fit(X_train, y_train[y_col])\n",
    "    pred = knn.predict(X_test)\n",
    "    \n",
    "    df = pd.DataFrame({'pred': pred, 'real': y_test[y_col]})\n",
    "    \n",
    "    return df"
   ]
  },
  {
   "cell_type": "markdown",
   "metadata": {
    "id": "7EGScnTHhRsE"
   },
   "source": [
    "## [0.5 puntos] Clasificación de Gabriel Boric y Diego Paulsen\n",
    "Utiliza la función que creaste en el paso anterior para entrenar un modelo con `k=5` y que clasifique según el partido. Según el modelo entrenado\n",
    "- ¿A qué partido pertenecería Gabriel Boric, actual Presidente de Chile?\n",
    "- ¿A qué partido pertenecería Diego Paulsen, ex Presidente del Congreso?"
   ]
  },
  {
   "cell_type": "code",
   "execution_count": 9,
   "metadata": {
    "id": "1RCBCKOWhRCN"
   },
   "outputs": [],
   "source": [
    "party_preds = knn_classifier(5, 'party')\n",
    "boric_pred  = party_preds[party_preds.index == 'Gabriel Boric']\n",
    "diego_pred  = party_preds[party_preds.index == 'Diego Paulsen']"
   ]
  },
  {
   "cell_type": "markdown",
   "metadata": {
    "id": "BNgQ_uzI6DSV"
   },
   "source": [
    "Escribe acá tus respuestas:\n",
    "- Boric: PC\n",
    "- Paulsen: UNI"
   ]
  },
  {
   "cell_type": "markdown",
   "metadata": {
    "id": "axQ54CKD9PaK"
   },
   "source": [
    "## [0.5 puntos] Matriz de confusión\n",
    "A partir del modelo anterior, grafica la matriz de confusión utilizando la librería de visualización que prefieras. En el eje x deben ir las clases predichas, mientras que en el eje y las reales. "
   ]
  },
  {
   "cell_type": "code",
   "execution_count": 10,
   "metadata": {
    "id": "5BKuCUuO9Nza",
    "scrolled": false
   },
   "outputs": [
    {
     "data": {
      "text/plain": [
       "<AxesSubplot:>"
      ]
     },
     "execution_count": 10,
     "metadata": {},
     "output_type": "execute_result"
    },
    {
     "data": {
      "image/png": "[encoded data removed]",
      "text/plain": [
       "<Figure size 720x504 with 2 Axes>"
      ]
     },
     "metadata": {
      "needs_background": "light"
     },
     "output_type": "display_data"
    }
   ],
   "source": [
    "import matplotlib.pyplot as plt\n",
    "import seaborn as sn\n",
    "from sklearn.metrics import confusion_matrix\n",
    "\n",
    "mapper = dict()\n",
    "cont   = 0\n",
    "for x in df.party.unique():\n",
    "    mapper[x] = cont\n",
    "    cont += 1\n",
    "    \n",
    "c_party_preds = party_preds.copy()\n",
    "\n",
    "cM = confusion_matrix(c_party_preds.pred, c_party_preds.real)\n",
    "cM_df = pd.DataFrame(columns=c_party_preds.real.unique(), data=cM)\n",
    "\n",
    "plt.figure(figsize = (10,7))\n",
    "sn.heatmap(cM_df, annot=True)"
   ]
  },
  {
   "cell_type": "markdown",
   "metadata": {
    "id": "sgedJosW6bv7"
   },
   "source": [
    "## [2 puntos] Pruebas de hiperparámetros\n",
    "Dados los `K` de la celda inferior, ahora tienes que probar qué combinación de `k` y `y_col` da mejores resultados. La métrica que debes utilizar es accuracy."
   ]
  },
  {
   "cell_type": "code",
   "execution_count": 11,
   "metadata": {
    "id": "Q-TBShHm6bBl"
   },
   "outputs": [],
   "source": [
    "K = [1, 2, 3, 5, 7, 10, 15, 20, 35, 50]\n",
    "y_cols = ['party', 'pact', 'ideology']"
   ]
  },
  {
   "cell_type": "code",
   "execution_count": 12,
   "metadata": {
    "id": "ii6iptxvXJPR"
   },
   "outputs": [],
   "source": [
    "accuracies = dict()\n",
    "\n",
    "for col in y_cols:\n",
    "    accuracies[col] = []\n",
    "    for k in K:\n",
    "        result = knn_classifier(k, col)\n",
    "        acc = ((result[result.pred == result.real]).shape[0] / result.shape[0])\n",
    "        \n",
    "        accuracies[col].append(acc)"
   ]
  },
  {
   "cell_type": "markdown",
   "metadata": {
    "id": "iEJqsjNx91In"
   },
   "source": [
    "## [0.5 puntos] Graficar resultados de hiperparámetros\n",
    "Utilizando la libería que prefieras, grafica la evolución de la accuracy a través de `k` para cada uno de los 3 `y`. ¿Cuál es el mejor `k` para clasificar según pactos? ¿Por qué crees que en general es bajo el _accuracy_ de clasificar por partido? "
   ]
  },
  {
   "cell_type": "code",
   "execution_count": 13,
   "metadata": {
    "id": "aSVDw4tQac0F"
   },
   "outputs": [
    {
     "data": {
      "image/png": "[encoded data removed]",
      "text/plain": [
       "<Figure size 432x288 with 1 Axes>"
      ]
     },
     "metadata": {
      "needs_background": "light"
     },
     "output_type": "display_data"
    }
   ],
   "source": [
    "import seaborn as sns\n",
    "\n",
    "for col in y_cols:\n",
    "    sns.lineplot(x=K, y=accuracies[col], label=col)"
   ]
  },
  {
   "cell_type": "markdown",
   "metadata": {},
   "source": [
    "RESPUESTA: Justificaria un mal rendimiento al clasificar por partido dado que los clusters se solapan demasiado entre si.\n",
    "(lo mire usando la función que crearon arriba pero cambiado el color a 'party')"
   ]
  }
 ],
 "metadata": {
  "colab": {
   "name": "Actividad 2.ipynb",
   "provenance": []
  },
  "kernelspec": {
   "display_name": "Python 3",
   "language": "python",
   "name": "python3"
  },
  "language_info": {
   "codemirror_mode": {
    "name": "ipython",
    "version": 3
   },
   "file_extension": ".py",
   "mimetype": "text/x-python",
   "name": "python",
   "nbconvert_exporter": "python",
   "pygments_lexer": "ipython3",
   "version": "3.9.1"
  }
 },
 "nbformat": 4,
 "nbformat_minor": 1
}
