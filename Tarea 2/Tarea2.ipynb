{
 "cells": [
  {
   "cell_type": "markdown",
   "metadata": {
    "id": "VK0aZCFHaCOT"
   },
   "source": [
    "Pontificia Universidad Católica de Chile <br>\n",
    "Departamento de Ciencia de la Computación <br>\n",
    "IIC2433 - Minería de Datos\n",
    "<br>\n",
    "\n",
    "<center>\n",
    "    <h2> Tarea 2 </h2>\n",
    "    <h1> Pingüinos de Madagascar y los pingüinos perdidos </h1>\n",
    "    <p>\n",
    "        Profesor Vicente Domínguez<br>\n",
    "        Primer semestre 2022    \n",
    "    </p>\n",
    "    <br>\n",
    "    <img src=\"https://camo.githubusercontent.com/1d187452ac3929cfde8f5760b79f37cc117c1a332227d37a8c50db50d3db632a/68747470733a2f2f616c6c69736f6e686f7273742e6769746875622e696f2f70616c6d657270656e6775696e732f7265666572656e63652f666967757265732f6c7465725f70656e6775696e732e706e67\" width=\"600\"/>\n",
    "</center>\n",
    "\n",
    "<br>\n",
    "\n",
    "---"
   ]
  },
  {
   "cell_type": "markdown",
   "metadata": {
    "id": "FTLJi2cbZ5hi"
   },
   "source": [
    "# Indicaciones"
   ]
  },
  {
   "cell_type": "markdown",
   "metadata": {
    "id": "owh6DlfKZ7Y4"
   },
   "source": [
    "Deberás entregar SOLO el archivo .ipynb en el buzón respectivo en canvas. \n",
    "\n",
    "**IMPORTANTE**: \n",
    "- Se te dará puntaje tanto por código como por la manera en la que respondas las preguntas planteadas. Es decir, si tienes un código perfecto pero este no es explicado o no se responden preguntas asociadas a este, no se tendrá el puntaje completo.\n",
    "- El notebook debe tener todas las celdas de código ejecutadas. Cualquier notebook que no las tenga no podrá ser corregido.\n",
    "- El carácter de esta tarea es **INDIVIDUAL**. Cualquier instancia de copia resultará en un 1,1 como nota de curso.\n"
   ]
  },
  {
   "cell_type": "markdown",
   "metadata": {
    "id": "z65VC-m9aBZX"
   },
   "source": [
    "## Librerías"
   ]
  },
  {
   "cell_type": "markdown",
   "metadata": {
    "id": "v7fylgfOaDse"
   },
   "source": [
    "Librerías aceptadas:\n",
    "- `Numpy`\n",
    "- `Pandas`\n",
    "- `Matplotlib`\n",
    "- `Seaborn`\n",
    "\n",
    "Clases y funciones aceptadas de la librería `sklearn`:\n",
    "- `DecisionTreeClassifier` y `plot_tree` del módulo `tree`\n",
    "- `train_test_split` del módulo `model_selection`\n",
    "- Funciones de los módulos `metrics` y `preprocessing`\n",
    "\n",
    "Librerías y funciones prohibidas:\n",
    "- Cualquier otra función de `sklearn`\n",
    "- *Cualquier otra librería que maneje y prediga datos* \n",
    "\n",
    "<br>\n",
    "\n",
    "---"
   ]
  },
  {
   "cell_type": "markdown",
   "metadata": {
    "id": "SugK90ojjLCl"
   },
   "source": [
    "# Introducción\n",
    "\n",
    "Tu gran amigo Skipper y su equipo se encuentran en una misión super secreta para salvar a los pingüinos del malvado Dr. Espiráculo y su secuaz el Basado Vochi Doménguiz. Una vez que hayan terminado deberán reubicar los pingüinos con sus respectivas familias, es por esto que te pide a ti _-oh gran conocedor de los árboles de decisión y los ensambles-_ que implementes un programa que permita clasificar pingüinos para así reubicar a estos plumíferos en base a sus características.\n",
    "\n",
    "<br>\n",
    "<center>\n",
    "<img src=\"https://misanimales.com/wp-content/uploads/2020/03/pinguinos-madagascar-768x549.jpg?auto=webp&quality=45&width=1920&crop=16:9,smart,safe\" width=\"400\"/>"
   ]
  },
  {
   "cell_type": "markdown",
   "metadata": {
    "id": "FquVE44FLdrS"
   },
   "source": [
    "## Descripción dataset"
   ]
  },
  {
   "cell_type": "markdown",
   "metadata": {
    "id": "qUJMWt-dLjZ4"
   },
   "source": [
    "Para esta tarea utilizarás un dataset compuesto de información sobre pingüinos del archipiélago de Palmer. Estos datos fueron obtenidos a partir de [Kaggle](https://www.kaggle.com/datasets/parulpandey/palmer-archipelago-antarctica-penguin-data?select=penguins_lter.csv) y después de ser preprocesados quedó la siguiente información:\n",
    "- `species`: indica la especie a la que pertenece el pingüino. Este puede tomar 3 valores: Adelie Penguin (_Pygoscelis adeliae_), Chinstrap penguin (_Pygoscelis antarctica_), o Gentoo penguin (_Pygoscelis papua_).\n",
    "- `culmen_length_mm`: longitud en milímetros del pico.\n",
    "- `culmen_depth_mm`: profundidad en milímetros del pico.\n",
    "- `flipper_length_mm`: longitud en milímetros de las aletas.\n",
    "- `body_mass_g`: masa corporal en gramos.\n",
    "- `island`: nombre de la isla donde se ubica. Este puede tomar 3 valores:  Dream, Torgersen, o Biscoe.\n",
    "- `sex`: sexo del pingüino. Este puede tomar dos valores: _female_ o _male_. \n",
    " \n",
    "El dataset fue dividido en un set de entrenamiento y de testeo (_training_ and _testing_ sets), los cuales deberás utilizar de forma correcta a lo largo de toda tu tarea. "
   ]
  },
  {
   "cell_type": "markdown",
   "metadata": {
    "id": "edoga-du1UVG"
   },
   "source": [
    "# Parte 1: Preprocesamiento de los datos (0.5 ptos.)"
   ]
  },
  {
   "cell_type": "markdown",
   "metadata": {
    "id": "MDxpPU961cH7"
   },
   "source": [
    "A continuación, realiza el preprocesamiento de los datos y justifica las decisiones tomadas en el proceso."
   ]
  },
  {
   "cell_type": "code",
   "execution_count": 1,
   "metadata": {},
   "outputs": [],
   "source": [
    "import pandas as pd\n",
    "import numpy as np\n",
    "from sklearn.model_selection import train_test_split"
   ]
  },
  {
   "cell_type": "code",
   "execution_count": 2,
   "metadata": {
    "id": "PCOQ0U-P1XLz"
   },
   "outputs": [],
   "source": [
    "X_train = pd.read_csv('data/X_train.csv')\n",
    "X_test  = pd.read_csv('data/X_test.csv')\n",
    "y_test  = pd.read_csv('data/y_test.csv')\n",
    "y_train = pd.read_csv('data/y_train.csv')"
   ]
  },
  {
   "cell_type": "code",
   "execution_count": 3,
   "metadata": {},
   "outputs": [
    {
     "name": "stdout",
     "output_type": "stream",
     "text": [
      "Null values in X_train: \n",
      " culmen_length_mm     0\n",
      "culmen_depth_mm      0\n",
      "flipper_length_mm    0\n",
      "body_mass_g          0\n",
      "sex                  0\n",
      "island               0\n",
      "dtype: int64 \n",
      "\n",
      "Null values in X_test: \n",
      " culmen_length_mm     0\n",
      "culmen_depth_mm      0\n",
      "flipper_length_mm    0\n",
      "body_mass_g          0\n",
      "sex                  0\n",
      "island               0\n",
      "dtype: int64 \n",
      "\n",
      "Balanceo de clases y_train clase Gentoo penguin (Pygoscelis papua):  0.3547008547008547\n",
      "Balanceo de clases y_train clase Chinstrap penguin (Pygoscelis antarctica):  0.18803418803418803\n",
      "Balanceo de clases y_train clase Adelie Penguin (Pygoscelis adeliae):  0.45726495726495725 \n",
      "\n",
      "Balanceo de clases y_test clase Gentoo penguin (Pygoscelis papua):  0.37\n",
      "Balanceo de clases y_test clase Chinstrap penguin (Pygoscelis antarctica):  0.24\n",
      "Balanceo de clases y_test clase Adelie Penguin (Pygoscelis adeliae):  0.39\n"
     ]
    }
   ],
   "source": [
    "print('Null values in X_train: \\n', X_train.isnull().sum(), '\\n')\n",
    "print('Null values in X_test: \\n', X_test.isnull().sum(), '\\n')\n",
    "\n",
    "print(f'Balanceo de clases y_train clase {y_test.species.unique()[0]}: ', y_train[y_train.species == y_train.species.unique()[0]].shape[0] / y_train.shape[0])\n",
    "print(f'Balanceo de clases y_train clase {y_test.species.unique()[1]}: ', y_train[y_train.species == y_train.species.unique()[1]].shape[0] / y_train.shape[0])\n",
    "print(f'Balanceo de clases y_train clase {y_test.species.unique()[2]}: ', y_train[y_train.species == y_train.species.unique()[2]].shape[0] / y_train.shape[0], '\\n')\n",
    "\n",
    "print(f'Balanceo de clases y_test clase {y_test.species.unique()[0]}: ', y_test[y_test.species == y_test.species.unique()[0]].shape[0] / y_test.shape[0])\n",
    "print(f'Balanceo de clases y_test clase {y_test.species.unique()[1]}: ', y_test[y_test.species == y_test.species.unique()[1]].shape[0] / y_test.shape[0])\n",
    "print(f'Balanceo de clases y_test clase {y_test.species.unique()[2]}: ', y_test[y_test.species == y_test.species.unique()[2]].shape[0] / y_test.shape[0])"
   ]
  },
  {
   "cell_type": "code",
   "execution_count": 4,
   "metadata": {},
   "outputs": [],
   "source": [
    "X_train.sex = (X_train.sex == 'Female').astype(int)\n",
    "X_test.sex  = (X_test.sex  == 'Female').astype(int)"
   ]
  },
  {
   "cell_type": "code",
   "execution_count": 5,
   "metadata": {},
   "outputs": [],
   "source": [
    "def encode_col(row, column, values):\n",
    "    for value in values:\n",
    "        row[value] = (row[column] == value).astype(int)\n",
    "    return row\n",
    "\n",
    "\n",
    "islands = X_train.island.unique()\n",
    "X_train = X_train.groupby(X_train.index).apply(lambda row: encode_col(row, 'island', islands))\n",
    "X_test  = X_test.groupby(X_test.index).apply(lambda row: encode_col(row,'island', islands))\n",
    "\n",
    "del X_train['island']\n",
    "del X_test['island']"
   ]
  },
  {
   "cell_type": "markdown",
   "metadata": {
    "id": "cswWTdd2ZXK6"
   },
   "source": [
    "# Parte 2: Árboles de decisión (1.5 ptos.)\n",
    "\n"
   ]
  },
  {
   "cell_type": "markdown",
   "metadata": {
    "id": "CIG48Og6KhTj"
   },
   "source": [
    "Lo primero que debes realizar es implementar un árbol de decisión que permita clasificar los distintos tipos de pingüinos (`y`) en base a un set datos (`X`). \n",
    " \n",
    "Para esto deberás implementar una clase que tenga los métodos `fit` y `predict`:\n",
    "- El método `fit` recibe un set `X` e `y`, donde `X` corresponde a un DataFrame e `y` es una serie con la clasificación de cada pingüino. A partir de estos datos, genera y almacena un árbol de decisión.\n",
    "- El método `predict` solo recibe un set `X` (del mismo número de dimensiones que el usado para `fit`) y utiliza el árbol generado anteriormente para predecir la clase de cada dato de `X`.\n",
    "\n",
    "El árbol implementado en esta primera parte **NO** debe presentar limitaciones en cuanto a la cantidad de niveles de profundidad que tenga."
   ]
  },
  {
   "cell_type": "code",
   "execution_count": 6,
   "metadata": {
    "id": "0Bh0GJ_QZYm8"
   },
   "outputs": [],
   "source": [
    "from sklearn.tree import DecisionTreeClassifier\n",
    "\n",
    "class DTC:\n",
    "    def __init__(self, max_depth):\n",
    "        self.model = DecisionTreeClassifier(max_depth = max_depth, random_state=0)\n",
    "    \n",
    "    def fit(self, X_train, y_train):\n",
    "        return self.model.fit(X_train, y_train)\n",
    "    \n",
    "    def predict(self, X_test):\n",
    "        return self.model.predict(X_test)\n",
    "\n",
    "dt = DTC(None).fit(X_train, y_train)\n",
    "preds = dt.predict(X_test)"
   ]
  },
  {
   "cell_type": "markdown",
   "metadata": {
    "id": "ffqiR_b_Kzkg"
   },
   "source": [
    "Ahora, implementa un nuevo árbol de decisión (con los mismos métodos `fit` y `predict`), pero limita este árbol para que solo tenga **3 niveles de profundidad.** "
   ]
  },
  {
   "cell_type": "code",
   "execution_count": 7,
   "metadata": {
    "id": "IZ-08t4QK0-k"
   },
   "outputs": [],
   "source": [
    "dt_limited = DTC(3).fit(X_train, y_train)\n",
    "preds_limited = dt_limited.predict(X_test)"
   ]
  },
  {
   "cell_type": "markdown",
   "metadata": {
    "id": "llJyUHAJK_R0"
   },
   "source": [
    "A partir de la implementación de ambos árboles de decisión, responde la siguiente pregunta:\n",
    "> ¿Cuál de los árboles de decisión generó mejores resultados? <br> Justifique su respuesta en base a los resultados del _testing set_ y el uso de métricas de evaluación.  \n",
    "\n",
    "Respuesta: En este caso observando las matrices de confusión es posible observar que dio mejores resultados el árbol sin límites de maximo crecimiento. Yo creo que dependiendo del problema, tamaño del set de testeo y max depth elegido es posible que estos resultados varien, y que no siempre dara mejores resultados a la hora de generalizar en nuevos datos utilizar un max_depth no limitado."
   ]
  },
  {
   "cell_type": "code",
   "execution_count": 8,
   "metadata": {
    "id": "DOpvc1FpRSYA"
   },
   "outputs": [
    {
     "data": {
      "image/png": "[encoded data removed]",
      "text/plain": [
       "<Figure size 432x288 with 2 Axes>"
      ]
     },
     "metadata": {
      "needs_background": "light"
     },
     "output_type": "display_data"
    },
    {
     "data": {
      "image/png": "[encoded data removed]",
      "text/plain": [
       "<Figure size 432x288 with 2 Axes>"
      ]
     },
     "metadata": {
      "needs_background": "light"
     },
     "output_type": "display_data"
    }
   ],
   "source": [
    "import matplotlib.pyplot as plt\n",
    "from sklearn.metrics import ConfusionMatrixDisplay\n",
    "\n",
    "ConfusionMatrixDisplay.from_predictions(y_test, preds, xticks_rotation='vertical')\n",
    "plt.show()\n",
    "\n",
    "ConfusionMatrixDisplay.from_predictions(y_test, preds_limited, xticks_rotation='vertical')\n",
    "plt.show()"
   ]
  },
  {
   "cell_type": "markdown",
   "metadata": {
    "id": "j41IZDCGZjqd"
   },
   "source": [
    "# Parte 3: Random Forest (4 ptos.)"
   ]
  },
  {
   "cell_type": "markdown",
   "metadata": {
    "id": "M15XexbN5r5L"
   },
   "source": [
    "A continuación deberas implementar un _Random Forest_ compuesto por 3 árboles de decisión.\n",
    " \n",
    "Para ello deberás crear la clase `RandomForest` que deberá contener los métodos `fit`, `calculate_oob` y `predict`:\n",
    "- El método `fit` recibe un set `X` e `y`, donde `X` corresponde a un DataFrame e `y` es una serie con la clasificación de cada pingüino. A partir de estos datos, la función genera y almacena los árboles de decisión asociados al _random forest_.\n",
    "Al momento de generar cada árbol de decisión, deberás realizar lo siguiente:\n",
    "    1. Para cada árbol a generar:\n",
    "        1. Obtener un _sample_ aleatorio de 5 de las _features_ que componen `X`.\n",
    "        2. Separa los datos contenidos en `X` e `y` en un set de entrenamiento y otro de testeo.\n",
    "        3. Entrenar el árbol de decisión, en base al set de entrenamiento obtenido en el paso anterior.\n",
    "        4. Almacenar el árbol generado.\n",
    "    2. Calcula el OOB error del árbol.\n",
    "- El método `calculate_oob`, calcula el _Out-of-bag error_ del Random Forest. \n",
    "- El método `predict` recibe un set `X` (del mismo número de dimensiones que el usado para `fit`) y a partir de los árboles de decisión generados predice la clase a la que pertenece de cada dato de `X`.\n"
   ]
  },
  {
   "cell_type": "code",
   "execution_count": 9,
   "metadata": {
    "id": "yFAA5d-XZk6q"
   },
   "outputs": [
    {
     "name": "stdout",
     "output_type": "stream",
     "text": [
      "OOB score: 60 de 78 correctos\n",
      "OOB score: 58 de 78 correctos\n",
      "OOB score: 67 de 78 correctos\n"
     ]
    }
   ],
   "source": [
    "class RandomForest:\n",
    "    def __init__(self):\n",
    "        self.trees = []\n",
    "        self.tree_cols = []\n",
    "    \n",
    "    def calculate_oob(self):\n",
    "        for oB, oB_index in zip(self.OuterBag, self.OuterBag_index):\n",
    "            \n",
    "            preds = []\n",
    "            for i in oB_index:\n",
    "                \n",
    "                \n",
    "                votes = []\n",
    "                for _oB_index, tree, columns in zip(self.OuterBag_index, self.trees, self.tree_cols):\n",
    "                    if i in _oB_index:\n",
    "                        \n",
    "                        # Que vote el arbol\n",
    "                        \n",
    "                        votes.append(tree.predict(self.X[self.X.index == i][columns])[0])\n",
    "                #codigo sacado de stack overlflow, útil para obtener el voto que más se repite\n",
    "                unique, pos = np.unique(votes, return_inverse=True) #Finds all unique elements and their positions\n",
    "                counts = np.bincount(pos)                     #Count the number of each unique element\n",
    "                maxpos = counts.argmax()                      #Finds the positions of the maximum count\n",
    "\n",
    "                preds.append(unique[maxpos])\n",
    "                \n",
    "            real = oB[1].values\n",
    "            real = [r[0] for r in real]\n",
    "            preds = np.asarray(preds)\n",
    "            print('OOB score:', len([1 for x,y in zip(real, preds) if x == y]),'de', len(real), 'correctos')\n",
    "    \n",
    "    def fit(self, X, y):\n",
    "        self.trees = []\n",
    "        self.OuterBag = []\n",
    "        self.OuterBag_index = []\n",
    "        self.X = X\n",
    "        self.y = y\n",
    "        \n",
    "        for i in range(3):\n",
    "            \n",
    "            X_train, X_test, y_train, y_test = train_test_split(X, y, test_size=0.33, stratify=y)\n",
    "            \n",
    "            columns_sample = np.random.choice(X.columns, np.random.randint(1, X.columns.shape[0]))\n",
    "            \n",
    "            _X_train = X_train[columns_sample]\n",
    "            _X_test  = X_test[columns_sample]\n",
    "            \n",
    "            self.trees.append(DTC(3).fit(_X_train, y_train))\n",
    "            self.tree_cols.append(columns_sample)\n",
    "            \n",
    "            self.OuterBag_index.append( _X_test.index)\n",
    "            self.OuterBag.append([_X_test, y_test])\n",
    "            \n",
    "        self.calculate_oob() \n",
    "                \n",
    "    def predict(self, X):\n",
    "        \n",
    "        preds = []\n",
    "        \n",
    "        for tree, columns in zip(self.trees, self.tree_cols):\n",
    "            _X = X[columns]\n",
    "            preds.append(tree.predict(_X))\n",
    "        \n",
    "        votes = []\n",
    "        \n",
    "        for j in range(X.shape[0]):\n",
    "            \n",
    "            v = []\n",
    "            for i in range(len(self.trees)):\n",
    "                v.append(preds[i][j])\n",
    "            votes.append(v)\n",
    "        \n",
    "        final_preds = []\n",
    "        for v in votes:\n",
    "            \n",
    "            unique, pos = np.unique(v, return_inverse=True) #Finds all unique elements and their positions\n",
    "            counts = np.bincount(pos)                     #Count the number of each unique element\n",
    "            maxpos = counts.argmax()                      #Finds the positions of the maximum count\n",
    "\n",
    "            final_preds.append(unique[maxpos])\n",
    "        return final_preds\n",
    "    \n",
    "_rf = RandomForest()\n",
    "_rf.fit(X_train, y_train)       \n",
    "_preds =_rf.predict(X_test)"
   ]
  },
  {
   "cell_type": "code",
   "execution_count": 10,
   "metadata": {},
   "outputs": [
    {
     "data": {
      "image/png": "[encoded data removed]",
      "text/plain": [
       "<Figure size 432x288 with 2 Axes>"
      ]
     },
     "metadata": {
      "needs_background": "light"
     },
     "output_type": "display_data"
    }
   ],
   "source": [
    "ConfusionMatrixDisplay.from_predictions(y_test, _preds, xticks_rotation='vertical')\n",
    "plt.show()"
   ]
  },
  {
   "cell_type": "markdown",
   "metadata": {
    "id": "vzHt4AMX5Ztb"
   },
   "source": [
    "A partir de la implementación del _Random Forest_, responde las siguientes preguntas:\n",
    "> 1. ¿Cuál fue el _Out-of-bag error_ obtenido? ¿Qué se puede hacer para mejorar este valor?\n",
    "\n",
    "Respuesta: Tras correr el código multiples veces el Out-of-bag error se mantuvo bastante bueno (aproximadamente entre 15/78 predicciones fallaban por árbol). Creo que para mejorar esto es necesario aumentar la cantidad de árboles para así disminuir la varianza de la cantidad de árboles que pueden participar en la predicción de un dato que no usaron para entrenar.\n",
    "\n",
    "> 2. Comparando con los resultados, ¿qué método dio mejores resultados?  <br> Justifique su respuesta en base a los resultados del _testing set_ y el uso de métricas de evaluación.  \n",
    "\n",
    "\n",
    "Respuesta: En comparación a los árboles de decisión los resultados se mantuvieron muy similares (quiza un poco peor, pero muy ligeramente). Creo que si tuvieramos un dataset de testeo mayor y un mayor número de arboles de desición en el random forest, entonces utilizar random forest daría mejores resultados."
   ]
  },
  {
   "cell_type": "markdown",
   "metadata": {
    "id": "eZjAQ46Wxusr"
   },
   "source": [
    "# Bonus\n",
    "\n",
    "Esta tarea cuenta con una serie de bonus a los que podrás optar. Cabe recalcar que para optar a estos beneficios la nota de tu tarea (sin bonus) debe ser **igual o superior a 3,95** (sin considerar posibles descuentos)."
   ]
  },
  {
   "cell_type": "markdown",
   "metadata": {
    "id": "ZIBK2KuNetj7"
   },
   "source": [
    "## Meme (1-2 décimas)\n",
    "\n",
    "Haga un meme relacionado a la material del curso. Si es bueno, podrá optar a décimas extra. "
   ]
  },
  {
   "cell_type": "code",
   "execution_count": 12,
   "metadata": {
    "id": "QO23vp-imI-6"
   },
   "outputs": [],
   "source": [
    "# He aquí mi meme :D\n",
    "# https://imgur.com/gallery/WDHnK47"
   ]
  },
  {
   "cell_type": "markdown",
   "metadata": {
    "id": "e6EDTByrezWI"
   },
   "source": [
    "## Random Forest Parámetrizado (3 décimas)\n",
    "\n",
    "A partir del código implementado anteriormente, genere una nueva clase que permita un _Random Forest_ donde los siguientes valores sean **variables de instancia** de clase y, que a su vez, permitan modificar el comportamiento del algoritmo:\n",
    "- `tree_numbers`: int que indica la cantidad de árboles por la que estará compuesto el Random Forest.\n",
    "- `n_features`: int que indica la cantidad de _features_ a considerar para generar el _sample_ de cada árbol de decisión.\n",
    "- `criterion`: string que indica la función a utilizar para medir la calidad de un _split_.\n",
    "- `max_depth`: int que indica la profundidad máxima de los árboles.\n",
    "- `min_sample_split`: int o float que indica la cantidad mínima de _samples_ requeridos para dividir un nodo de los árboles. \n",
    "- `max_features`: int, float o string que indica la cantidad de _features_ a considerar al momento de generar el árbol. \n",
    " \n",
    "A excepción de `tree_numbers` y `n_features` todas estas variables deben ser opcionales, por lo que queda a tu criterio los valores por defecto a utilizar en cada caso. <br><br>\n",
    "\n",
    "Para obtener este beneficio, el bonus debe estar implementado en su totalidad, ya que no se entregará puntaje intermedio. "
   ]
  },
  {
   "cell_type": "code",
   "execution_count": 11,
   "metadata": {
    "id": "yFAA5d-XZk6q"
   },
   "outputs": [],
   "source": [
    "class DTC_Parametrizado:\n",
    "    def __init__(self, max_depth, criterion, min_sample_split, max_features):\n",
    "        self.model = DecisionTreeClassifier(max_depth = max_depth, random_state=0, criterion=criterion, min_samples_split=min_sample_split, max_features=max_features)\n",
    "    \n",
    "    def fit(self, X_train, y_train):\n",
    "        return self.model.fit(X_train, y_train)\n",
    "    \n",
    "    def predict(self, X_test):\n",
    "        return self.model.predict(X_test)\n",
    "\n",
    "\n",
    "class RandomForest_Parametrizado:\n",
    "    def __init__(self, tree_numbers, n_features, max_depth, criterion, min_sample_split, max_features):\n",
    "        self.trees = []\n",
    "        self.tree_cols = []\n",
    "        self.tree_numbers = tree_numbers\n",
    "        self.n_features = n_features\n",
    "        self.max_depth = max_depth\n",
    "        self.criterion = criterion\n",
    "        self.min_sample_split = min_sample_split\n",
    "        self.max_features = max_features\n",
    "    def calculate_oob(self):\n",
    "        for oB, oB_index in zip(self.OuterBag, self.OuterBag_index):\n",
    "            \n",
    "            preds = []\n",
    "            for i in oB_index:\n",
    "                \n",
    "                \n",
    "                votes = []\n",
    "                for _oB_index, tree, columns in zip(self.OuterBag_index, self.trees, self.tree_cols):\n",
    "                    if i in _oB_index:\n",
    "                        \n",
    "                        # Que vote el arbol\n",
    "                        \n",
    "                        votes.append(tree.predict(self.X[self.X.index == i][columns])[0])\n",
    "                # Estas 3 lineas de abajo son un codigo sacado de stack overlflow, me fue útil para obtener la decision más votada\n",
    "                unique, pos = np.unique(votes, return_inverse=True) #Finds all unique elements and their positions\n",
    "                counts = np.bincount(pos)                     #Count the number of each unique element\n",
    "                maxpos = counts.argmax()                      #Finds the positions of the maximum count\n",
    "\n",
    "                preds.append(unique[maxpos])\n",
    "                \n",
    "            real = oB[1].values\n",
    "            real = [r[0] for r in real]\n",
    "            preds = np.asarray(preds)\n",
    "            print('OOB score:', len([1 for x,y in zip(real, preds) if x == y]),'de', len(real), 'correctos')\n",
    "    \n",
    "    def fit(self, X, y):\n",
    "        self.trees = []\n",
    "        self.OuterBag = []\n",
    "        self.OuterBag_index = []\n",
    "        self.X = X\n",
    "        self.y = y\n",
    "        \n",
    "        for i in range(self.tree_numbers):\n",
    "            \n",
    "            X_train, X_test, y_train, y_test = train_test_split(X, y, test_size=0.33, stratify=y)\n",
    "            \n",
    "            columns_sample = np.random.choice(X.columns, self.n_features)\n",
    "            \n",
    "            _X_train = X_train[columns_sample]\n",
    "            _X_test  = X_test[columns_sample]\n",
    "            \n",
    "            self.trees.append(DTC_Parametrizado(self.max_depth, self.criterion, self.min_sample_split, self.max_features).fit(_X_train, y_train))\n",
    "            self.tree_cols.append(columns_sample)\n",
    "            \n",
    "            self.OuterBag_index.append( _X_test.index)\n",
    "            self.OuterBag.append([_X_test, y_test])\n",
    "            \n",
    "        self.calculate_oob() \n",
    "                \n",
    "    def predict(self, X):\n",
    "        \n",
    "        preds = []\n",
    "        \n",
    "        for tree, columns in zip(self.trees, self.tree_cols):\n",
    "            _X = X[columns]\n",
    "            preds.append(tree.predict(_X))\n",
    "        \n",
    "        votes = []\n",
    "        \n",
    "        for j in range(X.shape[0]):\n",
    "            \n",
    "            v = []\n",
    "            for i in range(len(self.trees)):\n",
    "                v.append(preds[i][j])\n",
    "            votes.append(v)\n",
    "        \n",
    "        final_preds = []\n",
    "        for v in votes:\n",
    "            # Estas 3 lineas de abajo son un codigo sacado de stack overlflow, me fue útil para obtener la decision más votada\n",
    "            unique, pos = np.unique(v, return_inverse=True) #Finds all unique elements and their positions\n",
    "            counts = np.bincount(pos)                       #Count the number of each unique element\n",
    "            maxpos = counts.argmax()                        #Finds the positions of the maximum count\n",
    "\n",
    "            final_preds.append(unique[maxpos])\n",
    "        return final_preds"
   ]
  }
 ],
 "metadata": {
  "colab": {
   "collapsed_sections": [],
   "name": "Tarea 2",
   "provenance": []
  },
  "kernelspec": {
   "display_name": "Python 3",
   "language": "python",
   "name": "python3"
  },
  "language_info": {
   "codemirror_mode": {
    "name": "ipython",
    "version": 3
   },
   "file_extension": ".py",
   "mimetype": "text/x-python",
   "name": "python",
   "nbconvert_exporter": "python",
   "pygments_lexer": "ipython3",
   "version": "3.9.5"
  }
 },
 "nbformat": 4,
 "nbformat_minor": 4
}
