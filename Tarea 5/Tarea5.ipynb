{
 "cells": [
  {
   "cell_type": "markdown",
   "metadata": {
    "id": "C6ZTAVOm7KuF"
   },
   "source": [
    "Pontificia Universidad Católica de Chile <br>\n",
    "Departamento de Ciencia de la Computación <br>\n",
    "IIC2433 - Minería de Datos\n",
    "<br>\n",
    "\n",
    "<center>\n",
    "    <h2> Tarea 5 </h2>\n",
    "    <h1> #Constitución </h1>\n",
    "    <p>\n",
    "        Profesor Vicente Domínguez<br>\n",
    "        Primer semestre 2022<br>    \n",
    "        Fecha de entrega: Viernes 1 de Julio a las 22:00hrs.\n",
    "    </p>\n",
    "    <br>\n",
    "</center>\n",
    "\n",
    "<br>\n",
    "\n",
    "---"
   ]
  },
  {
   "cell_type": "markdown",
   "metadata": {
    "id": "oq3P9qnCBYAX"
   },
   "source": [
    "## Disclaimer\n",
    "La intención de esta tarea no es polarizar ni propagar una agenda política. Su objetivo es analizar de manera imparcial los datos que se tienen. Creemos que este es un tema de interés y contingente para todo estudiante, y que es de mucha utilidad mostrarles cómo son aplicables las herramientas enseñadas en el curso en un caso real. Recuerda siempre mantener la cordialidad y objetividad en el momento del análisis.\n",
    "\n",
    "## Disclaimer 2\n",
    "Al leer esto estás de acuerdo con no compartir de forma pública (RR.SS., por ejemplo) la información obtenida de esta tarea ya que es el objeto de estudio (y futura publicación) de un ayudante :)"
   ]
  },
  {
   "cell_type": "markdown",
   "metadata": {
    "id": "Od5FuZFjBWVv"
   },
   "source": [
    "## Un domingo incómodo\n",
    "En tu último almuerzo familiar, nadie pudo disfrutar mucho la comida ya que antes de esta se generó un momento de tensión cuando tu tio se puso a comentar sobre el borrador de constitución que se está haciendo ahora. Su principal comentario fue \"ES IGUAL A LA CONSTITUCIÓN DE VENEZUELA...!!!\" Como buen minero de datos, tú le preguntaste de donde obtuvo esa información. \"DE TWITTER...!!!\" - dijo él. \n",
    "\n",
    "Cuando intentaste demostrarle con hechos y lógica que esto no era cierto te percataste de algo: tú tampoco sabías si esto era cierto o no. Por esto, decidiste utilizar todas tus herramientas de Natural Language Processing recientemente adquiridas para analizar este borrador y compararlo con constituciones previamente existentes. "
   ]
  },
  {
   "cell_type": "markdown",
   "metadata": {
    "id": "r6NevH4ShdEw"
   },
   "source": [
    "## 0. Setup"
   ]
  },
  {
   "cell_type": "code",
   "execution_count": null,
   "metadata": {
    "colab": {
     "base_uri": "https://localhost:8080/"
    },
    "id": "k0wjX2snfXSS",
    "outputId": "d63b2448-76a4-476d-a638-18a3901b7f20",
    "tags": []
   },
   "outputs": [],
   "source": [
    "from IPython.display import clear_output\n",
    "\n",
    "!pip3 uninstall spacy\n",
    "!pip3 install spacy\n",
    "\n",
    "!spacy download es_core_news_lg\n",
    "clear_output()\n",
    "print('Ahora debes reiniciar el entorno de ejecución y ejecutar a partir de la siguiente celda')"
   ]
  },
  {
   "cell_type": "markdown",
   "metadata": {
    "id": "mLY2uFN0hjkm"
   },
   "source": [
    "## 1. Importar librerías y descargar dataset\n",
    "En esta tarea trabajaremos con la librería `spacy` y el pipeline `es_core_news_lg` el cual pesa más de 500 MB y contiene un vocabulario en español de más de medio millón de palabras. Cada una de estas palabras es representable a partir de un vector de 300 dimensiones que nos ayudarán en la tarea. Revisa la [documentación](https://spacy.io/api) documentación de la librería para saber más."
   ]
  },
  {
   "cell_type": "code",
   "execution_count": 1,
   "metadata": {
    "id": "HCxHfQ6VOVoE"
   },
   "outputs": [],
   "source": [
    "import pandas as pd\n",
    "import numpy as np\n",
    "from collections import defaultdict\n",
    "import spacy\n",
    "\n",
    "nlp = spacy.load(\"es_core_news_lg\")"
   ]
  },
  {
   "cell_type": "markdown",
   "metadata": {
    "id": "nvpxolVvBzLz"
   },
   "source": [
    "El siguiente dataframe contiene los artículos de 22 constituciones diferentes de paises americanos y europeos."
   ]
  },
  {
   "cell_type": "code",
   "execution_count": 2,
   "metadata": {
    "id": "N4Ttt8hCisRW"
   },
   "outputs": [
    {
     "data": {
      "text/html": [
       "<div>\n",
       "<style scoped>\n",
       "    .dataframe tbody tr th:only-of-type {\n",
       "        vertical-align: middle;\n",
       "    }\n",
       "\n",
       "    .dataframe tbody tr th {\n",
       "        vertical-align: top;\n",
       "    }\n",
       "\n",
       "    .dataframe thead th {\n",
       "        text-align: right;\n",
       "    }\n",
       "</style>\n",
       "<table border=\"1\" class=\"dataframe\">\n",
       "  <thead>\n",
       "    <tr style=\"text-align: right;\">\n",
       "      <th></th>\n",
       "      <th>country</th>\n",
       "      <th>article</th>\n",
       "      <th>text</th>\n",
       "    </tr>\n",
       "  </thead>\n",
       "  <tbody>\n",
       "    <tr>\n",
       "      <th>0</th>\n",
       "      <td>CHL</td>\n",
       "      <td>Artículo 1</td>\n",
       "      <td>Las personas nacen libres e iguales en dignida...</td>\n",
       "    </tr>\n",
       "    <tr>\n",
       "      <th>1</th>\n",
       "      <td>CHL</td>\n",
       "      <td>Artículo 2</td>\n",
       "      <td>Son emblemas nacionales la bandera nacional, e...</td>\n",
       "    </tr>\n",
       "    <tr>\n",
       "      <th>2</th>\n",
       "      <td>CHL</td>\n",
       "      <td>Artículo 3</td>\n",
       "      <td>El Estado de Chile es unitario. La administrac...</td>\n",
       "    </tr>\n",
       "    <tr>\n",
       "      <th>3</th>\n",
       "      <td>CHL</td>\n",
       "      <td>Artículo 4</td>\n",
       "      <td>Chile es una república democrática.</td>\n",
       "    </tr>\n",
       "    <tr>\n",
       "      <th>4</th>\n",
       "      <td>CHL</td>\n",
       "      <td>Artículo 5</td>\n",
       "      <td>La soberanía reside esencialmente en la Nación...</td>\n",
       "    </tr>\n",
       "    <tr>\n",
       "      <th>...</th>\n",
       "      <td>...</td>\n",
       "      <td>...</td>\n",
       "      <td>...</td>\n",
       "    </tr>\n",
       "    <tr>\n",
       "      <th>5409</th>\n",
       "      <td>CONV</td>\n",
       "      <td>498 Artículo Nuevo</td>\n",
       "      <td>. - Lo dispuesto en el inciso primero del art...</td>\n",
       "    </tr>\n",
       "    <tr>\n",
       "      <th>5410</th>\n",
       "      <td>CONV</td>\n",
       "      <td>499 Artículo 25</td>\n",
       "      <td>. El Estado deberá regular los impactos y efe...</td>\n",
       "    </tr>\n",
       "    <tr>\n",
       "      <th>5411</th>\n",
       "      <td>CONV</td>\n",
       "      <td>500 Artículo 30</td>\n",
       "      <td>. Es deber del Estado contribuir y cooperar i...</td>\n",
       "    </tr>\n",
       "    <tr>\n",
       "      <th>5412</th>\n",
       "      <td>CONV</td>\n",
       "      <td>501 Artículo nuevo</td>\n",
       "      <td>. El Estado tendrá el deber de fijar una Polí...</td>\n",
       "    </tr>\n",
       "    <tr>\n",
       "      <th>5413</th>\n",
       "      <td>CONV</td>\n",
       "      <td>502 Artículo 51</td>\n",
       "      <td>. Es deber del Estado garantizar una educació...</td>\n",
       "    </tr>\n",
       "  </tbody>\n",
       "</table>\n",
       "<p>5393 rows × 3 columns</p>\n",
       "</div>"
      ],
      "text/plain": [
       "     country             article  \\\n",
       "0        CHL          Artículo 1   \n",
       "1        CHL          Artículo 2   \n",
       "2        CHL          Artículo 3   \n",
       "3        CHL          Artículo 4   \n",
       "4        CHL          Artículo 5   \n",
       "...      ...                 ...   \n",
       "5409    CONV  498 Artículo Nuevo   \n",
       "5410    CONV     499 Artículo 25   \n",
       "5411    CONV     500 Artículo 30   \n",
       "5412    CONV  501 Artículo nuevo   \n",
       "5413    CONV     502 Artículo 51   \n",
       "\n",
       "                                                   text  \n",
       "0     Las personas nacen libres e iguales en dignida...  \n",
       "1     Son emblemas nacionales la bandera nacional, e...  \n",
       "2     El Estado de Chile es unitario. La administrac...  \n",
       "3                   Chile es una república democrática.  \n",
       "4     La soberanía reside esencialmente en la Nación...  \n",
       "...                                                 ...  \n",
       "5409   . - Lo dispuesto en el inciso primero del art...  \n",
       "5410   . El Estado deberá regular los impactos y efe...  \n",
       "5411   . Es deber del Estado contribuir y cooperar i...  \n",
       "5412   . El Estado tendrá el deber de fijar una Polí...  \n",
       "5413   . Es deber del Estado garantizar una educació...  \n",
       "\n",
       "[5393 rows x 3 columns]"
      ]
     },
     "execution_count": 2,
     "metadata": {},
     "output_type": "execute_result"
    }
   ],
   "source": [
    "url = 'https://drive.google.com/uc?id=1sl8XOW3gez-Gki5v64ddMRNDy-Pwd9qk'\n",
    "df = pd.read_csv(url, index_col=0)\n",
    "df"
   ]
  },
  {
   "cell_type": "markdown",
   "metadata": {
    "id": "bOBlRt56UgPy"
   },
   "source": [
    "## 2. Preprocesamiento (1.5 puntos)\n",
    "### 2.1 Separar por oraciones\n",
    "Para cada artículo, tienes que separar en oraciones según los delimitadores `.` y `;`. Se espera un dataframe con 3 columnas (country, article, sentence) con más de 35.000 filas."
   ]
  },
  {
   "cell_type": "code",
   "execution_count": 3,
   "metadata": {
    "id": "KOTgcKlZqfR-"
   },
   "outputs": [
    {
     "data": {
      "text/html": [
       "<div>\n",
       "<style scoped>\n",
       "    .dataframe tbody tr th:only-of-type {\n",
       "        vertical-align: middle;\n",
       "    }\n",
       "\n",
       "    .dataframe tbody tr th {\n",
       "        vertical-align: top;\n",
       "    }\n",
       "\n",
       "    .dataframe thead th {\n",
       "        text-align: right;\n",
       "    }\n",
       "</style>\n",
       "<table border=\"1\" class=\"dataframe\">\n",
       "  <thead>\n",
       "    <tr style=\"text-align: right;\">\n",
       "      <th></th>\n",
       "      <th>country</th>\n",
       "      <th>article</th>\n",
       "      <th>text</th>\n",
       "    </tr>\n",
       "  </thead>\n",
       "  <tbody>\n",
       "    <tr>\n",
       "      <th>0</th>\n",
       "      <td>CHL</td>\n",
       "      <td>Artículo 1</td>\n",
       "      <td>Las personas nacen libres e iguales en dignida...</td>\n",
       "    </tr>\n",
       "    <tr>\n",
       "      <th>0</th>\n",
       "      <td>CHL</td>\n",
       "      <td>Artículo 1</td>\n",
       "      <td>La familia es el núcleo fundamental de la soc...</td>\n",
       "    </tr>\n",
       "    <tr>\n",
       "      <th>0</th>\n",
       "      <td>CHL</td>\n",
       "      <td>Artículo 1</td>\n",
       "      <td>El Estado reconoce y ampara a los grupos inte...</td>\n",
       "    </tr>\n",
       "    <tr>\n",
       "      <th>0</th>\n",
       "      <td>CHL</td>\n",
       "      <td>Artículo 1</td>\n",
       "      <td>El Estado está al servicio de la persona huma...</td>\n",
       "    </tr>\n",
       "    <tr>\n",
       "      <th>0</th>\n",
       "      <td>CHL</td>\n",
       "      <td>Artículo 1</td>\n",
       "      <td>Es deber del Estado resguardar la seguridad n...</td>\n",
       "    </tr>\n",
       "    <tr>\n",
       "      <th>...</th>\n",
       "      <td>...</td>\n",
       "      <td>...</td>\n",
       "      <td>...</td>\n",
       "    </tr>\n",
       "    <tr>\n",
       "      <th>0</th>\n",
       "      <td>CONV</td>\n",
       "      <td>501 Artículo nuevo</td>\n",
       "      <td>establecimiento de la carrera profesional por...</td>\n",
       "    </tr>\n",
       "    <tr>\n",
       "      <th>0</th>\n",
       "      <td>CONV</td>\n",
       "      <td>501 Artículo nuevo</td>\n",
       "      <td>y la colaboración entre recintos e infraestru...</td>\n",
       "    </tr>\n",
       "    <tr>\n",
       "      <th>0</th>\n",
       "      <td>CONV</td>\n",
       "      <td>501 Artículo nuevo</td>\n",
       "      <td>”\\n</td>\n",
       "    </tr>\n",
       "    <tr>\n",
       "      <th>0</th>\n",
       "      <td>CONV</td>\n",
       "      <td>502 Artículo 51</td>\n",
       "      <td></td>\n",
       "    </tr>\n",
       "    <tr>\n",
       "      <th>0</th>\n",
       "      <td>CONV</td>\n",
       "      <td>502 Artículo 51</td>\n",
       "      <td>Es deber del Estado garantizar una educación ...</td>\n",
       "    </tr>\n",
       "  </tbody>\n",
       "</table>\n",
       "<p>35461 rows × 3 columns</p>\n",
       "</div>"
      ],
      "text/plain": [
       "   country             article  \\\n",
       "0      CHL          Artículo 1   \n",
       "0      CHL          Artículo 1   \n",
       "0      CHL          Artículo 1   \n",
       "0      CHL          Artículo 1   \n",
       "0      CHL          Artículo 1   \n",
       "..     ...                 ...   \n",
       "0     CONV  501 Artículo nuevo   \n",
       "0     CONV  501 Artículo nuevo   \n",
       "0     CONV  501 Artículo nuevo   \n",
       "0     CONV     502 Artículo 51   \n",
       "0     CONV     502 Artículo 51   \n",
       "\n",
       "                                                 text  \n",
       "0   Las personas nacen libres e iguales en dignida...  \n",
       "0    La familia es el núcleo fundamental de la soc...  \n",
       "0    El Estado reconoce y ampara a los grupos inte...  \n",
       "0    El Estado está al servicio de la persona huma...  \n",
       "0    Es deber del Estado resguardar la seguridad n...  \n",
       "..                                                ...  \n",
       "0    establecimiento de la carrera profesional por...  \n",
       "0    y la colaboración entre recintos e infraestru...  \n",
       "0                                                 ”\\n  \n",
       "0                                                      \n",
       "0    Es deber del Estado garantizar una educación ...  \n",
       "\n",
       "[35461 rows x 3 columns]"
      ]
     },
     "execution_count": 3,
     "metadata": {},
     "output_type": "execute_result"
    }
   ],
   "source": [
    "new_df = pd.DataFrame(columns=['country', 'article', 'text'])\n",
    "\n",
    "def split(text):\n",
    "\n",
    "    splitted = text.split('.')\n",
    "    splitted = [elements for sentences in splitted for elements in sentences.split(';')]\n",
    "    \n",
    "    return splitted\n",
    "    \n",
    "\n",
    "df.text = df.text.apply(lambda row: split(row))\n",
    "\n",
    "for index, row in df.iterrows():\n",
    "    for sentence in row.text:\n",
    "        aux_df = pd.DataFrame({'country': [row.country], 'article': [row.article], 'text': [sentence]})\n",
    "        new_df = pd.concat([new_df, aux_df])\n",
    "new_df"
   ]
  },
  {
   "cell_type": "code",
   "execution_count": 4,
   "metadata": {},
   "outputs": [],
   "source": [
    "df = new_df.reset_index(drop=True)"
   ]
  },
  {
   "cell_type": "markdown",
   "metadata": {
    "id": "vYSimc_lgQVU"
   },
   "source": [
    "### 2.2 Preprocesar oraciones\n",
    "La función `preprocess` toma una oración, la preprocesa y retorna la oración preprocesada (string). El preproceso incluye 6 subprocesos detallados en el código.\n",
    "\n",
    "Hint: Al crear un documento con `nlp(sentence)`, cada palabra de la `sentence` tiene atributos que pueden servir al momento de preprocesar."
   ]
  },
  {
   "cell_type": "code",
   "execution_count": 5,
   "metadata": {
    "id": "eFi8KBJY2_2f"
   },
   "outputs": [
    {
     "data": {
      "text/plain": [
       "'constitución chile persona nacer libre igual dignidad derechos familia núcleo fundamental sociedad'"
      ]
     },
     "execution_count": 5,
     "metadata": {},
     "output_type": "execute_result"
    }
   ],
   "source": [
    "def remove_punctuation(text):\n",
    "    # Elimina toda palabra que sea considerada como una puntuación\n",
    "    text = [token for token in text if not token.is_punct]\n",
    "    return ' '.join(token.text for token in text)\n",
    "\n",
    "def remove_stopwords(words):\n",
    "    # Elimina toda palabra que sea considerada como una stopword a excepción de Estado\n",
    "    text = [word for word in words.split() if not nlp.vocab[word].is_stop]\n",
    "    return ' '.join(word for word in text)\n",
    "\n",
    "def lemmatize(words):\n",
    "    # Lematiza cada palabra\n",
    "    doc = nlp(words)\n",
    "    text = [token.lemma_ for token in doc]\n",
    "    \n",
    "    return ' '.join(word for word in text)\n",
    "\n",
    "def remove_non_alpha(words):\n",
    "    # Elimina palabras que no sean alfanuméricas\n",
    "    doc = nlp(words)\n",
    "    \n",
    "    text = [word for word in doc if word.is_alpha]\n",
    "    return ' '.join(word.text for word in text)\n",
    "    \n",
    "def lower(words):\n",
    "    # Lleva toda palabra a minúsculas\n",
    "    return words.lower()\n",
    "\n",
    "def min_len(words, length=3):\n",
    "    # Elimina palabras que tengan un largo menor a length\n",
    "    text = [word for word in words.split() if len(word) >= length]\n",
    "    return text\n",
    "\n",
    "def preprocess(text):\n",
    "\n",
    "    doc = nlp(text)\n",
    "    tokens = remove_punctuation(doc)\n",
    "    tokens = remove_stopwords(tokens)\n",
    "    tokens = lemmatize(tokens)\n",
    "    tokens = remove_non_alpha(tokens)\n",
    "    tokens = lower(tokens)\n",
    "    tokens = min_len(tokens, length=3)\n",
    "    return ' '.join(tokens).strip()\n",
    "\n",
    "# Este es un ejemplo para que veas si tu preprocesamiento funcionó.\n",
    "new_text = preprocess(\" i Constitución de Chile: Las personas nacen libres e iguales en dignidad y derechos, La familia es el núcleo fundamental de la sociedad.\")\n",
    "new_text"
   ]
  },
  {
   "cell_type": "markdown",
   "metadata": {
    "id": "LNxC_-Irimn2"
   },
   "source": [
    "Una correcta función de preprocesamiento retornaría lo siguiente: \n",
    "\n",
    "`constitución chile persona nacer libre igual dignidad derecho familia núcleo fundamental sociedad`"
   ]
  },
  {
   "cell_type": "markdown",
   "metadata": {
    "id": "fzVGG_xnkMAX"
   },
   "source": [
    "Preprocesa toda oración y guarda este vector en una columna del dataframe principal."
   ]
  },
  {
   "cell_type": "code",
   "execution_count": 6,
   "metadata": {
    "id": "G2qLRiX7iQwP",
    "tags": []
   },
   "outputs": [],
   "source": [
    "df.text = df.text.apply(lambda row: preprocess(row))"
   ]
  },
  {
   "cell_type": "markdown",
   "metadata": {
    "id": "gmNEWR0gka2N"
   },
   "source": [
    "### 2.3 Eliminación de datos nulos o inservibles\n",
    "Elimina datos vacíos y elimina filas con textos de largo pequeño que no son oraciones. Justifica el mínimo de largo seleccionado. "
   ]
  },
  {
   "cell_type": "code",
   "execution_count": 7,
   "metadata": {
    "id": "JVy7rd1ajxir"
   },
   "outputs": [],
   "source": [
    "# Eliminar datos nulos\n",
    "df = df.dropna()"
   ]
  },
  {
   "cell_type": "code",
   "execution_count": 8,
   "metadata": {
    "id": "0O1joO3L6hDq"
   },
   "outputs": [],
   "source": [
    "# Eliminar oraciones de menor largo que tu parámetro seleccionado\n",
    "df = df[df.text.str.count('\\s+') > 5]"
   ]
  },
  {
   "cell_type": "code",
   "execution_count": 9,
   "metadata": {
    "id": "ypfFCV5KEspj"
   },
   "outputs": [],
   "source": [
    "# HINT: te recomendamos fuertemente resetear los índices ahora que ya eliminaste varias filas.\n",
    "df.reset_index(inplace=True, drop=True)"
   ]
  },
  {
   "cell_type": "markdown",
   "metadata": {},
   "source": [
    "**Justificación:** Creo que dada la gran cantidad de oraciones que poseemos (35 mil aprox) podemos darnos el lujo de dropear aquellas oraciones que no cumplan un con un mínimo de 6 palabras en la oración, por otro lado haber conservado textos cortos conlleva a tener oraciones carentes de contexto, lo cual es perjudicial no solo en machine learning si no incluso en la vida real, donde si hacemos la analogía; un humano podría entender algo totalmente disinto a lo que se buscaba explicar si no lee el contexto y solo se deja llevar por un par de palabras de la oración."
   ]
  },
  {
   "cell_type": "markdown",
   "metadata": {
    "id": "l4Twv_UOh6Y2"
   },
   "source": [
    "## 3. Vectorizar oraciones (0.5 puntos)\n",
    "Define una función que dada una oración, retorna un vector que la representa. En esta tarea, el vector de una oración será el promedio de los vectores de cada una de las palabras que fueron preprocesadas de la oración."
   ]
  },
  {
   "cell_type": "code",
   "execution_count": 10,
   "metadata": {
    "id": "0AAbqLO17ZUe"
   },
   "outputs": [],
   "source": [
    "def sentence_vector(text):\n",
    "    doc = nlp(text)\n",
    "    vs = [word.vector for word in doc]\n",
    "    vs = np.array(vs)\n",
    "    \n",
    "    return vs.mean(axis=0)"
   ]
  },
  {
   "cell_type": "markdown",
   "metadata": {
    "id": "C6KGXbFfm3-b"
   },
   "source": [
    "Dada la función, crea un nuevo dataframe que contenga los vectores de cada una de las oraciones."
   ]
  },
  {
   "cell_type": "code",
   "execution_count": 11,
   "metadata": {},
   "outputs": [],
   "source": [
    "# Tu código aquí\n",
    "\n",
    "matrix = df.text.apply(lambda row: sentence_vector(row))"
   ]
  },
  {
   "cell_type": "code",
   "execution_count": 12,
   "metadata": {},
   "outputs": [],
   "source": [
    "n_cols = len(matrix[0])"
   ]
  },
  {
   "cell_type": "code",
   "execution_count": 13,
   "metadata": {},
   "outputs": [],
   "source": [
    "vectorized_df = pd.DataFrame(np.array([x for x in matrix.values]), columns=[f'c{n}' for n in range(n_cols)])"
   ]
  },
  {
   "cell_type": "markdown",
   "metadata": {
    "id": "51DPKg6GnFXz"
   },
   "source": [
    "## 4. Matriz de similitud (1.5 puntos)\n",
    "### 4.1 Obtención matriz de confusión\n",
    "Obtén una matriz que por cada par distintos de oraciones contenga la distancia coseno entre los vectores que representan a cada una. Hint: el método `pairwise_distances`  de `sklearn` realiza esta operación eficientemente y no genera problemas de RAM."
   ]
  },
  {
   "cell_type": "code",
   "execution_count": 14,
   "metadata": {
    "id": "JX04uGoSiefr"
   },
   "outputs": [],
   "source": [
    "from sklearn.metrics import pairwise_distances\n",
    "\n",
    "similarity_matrix = pairwise_distances(vectorized_df, metric = 'cosine')"
   ]
  },
  {
   "cell_type": "markdown",
   "metadata": {
    "id": "NcvohvTOpCpI"
   },
   "source": [
    "### 4.2 Función `print_most_similar`\n",
    "A partir del nombre de un artículo, imprimir cada una de sus oraciones junto con la oración más parecida que detecta la `similarity_matrix` que sea de otra constitución. Además de la oración, debes imprimir el país de origen de la oración seleccionada.\n"
   ]
  },
  {
   "cell_type": "code",
   "execution_count": 15,
   "metadata": {
    "id": "cYCd6Yp1k-1d"
   },
   "outputs": [],
   "source": [
    "def print_most_similar(article, X, matrix):\n",
    "    to_iterate = X[X.article == article]\n",
    "    \n",
    "    for index, row in to_iterate.iterrows():\n",
    "        to_check  = matrix[index][X.country != row.country]\n",
    "        aux_index = np.where(to_check == np.amin(to_check))\n",
    "        most_similar = X[X.country != row.country].loc[aux_index]\n",
    "\n",
    "        print(f'Original text: [{row.country}] {row.text} \\n -Most similar [{most_similar.country.values[0]}] {most_similar.text.values[0]}\\n\\t Cosine similarity {to_check[aux_index]} \\n')"
   ]
  },
  {
   "cell_type": "code",
   "execution_count": 16,
   "metadata": {
    "tags": []
   },
   "outputs": [
    {
     "name": "stdout",
     "output_type": "stream",
     "text": [
      "Original text: [CHL] reconocer amparar grupo intermedio organizar estructura sociedad garantizar adecuado autonomía cumplir fin específico \n",
      " -Most similar [MEX] cámaras abrir sesión ejercer cargo concurrencia mitad número miembro\n",
      "\t Cosine similarity [0.0623191] \n",
      "\n",
      "Original text: [CHL] servicio persona humano finalidad promover común contribuir crear condición social permitir integrante comunidad nacional realización espiritual material pleno respeto derechos garantía constitución establecer \n",
      " -Most similar [MEX] fiscalización ingreso egreso partido político candidato determinar ley\n",
      "\t Cosine similarity [0.04321337] \n",
      "\n",
      "Original text: [CHL] deber resguardar seguridad nacional protección población familia propender fortalecimiento promover integración armónico sector nación asegurar derecho persona participar igualdad oportunidad vida nacional \n",
      " -Most similar [URY] enviar mensaje complementario sustitutivo caso exclusivo proyecto presupuesto nacional veinte entrada proyecto cámara\n",
      "\t Cosine similarity [0.03989959] \n",
      "\n",
      "Original text: [BOL] bolivia constituir unitario social derecho plurinacional comunitario libre independiente soberano democrático intercultural descentralizado autonomía \n",
      " -Most similar [SPA] plazo mes senado disponer vetar enmendar proyecto reducir veinte natural proyecto declarado urgente gobierno congreso diputados\n",
      "\t Cosine similarity [0.05672276] \n",
      "\n",
      "Original text: [BOL] bolivia fundar pluralidad pluralismo político económico jurídico cultural lingüístico proceso integrador país \n",
      " -Most similar [MEX] informe carácter público auditoría incluir monto efectivamente resarcido hacienda pública federal patrimonio ente público federal consecuencia acción fiscalización denuncia penal presentado procedimiento iniciado tribunal federal justicia administrativa\n",
      "\t Cosine similarity [0.07776546] \n",
      "\n",
      "Original text: [VEN] república bolivariana venezuela irrevocablemente libre independiente fundamentar patrimonio moral valor libertad igualdad justicio paz internacional doctrina simón bolívar libertador \n",
      " -Most similar [COL] participar diseño político materia criminal presentar proyecto ley\n",
      "\t Cosine similarity [0.08983648] \n",
      "\n",
      "Original text: [VEN] derecho irrenunciable nación independencia libertad soberanío inmunidad integridad territorial autodeterminación nacional \n",
      " -Most similar [USA] senado único órgano facultado ventilar caso impugnación\n",
      "\t Cosine similarity [0.04332703] \n",
      "\n",
      "Original text: [ECU] aprobar pueblo referéndum aprobatorio constitución política república aplicar norma contenido régimen transición \n",
      " -Most similar [VEN] ley establecer régimen jurídico especial territorio libre determinación habitant aceptación asamblea nacional incorporar república\n",
      "\t Cosine similarity [0.058891] \n",
      "\n",
      "Original text: [COL] colombia social derecho organizado forma república unitario descentralizado autonomía entidad territorial democrático participativo pluralista fundado respeto dignidad humano trabajo solidaridad persona integrar prevalencia interés general \n",
      " -Most similar [ARG] recuperación dicho territorio ejercicio pleno soberanía respetar vida habitant conforme principio derecho internacional constituir objetivo permanente irrenunciable pueblo argentino\n",
      "\t Cosine similarity [0.03595853] \n",
      "\n",
      "Original text: [ARG] nación argentina adoptar gobierno formar representativo republicano federal establecer presente constitución \n",
      " -Most similar [COL] fiscalía general nación entrar funcionar expidar decreto extraordinario organizar establecer procedimiento penal desarrollo facultad concedido asamblea nacional constituyente presidente república\n",
      "\t Cosine similarity [0.06433547] \n",
      "\n",
      "Original text: [SPA] españa constituir social democrático derecho propugnar valor superior ordenamiento jurídico libertad justicio igualdad pluralismo político \n",
      " -Most similar [VEN] venezuela constituir democrático social derecho justicia propugnar valor superior ordenamiento jurídico actuación vida libertad justicio igualdad solidaridad democracia responsabilidad social general preeminencia derechos humanos ético pluralismo político\n",
      "\t Cosine similarity [0.0278517] \n",
      "\n",
      "Original text: [SPA] soberanía nacional residir pueblo español emanar poder \n",
      " -Most similar [SWE] proyecto ley presupuestario presentar tardar septiembre año elección riksdag septiembre\n",
      "\t Cosine similarity [0.09490967] \n",
      "\n",
      "Original text: [NED] permitir discriminación raózn religión creenciar ideologíar convicción político raza sexo consideración \n",
      " -Most similar [SPA] español igual ley prevalecer discriminación razón nacimiento raza sexo religión opinión condición circunstancio personal social\n",
      "\t Cosine similarity [0.06320566] \n",
      "\n"
     ]
    }
   ],
   "source": [
    "print_most_similar('Artículo 1', df, similarity_matrix)"
   ]
  },
  {
   "cell_type": "markdown",
   "metadata": {
    "id": "ecXxlsYvnhkb"
   },
   "source": [
    "### 4.3 Evaluar desempeño\n",
    "Para cada uno de los 3 artículos del borrador, ejecuta la función y **comenta** sobre los resultados. Se espera un breve análisis por cada uno de los artículos. Todas las oraciones de los artículos del borrador de la convención tienen como `country` a `CONV`.\n"
   ]
  },
  {
   "cell_type": "markdown",
   "metadata": {
    "id": "M00W9h6KoDkq"
   },
   "source": [
    "#### 4.3.1 Sobre la definición del Estado en `428 Artículo 1`"
   ]
  },
  {
   "cell_type": "code",
   "execution_count": 17,
   "metadata": {
    "id": "qXy8uVxeoM0x"
   },
   "outputs": [
    {
     "name": "stdout",
     "output_type": "stream",
     "text": [
      "Original text: [CONV] constituir república solidario democracia paritario reconocer valor intrínseco irrenunciable dignidad libertad igualdad sustantivo ser humano relación indisoluble naturaleza \n",
      " -Most similar [VEN] venezuela constituir democrático social derecho justicia propugnar valor superior ordenamiento jurídico actuación vida libertad justicio igualdad solidaridad democracia responsabilidad social general preeminencia derechos humanos ético pluralismo político\n",
      "\t Cosine similarity [0.08202243] \n",
      "\n",
      "Original text: [CONV] protección garantíar derechos humanos individual colectivo fundamento orientar actividad \n",
      " -Most similar [VEN] formular órgano correspondiente recomendación observación necesario protección derechos humanos desarrollar mecanismo comunicación permanente órgano público privado nacional internacional protección defensa derechos humanos\n",
      "\t Cosine similarity [0.04886037] \n",
      "\n",
      "Original text: [CONV] deber generar condición necesario proveer bien servicio asegurar gozar derechos integración persona vida político económico social cultural pleno desarrollo \n",
      " -Most similar [CHL] servicio persona humano finalidad promover común contribuir crear condición social permitir integrante comunidad nacional realización espiritual material pleno respeto derechos garantía constitución establecer\n",
      "\t Cosine similarity [0.04516768] \n",
      "\n"
     ]
    }
   ],
   "source": [
    "print_most_similar('428 Artículo 1', df, similarity_matrix)"
   ]
  },
  {
   "cell_type": "markdown",
   "metadata": {
    "id": "FL2LPxHs_xOk"
   },
   "source": [
    "(Comenta aquí)\n",
    "El articulo habla sobre los derechos humanos y como estos son necesarios e importantes para la sociedad. La similaridad con otros artículos es evidente y pareciera que todos aluden a lo mismo."
   ]
  },
  {
   "cell_type": "markdown",
   "metadata": {
    "id": "yC0JD1mkokLZ"
   },
   "source": [
    "#### 4.3.2 Sobre la plurinacionalidad en `130 Artículo 4°`"
   ]
  },
  {
   "cell_type": "code",
   "execution_count": 18,
   "metadata": {
    "id": "IeGEeOyRhsjg"
   },
   "outputs": [
    {
     "name": "stdout",
     "output_type": "stream",
     "text": [
      "Original text: [CONV] chile plurinacional intercultural reconocer coexistencia diverso nación pueblo marco unidad \n",
      " -Most similar [BOL] educación contribuir fortalecimiento unidad identidad plurinacional identidad desarrollo cultural miembro nación pueblo indígén originario campesino entendimiento enriquecimiento intercultural\n",
      "\t Cosine similarity [0.05722159] \n",
      "\n",
      "Original text: [CONV] pueblo nación indígena preexistent mapuche aymara rapa nui lickanantay quechua colla diaguita chango kawashkar yaghan poder reconocido forma establecer ley \n",
      " -Most similar [CHL] declaración candidatura individual caso pueblo mapuche aimara diaguita deber contar patrocinio comunidad asociación indígena registrado corporación nacional desarrollo indígena cacicazgo tradicional reconocido ley\n",
      "\t Cosine similarity [0.15329045] \n",
      "\n"
     ]
    }
   ],
   "source": [
    "print_most_similar('130 Artículo 4°', df, similarity_matrix)"
   ]
  },
  {
   "cell_type": "markdown",
   "metadata": {
    "id": "0bRLXL68_2VX"
   },
   "source": [
    "(Comenta aquí) Los artículos hablan sobre reconocer a las distintas comunidades presentes en nuestro pais para promover la plurinacionalidad. En el caso de Bolivia apuntan a lo mismo pero explican como lograrlo (mediante la educación). Mientras que en Chile tambien se aboga a reconocer la independencia de estos pueblos en el marco de la ley pero solo para un grupo reducido (mapuche, aimara y diaguitas)."
   ]
  },
  {
   "cell_type": "markdown",
   "metadata": {
    "id": "Kncjf7y-o0dl"
   },
   "source": [
    "#### 4.3.3 Sobre el agua en `385 Artículo 26`"
   ]
  },
  {
   "cell_type": "code",
   "execution_count": 19,
   "metadata": {
    "id": "LQ7QlQ-omMDa"
   },
   "outputs": [
    {
     "name": "stdout",
     "output_type": "stream",
     "text": [
      "Original text: [CONV] constitución garantizar persona derecho agua saneamiento suficiente saludable aceptable asequible accesible \n",
      " -Most similar [ECU] recuperar conservar naturaleza mantener ambiente sano sustentable garantizar persona colectividad acceso equitativo permanente calidad agua aire suelo beneficio recurso subsuelo patrimonio natural\n",
      "\t Cosine similarity [0.08489287] \n",
      "\n",
      "Original text: [CONV] inciso velar satisfacción derecho atender necesidad persona distinto contexto \n",
      " -Most similar [ECU] atender principio interés superior derecho prevalecer persona\n",
      "\t Cosine similarity [0.06729835] \n",
      "\n"
     ]
    }
   ],
   "source": [
    "print_most_similar('385 Artículo 26', df, similarity_matrix)"
   ]
  },
  {
   "cell_type": "markdown",
   "metadata": {
    "id": "V61XSdlY_6fi"
   },
   "source": [
    "(Comenta aquí) El artículo habla sobre garantizar el acceso al agua y atender las necesidades de las personas; ambas comparaciones apuntan al mismo tema de trasnfondo."
   ]
  },
  {
   "cell_type": "markdown",
   "metadata": {
    "id": "Y4z1x-nAoDQM"
   },
   "source": [
    "## 5. Algoritmo de similaridad entre Constituciones (2.5 puntos)\n",
    "### 5.1 Implementación `SimilarityCalculator` \n",
    "Dada una constitución, se evalúa la similaridad de los artículos con respecto a otras constituciones a partir de la selección de las k oraciones ajenas más parecidas a cada una de las oraciones que constituyen el artículo. A continuación, se presenta el flujo que se debe implementar.\n",
    "\n",
    "Ejemplo:\n",
    "Una constitución tiene 10 artículos y definimos k=3.\n",
    "- Para el artículo 1 (tiene dos oraciones)\n",
    "    - Para la oración 1\n",
    "        - Identificamos las k=3 oraciones más parecidad de otras constituciones. Ejemplo: `[CHL, BOL, CHL]`\n",
    "\n",
    "    - Para la oración 2\n",
    "      - Identificamos las k=3 oraciones más parecidad de otras constituciones. Ejemplo: `[SWE, CHL, BOL]`\n",
    "\n",
    "    - Juntamos los resultados de cada oración y quedan las frecuencias: `{CHL : 3, BOL : 2, SWE : 1}`.\n",
    "    - Como `CHL` es el país que más se repite, concluimos que Chile  es el país que representa al contenido del artículo.\n",
    "\n",
    "- Realizamos el mismo procedimiento para el resto de los 9 artículos.\n",
    "\n",
    "- Al contabilizar los países escogidos, podrían quedar las siguientes distribuciones: `{CHL : 80%, SPA : 10%, BOL : 10%}`. Es decir, de los 10 artículos, 8 son catalogados por mayoría como chilenos (80%) y 1 corresponde respectivamente a España y Bolivia (10%)\n",
    "- Se debe retornar un pandas dataframe que contenga estas últimas frecuencias en porcentaje.\n",
    "\n",
    "\n"
   ]
  },
  {
   "cell_type": "code",
   "execution_count": 20,
   "metadata": {
    "id": "7Zymu3V6odN9"
   },
   "outputs": [],
   "source": [
    "import collections\n",
    "\n",
    "class SimilarityCalculator:\n",
    "\n",
    "    def __init__(self, df, matrix):\n",
    "\n",
    "        self.df = df\n",
    "        self.matrix = matrix\n",
    "\n",
    "    def calculate(self, country, k=1):\n",
    "        df = self.df\n",
    "        matrix = self.matrix\n",
    "        # Separar X, y: y contiene las oraciones de country, X al resto\n",
    "        X = df[df.country != country].reset_index(drop=True)\n",
    "        y = df[df.country == country]\n",
    "        \n",
    "        countries_pct = []\n",
    "        # Recorre cada artíclo del país\n",
    "        for name, group in y.groupby('article'):\n",
    "            k_countries = []\n",
    "            # Recorre cada oración de un artículo\n",
    "            for index, row in group.iterrows():\n",
    "                # Selecciona las k oraciones de X se se parecen más a la oración\n",
    "                m = matrix[index][df.country != country]\n",
    "                indices = np.argpartition(m, k)[:k]\n",
    "                \n",
    "                k_most_similars = X.loc[indices]\n",
    "                # Guarda los países de las k oraciones seleccionadas (un país de puede repetir)\n",
    "                for c in k_most_similars.country.values:\n",
    "                    k_countries.append(c)\n",
    "            # El país que más se repita al juntar todas las oraciones será el país del artículo\n",
    "            countries_pct.append(collections.Counter(k_countries).most_common(1)[0][0])\n",
    "        # Retorna el porcentaje de que un país en X sea asignado como el más similar a un cierto artículo de country\n",
    "        counter = collections.Counter(countries_pct)\n",
    "        cont = sum(counter.values())\n",
    "        for key in counter.keys():\n",
    "            counter[key] /= cont\n",
    "        df = pd.DataFrame(counter.items()).sort_values(by = 1, ascending = False).T\n",
    "        return df.rename(columns=df.iloc[0]).drop(df.index[0])\n",
    "        \n",
    "\n",
    "# Se instancia la clase que implementaste\n",
    "sim = SimilarityCalculator(df, similarity_matrix)"
   ]
  },
  {
   "cell_type": "markdown",
   "metadata": {
    "id": "H0nJN-f1v3di"
   },
   "source": [
    "### 5.2 Resultados\n",
    "Con un `k=3` muestra la distribución de porcentajes usando a la constitución sueca (`SWE`)."
   ]
  },
  {
   "cell_type": "code",
   "execution_count": 21,
   "metadata": {
    "id": "6pD6skpnv0Py"
   },
   "outputs": [
    {
     "data": {
      "text/html": [
       "<div>\n",
       "<style scoped>\n",
       "    .dataframe tbody tr th:only-of-type {\n",
       "        vertical-align: middle;\n",
       "    }\n",
       "\n",
       "    .dataframe tbody tr th {\n",
       "        vertical-align: top;\n",
       "    }\n",
       "\n",
       "    .dataframe thead th {\n",
       "        text-align: right;\n",
       "    }\n",
       "</style>\n",
       "<table border=\"1\" class=\"dataframe\">\n",
       "  <thead>\n",
       "    <tr style=\"text-align: right;\">\n",
       "      <th></th>\n",
       "      <th>MEX</th>\n",
       "      <th>FIN</th>\n",
       "      <th>CHL</th>\n",
       "      <th>COL</th>\n",
       "      <th>ECU</th>\n",
       "      <th>POR</th>\n",
       "      <th>GRE</th>\n",
       "      <th>BRA</th>\n",
       "      <th>GER</th>\n",
       "      <th>CONV</th>\n",
       "      <th>...</th>\n",
       "      <th>BOL</th>\n",
       "      <th>URY</th>\n",
       "      <th>VEN</th>\n",
       "      <th>SPA</th>\n",
       "      <th>PER</th>\n",
       "      <th>NOR</th>\n",
       "      <th>ARG</th>\n",
       "      <th>NED</th>\n",
       "      <th>ITA</th>\n",
       "      <th>USA</th>\n",
       "    </tr>\n",
       "  </thead>\n",
       "  <tbody>\n",
       "    <tr>\n",
       "      <th>1</th>\n",
       "      <td>0.126506</td>\n",
       "      <td>0.120482</td>\n",
       "      <td>0.100402</td>\n",
       "      <td>0.084337</td>\n",
       "      <td>0.076305</td>\n",
       "      <td>0.068273</td>\n",
       "      <td>0.064257</td>\n",
       "      <td>0.056225</td>\n",
       "      <td>0.054217</td>\n",
       "      <td>0.042169</td>\n",
       "      <td>...</td>\n",
       "      <td>0.03012</td>\n",
       "      <td>0.03012</td>\n",
       "      <td>0.024096</td>\n",
       "      <td>0.018072</td>\n",
       "      <td>0.016064</td>\n",
       "      <td>0.016064</td>\n",
       "      <td>0.014056</td>\n",
       "      <td>0.01004</td>\n",
       "      <td>0.006024</td>\n",
       "      <td>0.004016</td>\n",
       "    </tr>\n",
       "  </tbody>\n",
       "</table>\n",
       "<p>1 rows × 21 columns</p>\n",
       "</div>"
      ],
      "text/plain": [
       "        MEX       FIN       CHL       COL       ECU       POR       GRE  \\\n",
       "1  0.126506  0.120482  0.100402  0.084337  0.076305  0.068273  0.064257   \n",
       "\n",
       "        BRA       GER      CONV  ...      BOL      URY       VEN       SPA  \\\n",
       "1  0.056225  0.054217  0.042169  ...  0.03012  0.03012  0.024096  0.018072   \n",
       "\n",
       "        PER       NOR       ARG      NED       ITA       USA  \n",
       "1  0.016064  0.016064  0.014056  0.01004  0.006024  0.004016  \n",
       "\n",
       "[1 rows x 21 columns]"
      ]
     },
     "execution_count": 21,
     "metadata": {},
     "output_type": "execute_result"
    }
   ],
   "source": [
    "sim.calculate('SWE', k=3)"
   ]
  },
  {
   "cell_type": "markdown",
   "metadata": {
    "id": "K4PfdnKrwVJJ"
   },
   "source": [
    "Realiza lo mismo pero para la constitución venezonala (`VEN`)."
   ]
  },
  {
   "cell_type": "code",
   "execution_count": 22,
   "metadata": {
    "id": "W9cu_CRQI49J"
   },
   "outputs": [
    {
     "data": {
      "text/html": [
       "<div>\n",
       "<style scoped>\n",
       "    .dataframe tbody tr th:only-of-type {\n",
       "        vertical-align: middle;\n",
       "    }\n",
       "\n",
       "    .dataframe tbody tr th {\n",
       "        vertical-align: top;\n",
       "    }\n",
       "\n",
       "    .dataframe thead th {\n",
       "        text-align: right;\n",
       "    }\n",
       "</style>\n",
       "<table border=\"1\" class=\"dataframe\">\n",
       "  <thead>\n",
       "    <tr style=\"text-align: right;\">\n",
       "      <th></th>\n",
       "      <th>ECU</th>\n",
       "      <th>CONV</th>\n",
       "      <th>BOL</th>\n",
       "      <th>COL</th>\n",
       "      <th>MEX</th>\n",
       "      <th>CHL</th>\n",
       "      <th>POR</th>\n",
       "      <th>GRE</th>\n",
       "      <th>BRA</th>\n",
       "      <th>SPA</th>\n",
       "      <th>SWE</th>\n",
       "      <th>PER</th>\n",
       "      <th>FRA</th>\n",
       "      <th>FIN</th>\n",
       "      <th>ITA</th>\n",
       "      <th>GER</th>\n",
       "      <th>ARG</th>\n",
       "      <th>URY</th>\n",
       "      <th>NED</th>\n",
       "    </tr>\n",
       "  </thead>\n",
       "  <tbody>\n",
       "    <tr>\n",
       "      <th>1</th>\n",
       "      <td>0.238372</td>\n",
       "      <td>0.133721</td>\n",
       "      <td>0.119186</td>\n",
       "      <td>0.119186</td>\n",
       "      <td>0.110465</td>\n",
       "      <td>0.06686</td>\n",
       "      <td>0.043605</td>\n",
       "      <td>0.031977</td>\n",
       "      <td>0.031977</td>\n",
       "      <td>0.023256</td>\n",
       "      <td>0.020349</td>\n",
       "      <td>0.014535</td>\n",
       "      <td>0.008721</td>\n",
       "      <td>0.008721</td>\n",
       "      <td>0.008721</td>\n",
       "      <td>0.005814</td>\n",
       "      <td>0.005814</td>\n",
       "      <td>0.005814</td>\n",
       "      <td>0.002907</td>\n",
       "    </tr>\n",
       "  </tbody>\n",
       "</table>\n",
       "</div>"
      ],
      "text/plain": [
       "        ECU      CONV       BOL       COL       MEX      CHL       POR  \\\n",
       "1  0.238372  0.133721  0.119186  0.119186  0.110465  0.06686  0.043605   \n",
       "\n",
       "        GRE       BRA       SPA       SWE       PER       FRA       FIN  \\\n",
       "1  0.031977  0.031977  0.023256  0.020349  0.014535  0.008721  0.008721   \n",
       "\n",
       "        ITA       GER       ARG       URY       NED  \n",
       "1  0.008721  0.005814  0.005814  0.005814  0.002907  "
      ]
     },
     "execution_count": 22,
     "metadata": {},
     "output_type": "execute_result"
    }
   ],
   "source": [
    "sim.calculate('VEN', k=3)"
   ]
  },
  {
   "cell_type": "markdown",
   "metadata": {
    "id": "Go7jiAd7wpJg"
   },
   "source": [
    "Realiza el procedimiento para el borrador de la constitución `CONV`. Además corre otra instancia que no incluya a la constitución actual `CHL`. Lo anterior es debido a un posible bias que tienen ambas al incluir los strings `Chile, chilenos, chilenas` en sus oraciones."
   ]
  },
  {
   "cell_type": "code",
   "execution_count": 23,
   "metadata": {
    "id": "mPtog1IAxOJs"
   },
   "outputs": [
    {
     "data": {
      "text/html": [
       "<div>\n",
       "<style scoped>\n",
       "    .dataframe tbody tr th:only-of-type {\n",
       "        vertical-align: middle;\n",
       "    }\n",
       "\n",
       "    .dataframe tbody tr th {\n",
       "        vertical-align: top;\n",
       "    }\n",
       "\n",
       "    .dataframe thead th {\n",
       "        text-align: right;\n",
       "    }\n",
       "</style>\n",
       "<table border=\"1\" class=\"dataframe\">\n",
       "  <thead>\n",
       "    <tr style=\"text-align: right;\">\n",
       "      <th></th>\n",
       "      <th>ECU</th>\n",
       "      <th>CHL</th>\n",
       "      <th>BOL</th>\n",
       "      <th>COL</th>\n",
       "      <th>VEN</th>\n",
       "      <th>MEX</th>\n",
       "      <th>POR</th>\n",
       "      <th>BRA</th>\n",
       "      <th>PER</th>\n",
       "      <th>SWE</th>\n",
       "      <th>URY</th>\n",
       "      <th>SPA</th>\n",
       "      <th>GER</th>\n",
       "      <th>FRA</th>\n",
       "      <th>GRE</th>\n",
       "      <th>ARG</th>\n",
       "      <th>FIN</th>\n",
       "      <th>NED</th>\n",
       "      <th>ITA</th>\n",
       "    </tr>\n",
       "  </thead>\n",
       "  <tbody>\n",
       "    <tr>\n",
       "      <th>1</th>\n",
       "      <td>0.257143</td>\n",
       "      <td>0.222449</td>\n",
       "      <td>0.114286</td>\n",
       "      <td>0.093878</td>\n",
       "      <td>0.081633</td>\n",
       "      <td>0.063265</td>\n",
       "      <td>0.059184</td>\n",
       "      <td>0.022449</td>\n",
       "      <td>0.016327</td>\n",
       "      <td>0.014286</td>\n",
       "      <td>0.012245</td>\n",
       "      <td>0.012245</td>\n",
       "      <td>0.008163</td>\n",
       "      <td>0.006122</td>\n",
       "      <td>0.006122</td>\n",
       "      <td>0.004082</td>\n",
       "      <td>0.002041</td>\n",
       "      <td>0.002041</td>\n",
       "      <td>0.002041</td>\n",
       "    </tr>\n",
       "  </tbody>\n",
       "</table>\n",
       "</div>"
      ],
      "text/plain": [
       "        ECU       CHL       BOL       COL       VEN       MEX       POR  \\\n",
       "1  0.257143  0.222449  0.114286  0.093878  0.081633  0.063265  0.059184   \n",
       "\n",
       "        BRA       PER       SWE       URY       SPA       GER       FRA  \\\n",
       "1  0.022449  0.016327  0.014286  0.012245  0.012245  0.008163  0.006122   \n",
       "\n",
       "        GRE       ARG       FIN       NED       ITA  \n",
       "1  0.006122  0.004082  0.002041  0.002041  0.002041  "
      ]
     },
     "execution_count": 23,
     "metadata": {},
     "output_type": "execute_result"
    }
   ],
   "source": [
    "sim.calculate('CONV', k=3)"
   ]
  },
  {
   "cell_type": "code",
   "execution_count": 24,
   "metadata": {
    "id": "it9EUKFDxkAx"
   },
   "outputs": [
    {
     "data": {
      "text/html": [
       "<div>\n",
       "<style scoped>\n",
       "    .dataframe tbody tr th:only-of-type {\n",
       "        vertical-align: middle;\n",
       "    }\n",
       "\n",
       "    .dataframe tbody tr th {\n",
       "        vertical-align: top;\n",
       "    }\n",
       "\n",
       "    .dataframe thead th {\n",
       "        text-align: right;\n",
       "    }\n",
       "</style>\n",
       "<table border=\"1\" class=\"dataframe\">\n",
       "  <thead>\n",
       "    <tr style=\"text-align: right;\">\n",
       "      <th></th>\n",
       "      <th>ECU</th>\n",
       "      <th>BOL</th>\n",
       "      <th>VEN</th>\n",
       "      <th>COL</th>\n",
       "      <th>MEX</th>\n",
       "      <th>POR</th>\n",
       "      <th>BRA</th>\n",
       "      <th>URY</th>\n",
       "      <th>GRE</th>\n",
       "      <th>GER</th>\n",
       "      <th>SPA</th>\n",
       "      <th>PER</th>\n",
       "      <th>FRA</th>\n",
       "      <th>SWE</th>\n",
       "      <th>FIN</th>\n",
       "      <th>ARG</th>\n",
       "      <th>NED</th>\n",
       "      <th>ITA</th>\n",
       "    </tr>\n",
       "  </thead>\n",
       "  <tbody>\n",
       "    <tr>\n",
       "      <th>1</th>\n",
       "      <td>0.273469</td>\n",
       "      <td>0.138776</td>\n",
       "      <td>0.114286</td>\n",
       "      <td>0.114286</td>\n",
       "      <td>0.102041</td>\n",
       "      <td>0.073469</td>\n",
       "      <td>0.034694</td>\n",
       "      <td>0.02449</td>\n",
       "      <td>0.022449</td>\n",
       "      <td>0.020408</td>\n",
       "      <td>0.018367</td>\n",
       "      <td>0.012245</td>\n",
       "      <td>0.010204</td>\n",
       "      <td>0.010204</td>\n",
       "      <td>0.010204</td>\n",
       "      <td>0.008163</td>\n",
       "      <td>0.006122</td>\n",
       "      <td>0.006122</td>\n",
       "    </tr>\n",
       "  </tbody>\n",
       "</table>\n",
       "</div>"
      ],
      "text/plain": [
       "        ECU       BOL       VEN       COL       MEX       POR       BRA  \\\n",
       "1  0.273469  0.138776  0.114286  0.114286  0.102041  0.073469  0.034694   \n",
       "\n",
       "       URY       GRE       GER       SPA       PER       FRA       SWE  \\\n",
       "1  0.02449  0.022449  0.020408  0.018367  0.012245  0.010204  0.010204   \n",
       "\n",
       "        FIN       ARG       NED       ITA  \n",
       "1  0.010204  0.008163  0.006122  0.006122  "
      ]
     },
     "execution_count": 24,
     "metadata": {},
     "output_type": "execute_result"
    }
   ],
   "source": [
    "# Instancia sin CHL\n",
    "filtered_similarity_matrix = np.array([x[df.country != 'CHL'] for x in similarity_matrix[df.country != 'CHL']])\n",
    "filtered_df = df[df.country != 'CHL'].reset_index(drop=True)\n",
    "\n",
    "sim_sin_CHL = SimilarityCalculator(filtered_df, filtered_similarity_matrix)\n",
    "sim_sin_CHL.calculate('CONV', k=3)"
   ]
  },
  {
   "cell_type": "markdown",
   "metadata": {
    "id": "yHwY-vDjA8jw"
   },
   "source": [
    "Ahora, haz el mismo análisis para `CHL`, uno considerando `CONV` y otro sin considerarlo"
   ]
  },
  {
   "cell_type": "code",
   "execution_count": 25,
   "metadata": {
    "id": "THUkMyUD3DBC"
   },
   "outputs": [
    {
     "data": {
      "text/html": [
       "<div>\n",
       "<style scoped>\n",
       "    .dataframe tbody tr th:only-of-type {\n",
       "        vertical-align: middle;\n",
       "    }\n",
       "\n",
       "    .dataframe tbody tr th {\n",
       "        vertical-align: top;\n",
       "    }\n",
       "\n",
       "    .dataframe thead th {\n",
       "        text-align: right;\n",
       "    }\n",
       "</style>\n",
       "<table border=\"1\" class=\"dataframe\">\n",
       "  <thead>\n",
       "    <tr style=\"text-align: right;\">\n",
       "      <th></th>\n",
       "      <th>CONV</th>\n",
       "      <th>MEX</th>\n",
       "      <th>COL</th>\n",
       "      <th>POR</th>\n",
       "      <th>VEN</th>\n",
       "      <th>SWE</th>\n",
       "      <th>ECU</th>\n",
       "      <th>URY</th>\n",
       "      <th>GER</th>\n",
       "      <th>BRA</th>\n",
       "      <th>PER</th>\n",
       "      <th>BOL</th>\n",
       "      <th>FRA</th>\n",
       "      <th>FIN</th>\n",
       "      <th>GRE</th>\n",
       "      <th>ARG</th>\n",
       "      <th>ITA</th>\n",
       "    </tr>\n",
       "  </thead>\n",
       "  <tbody>\n",
       "    <tr>\n",
       "      <th>1</th>\n",
       "      <td>0.439189</td>\n",
       "      <td>0.162162</td>\n",
       "      <td>0.081081</td>\n",
       "      <td>0.047297</td>\n",
       "      <td>0.040541</td>\n",
       "      <td>0.040541</td>\n",
       "      <td>0.033784</td>\n",
       "      <td>0.027027</td>\n",
       "      <td>0.02027</td>\n",
       "      <td>0.02027</td>\n",
       "      <td>0.013514</td>\n",
       "      <td>0.013514</td>\n",
       "      <td>0.013514</td>\n",
       "      <td>0.013514</td>\n",
       "      <td>0.013514</td>\n",
       "      <td>0.013514</td>\n",
       "      <td>0.006757</td>\n",
       "    </tr>\n",
       "  </tbody>\n",
       "</table>\n",
       "</div>"
      ],
      "text/plain": [
       "       CONV       MEX       COL       POR       VEN       SWE       ECU  \\\n",
       "1  0.439189  0.162162  0.081081  0.047297  0.040541  0.040541  0.033784   \n",
       "\n",
       "        URY      GER      BRA       PER       BOL       FRA       FIN  \\\n",
       "1  0.027027  0.02027  0.02027  0.013514  0.013514  0.013514  0.013514   \n",
       "\n",
       "        GRE       ARG       ITA  \n",
       "1  0.013514  0.013514  0.006757  "
      ]
     },
     "execution_count": 25,
     "metadata": {},
     "output_type": "execute_result"
    }
   ],
   "source": [
    "sim.calculate('CHL', k=3)"
   ]
  },
  {
   "cell_type": "code",
   "execution_count": 26,
   "metadata": {
    "id": "McRwaJkXBLZR"
   },
   "outputs": [
    {
     "data": {
      "text/html": [
       "<div>\n",
       "<style scoped>\n",
       "    .dataframe tbody tr th:only-of-type {\n",
       "        vertical-align: middle;\n",
       "    }\n",
       "\n",
       "    .dataframe tbody tr th {\n",
       "        vertical-align: top;\n",
       "    }\n",
       "\n",
       "    .dataframe thead th {\n",
       "        text-align: right;\n",
       "    }\n",
       "</style>\n",
       "<table border=\"1\" class=\"dataframe\">\n",
       "  <thead>\n",
       "    <tr style=\"text-align: right;\">\n",
       "      <th></th>\n",
       "      <th>MEX</th>\n",
       "      <th>COL</th>\n",
       "      <th>URY</th>\n",
       "      <th>VEN</th>\n",
       "      <th>ECU</th>\n",
       "      <th>BOL</th>\n",
       "      <th>SWE</th>\n",
       "      <th>POR</th>\n",
       "      <th>GRE</th>\n",
       "      <th>FIN</th>\n",
       "      <th>BRA</th>\n",
       "      <th>SPA</th>\n",
       "      <th>PER</th>\n",
       "      <th>ARG</th>\n",
       "      <th>GER</th>\n",
       "      <th>NED</th>\n",
       "    </tr>\n",
       "  </thead>\n",
       "  <tbody>\n",
       "    <tr>\n",
       "      <th>1</th>\n",
       "      <td>0.283784</td>\n",
       "      <td>0.216216</td>\n",
       "      <td>0.081081</td>\n",
       "      <td>0.067568</td>\n",
       "      <td>0.047297</td>\n",
       "      <td>0.047297</td>\n",
       "      <td>0.047297</td>\n",
       "      <td>0.047297</td>\n",
       "      <td>0.033784</td>\n",
       "      <td>0.027027</td>\n",
       "      <td>0.02027</td>\n",
       "      <td>0.02027</td>\n",
       "      <td>0.02027</td>\n",
       "      <td>0.02027</td>\n",
       "      <td>0.013514</td>\n",
       "      <td>0.006757</td>\n",
       "    </tr>\n",
       "  </tbody>\n",
       "</table>\n",
       "</div>"
      ],
      "text/plain": [
       "        MEX       COL       URY       VEN       ECU       BOL       SWE  \\\n",
       "1  0.283784  0.216216  0.081081  0.067568  0.047297  0.047297  0.047297   \n",
       "\n",
       "        POR       GRE       FIN      BRA      SPA      PER      ARG       GER  \\\n",
       "1  0.047297  0.033784  0.027027  0.02027  0.02027  0.02027  0.02027  0.013514   \n",
       "\n",
       "        NED  \n",
       "1  0.006757  "
      ]
     },
     "execution_count": 26,
     "metadata": {},
     "output_type": "execute_result"
    }
   ],
   "source": [
    "# Instancia sin CONV\n",
    "filtered_similarity_matrix = np.array([x[df.country != 'CONV'] for x in similarity_matrix[df.country != 'CONV']])\n",
    "filtered_df = df[df.country != 'CONV'].reset_index(drop=True)\n",
    "\n",
    "sim_sin_CHL = SimilarityCalculator(filtered_df, filtered_similarity_matrix)\n",
    "sim_sin_CHL.calculate('CHL', k=3)"
   ]
  },
  {
   "cell_type": "markdown",
   "metadata": {
    "id": "CmpvLYzmzJuP"
   },
   "source": [
    "### 5.3 Tweets\n",
    "Con tu misión de análisis completada, decides intentar publicar información verdadera en twitter, para que tu tío pueda leer algo que no sea sólo propaganda política engañosa.\n",
    "\n",
    "A partir de los resultados obtenidos, redacta tres tweets de hasta 140 **caracteres** (no palabras) que agreguen valor a la discusión pública de cara al plebiscito de salida. No debes publicarlos en Twitter, sino que simplemente escribirlos acá. Independiente de tu posición política, esperamos un comentario respetuoso y basado en datos. Puedes expandir tus comentarios a otros países no evaluados en la sección anterior.\n"
   ]
  },
  {
   "cell_type": "code",
   "execution_count": null,
   "metadata": {},
   "outputs": [],
   "source": []
  },
  {
   "cell_type": "markdown",
   "metadata": {
    "id": "GBHcL64r2AMK"
   },
   "source": [
    "### 5.4 Posibles sesgos y mejoras\n",
    "Comenta también sobre posibles sesgos en el preprocesamiento de los datos, la vectorización de las oraciones y del algoritmo de similaridad que implementaste. Para cada uno de los tres casos, propón al menos una mejora."
   ]
  },
  {
   "cell_type": "code",
   "execution_count": null,
   "metadata": {
    "id": "WzYbvVrRR2Vw"
   },
   "outputs": [],
   "source": []
  },
  {
   "cell_type": "markdown",
   "metadata": {
    "id": "Akzb8K9ZV8Qi"
   },
   "source": [
    "## 6. Bonus (hasta un punto extra)\n",
    "Juega con tu creatividad y diseña una visualización interesante que analice datos obtenidos en la tarea. Se espera tanto creatividad como calidad gráfica de la visualización."
   ]
  },
  {
   "cell_type": "code",
   "execution_count": null,
   "metadata": {
    "id": "fm1fc9U_WWQl"
   },
   "outputs": [],
   "source": []
  }
 ],
 "metadata": {
  "colab": {
   "collapsed_sections": [],
   "name": "Tarea5.ipynb",
   "provenance": []
  },
  "kernelspec": {
   "display_name": "Python 3",
   "language": "python",
   "name": "python3"
  },
  "language_info": {
   "codemirror_mode": {
    "name": "ipython",
    "version": 3
   },
   "file_extension": ".py",
   "mimetype": "text/x-python",
   "name": "python",
   "nbconvert_exporter": "python",
   "pygments_lexer": "ipython3",
   "version": "3.9.5"
  }
 },
 "nbformat": 4,
 "nbformat_minor": 4
}
