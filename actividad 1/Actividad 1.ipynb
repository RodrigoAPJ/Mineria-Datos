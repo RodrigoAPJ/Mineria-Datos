{
 "cells": [
  {
   "cell_type": "markdown",
   "metadata": {
    "id": "6v7XWL7UYkfl"
   },
   "source": [
    "# Actividad 1: procesamiento y exploración de datos\n",
    "\n",
    "El objetivo de este taller es procesar los datos que utilizaremos durante el curso y obtener conclusiones relevantes a partir de ellos."
   ]
  },
  {
   "cell_type": "markdown",
   "metadata": {
    "deletable": true,
    "editable": true,
    "id": "SSJIzmTnxmj4"
   },
   "source": [
    "## Algunos comandos relevantes\n",
    "\n",
    "Para desarrollar este taller, usaremos la librería Pandas, que permite manipular datos con facilidad. Con el objetivo de empezar a familiarizarnos con la librería, utilizaremos algunos comandos básicos sobre un conjunto de datos de ejemplo.\n",
    "\n",
    "### Importar la librería"
   ]
  },
  {
   "cell_type": "code",
   "execution_count": 1,
   "metadata": {
    "executionInfo": {
     "elapsed": 786,
     "status": "ok",
     "timestamp": 1647369234423,
     "user": {
      "displayName": "Vicente Domínguez Manquenahuel",
      "photoUrl": "https://lh3.googleusercontent.com/a-/AOh14GiXabAhLeFekacBYKf87zsbE-ccI2VtrdW88a6vAw=s64",
      "userId": "11038388646028607549"
     },
     "user_tz": 180
    },
    "id": "wy5rhvu-yMlW"
   },
   "outputs": [],
   "source": [
    "import pandas as pd"
   ]
  },
  {
   "cell_type": "markdown",
   "metadata": {
    "deletable": true,
    "editable": true,
    "id": "ofUbtsRTyzHZ"
   },
   "source": [
    "### Cargar los datos\n",
    "\n",
    "La librería pandas tiene un método muy conveniente para cargar archivos *.csv*. Ahora lo utilizaremos para cargar un archivo que contiene transacciones de venta realizadas en 2009."
   ]
  },
  {
   "cell_type": "code",
   "execution_count": 2,
   "metadata": {
    "deletable": true,
    "editable": true,
    "executionInfo": {
     "elapsed": 330,
     "status": "ok",
     "timestamp": 1647369270212,
     "user": {
      "displayName": "Vicente Domínguez Manquenahuel",
      "photoUrl": "https://lh3.googleusercontent.com/a-/AOh14GiXabAhLeFekacBYKf87zsbE-ccI2VtrdW88a6vAw=s64",
      "userId": "11038388646028607549"
     },
     "user_tz": 180
    },
    "id": "KXCslQg2xmj4"
   },
   "outputs": [],
   "source": [
    "dataset = pd.read_csv(\"SalesJan2009.csv\")"
   ]
  },
  {
   "cell_type": "markdown",
   "metadata": {
    "deletable": true,
    "editable": true,
    "id": "VIvk84xDxmj4"
   },
   "source": [
    "Con la siguiente línea, podemos observar el contenido del dataset:"
   ]
  },
  {
   "cell_type": "code",
   "execution_count": 3,
   "metadata": {
    "colab": {
     "base_uri": "https://localhost:8080/",
     "height": 554
    },
    "deletable": true,
    "editable": true,
    "executionInfo": {
     "elapsed": 40,
     "status": "ok",
     "timestamp": 1647356930615,
     "user": {
      "displayName": "Tomás González",
      "photoUrl": "https://lh3.googleusercontent.com/a-/AOh14GhTb1NqAg64QHpEefCtJFB-i7HgFmVzMPKLLDl5=s64",
      "userId": "17453457451712675901"
     },
     "user_tz": 180
    },
    "id": "rbHF-jD9xmj5",
    "outputId": "8398d4bf-0788-4acc-b1c6-eedd310bdc66"
   },
   "outputs": [
    {
     "data": {
      "text/html": [
       "<div>\n",
       "<style scoped>\n",
       "    .dataframe tbody tr th:only-of-type {\n",
       "        vertical-align: middle;\n",
       "    }\n",
       "\n",
       "    .dataframe tbody tr th {\n",
       "        vertical-align: top;\n",
       "    }\n",
       "\n",
       "    .dataframe thead th {\n",
       "        text-align: right;\n",
       "    }\n",
       "</style>\n",
       "<table border=\"1\" class=\"dataframe\">\n",
       "  <thead>\n",
       "    <tr style=\"text-align: right;\">\n",
       "      <th></th>\n",
       "      <th>Transaction_date</th>\n",
       "      <th>Product</th>\n",
       "      <th>Price</th>\n",
       "      <th>Payment_Type</th>\n",
       "      <th>Name</th>\n",
       "      <th>City</th>\n",
       "      <th>State</th>\n",
       "      <th>Country</th>\n",
       "      <th>Account_Created</th>\n",
       "      <th>Last_Login</th>\n",
       "      <th>Latitude</th>\n",
       "      <th>Longitude</th>\n",
       "    </tr>\n",
       "  </thead>\n",
       "  <tbody>\n",
       "    <tr>\n",
       "      <th>0</th>\n",
       "      <td>1/2/09 6:17</td>\n",
       "      <td>Product1</td>\n",
       "      <td>1200</td>\n",
       "      <td>Mastercard</td>\n",
       "      <td>carolina</td>\n",
       "      <td>Basildon</td>\n",
       "      <td>England</td>\n",
       "      <td>United Kingdom</td>\n",
       "      <td>1/2/09 6:00</td>\n",
       "      <td>1/2/09 6:08</td>\n",
       "      <td>51.500000</td>\n",
       "      <td>-1.116667</td>\n",
       "    </tr>\n",
       "    <tr>\n",
       "      <th>1</th>\n",
       "      <td>1/2/09 4:53</td>\n",
       "      <td>Product1</td>\n",
       "      <td>1200</td>\n",
       "      <td>Visa</td>\n",
       "      <td>Betina</td>\n",
       "      <td>Parkville</td>\n",
       "      <td>MO</td>\n",
       "      <td>United States</td>\n",
       "      <td>1/2/09 4:42</td>\n",
       "      <td>1/2/09 7:49</td>\n",
       "      <td>39.195000</td>\n",
       "      <td>-94.681940</td>\n",
       "    </tr>\n",
       "    <tr>\n",
       "      <th>2</th>\n",
       "      <td>1/2/09 13:08</td>\n",
       "      <td>Product1</td>\n",
       "      <td>1200</td>\n",
       "      <td>Mastercard</td>\n",
       "      <td>Federica e Andrea</td>\n",
       "      <td>Astoria</td>\n",
       "      <td>OR</td>\n",
       "      <td>United States</td>\n",
       "      <td>1/1/09 16:21</td>\n",
       "      <td>1/3/09 12:32</td>\n",
       "      <td>46.188060</td>\n",
       "      <td>-123.830000</td>\n",
       "    </tr>\n",
       "    <tr>\n",
       "      <th>3</th>\n",
       "      <td>1/3/09 14:44</td>\n",
       "      <td>Product1</td>\n",
       "      <td>1200</td>\n",
       "      <td>Visa</td>\n",
       "      <td>Gouya</td>\n",
       "      <td>Echuca</td>\n",
       "      <td>Victoria</td>\n",
       "      <td>Australia</td>\n",
       "      <td>9/25/05 21:13</td>\n",
       "      <td>1/3/09 14:22</td>\n",
       "      <td>-36.133333</td>\n",
       "      <td>144.750000</td>\n",
       "    </tr>\n",
       "    <tr>\n",
       "      <th>4</th>\n",
       "      <td>1/4/09 12:56</td>\n",
       "      <td>Product2</td>\n",
       "      <td>3600</td>\n",
       "      <td>Visa</td>\n",
       "      <td>Gerd W</td>\n",
       "      <td>Cahaba Heights</td>\n",
       "      <td>AL</td>\n",
       "      <td>United States</td>\n",
       "      <td>11/15/08 15:47</td>\n",
       "      <td>1/4/09 12:45</td>\n",
       "      <td>33.520560</td>\n",
       "      <td>-86.802500</td>\n",
       "    </tr>\n",
       "    <tr>\n",
       "      <th>...</th>\n",
       "      <td>...</td>\n",
       "      <td>...</td>\n",
       "      <td>...</td>\n",
       "      <td>...</td>\n",
       "      <td>...</td>\n",
       "      <td>...</td>\n",
       "      <td>...</td>\n",
       "      <td>...</td>\n",
       "      <td>...</td>\n",
       "      <td>...</td>\n",
       "      <td>...</td>\n",
       "      <td>...</td>\n",
       "    </tr>\n",
       "    <tr>\n",
       "      <th>993</th>\n",
       "      <td>1/22/09 14:25</td>\n",
       "      <td>Product1</td>\n",
       "      <td>1200</td>\n",
       "      <td>Visa</td>\n",
       "      <td>Hans-Joerg</td>\n",
       "      <td>Belfast</td>\n",
       "      <td>Northern Ireland</td>\n",
       "      <td>United Kingdom</td>\n",
       "      <td>11/10/08 12:15</td>\n",
       "      <td>3/1/09 3:37</td>\n",
       "      <td>54.583333</td>\n",
       "      <td>-5.933333</td>\n",
       "    </tr>\n",
       "    <tr>\n",
       "      <th>994</th>\n",
       "      <td>1/28/09 5:36</td>\n",
       "      <td>Product2</td>\n",
       "      <td>3600</td>\n",
       "      <td>Visa</td>\n",
       "      <td>Christiane</td>\n",
       "      <td>Black River</td>\n",
       "      <td>Black River</td>\n",
       "      <td>Mauritius</td>\n",
       "      <td>1/9/09 8:10</td>\n",
       "      <td>3/1/09 4:40</td>\n",
       "      <td>-20.360278</td>\n",
       "      <td>57.366111</td>\n",
       "    </tr>\n",
       "    <tr>\n",
       "      <th>995</th>\n",
       "      <td>1/1/09 4:24</td>\n",
       "      <td>Product3</td>\n",
       "      <td>7500</td>\n",
       "      <td>Amex</td>\n",
       "      <td>Pamela</td>\n",
       "      <td>Skaneateles</td>\n",
       "      <td>NY</td>\n",
       "      <td>United States</td>\n",
       "      <td>12/28/08 17:28</td>\n",
       "      <td>3/1/09 7:21</td>\n",
       "      <td>42.946940</td>\n",
       "      <td>-76.429440</td>\n",
       "    </tr>\n",
       "    <tr>\n",
       "      <th>996</th>\n",
       "      <td>1/8/09 11:55</td>\n",
       "      <td>Product1</td>\n",
       "      <td>1200</td>\n",
       "      <td>Diners</td>\n",
       "      <td>julie</td>\n",
       "      <td>Haverhill</td>\n",
       "      <td>England</td>\n",
       "      <td>United Kingdom</td>\n",
       "      <td>11/29/06 13:31</td>\n",
       "      <td>3/1/09 7:28</td>\n",
       "      <td>52.083333</td>\n",
       "      <td>0.433333</td>\n",
       "    </tr>\n",
       "    <tr>\n",
       "      <th>997</th>\n",
       "      <td>1/12/09 21:30</td>\n",
       "      <td>Product1</td>\n",
       "      <td>1200</td>\n",
       "      <td>Visa</td>\n",
       "      <td>Julia</td>\n",
       "      <td>Madison</td>\n",
       "      <td>WI</td>\n",
       "      <td>United States</td>\n",
       "      <td>11/17/08 22:24</td>\n",
       "      <td>3/1/09 10:14</td>\n",
       "      <td>43.073060</td>\n",
       "      <td>-89.401110</td>\n",
       "    </tr>\n",
       "  </tbody>\n",
       "</table>\n",
       "<p>998 rows × 12 columns</p>\n",
       "</div>"
      ],
      "text/plain": [
       "    Transaction_date   Product  Price Payment_Type               Name  \\\n",
       "0        1/2/09 6:17  Product1   1200   Mastercard           carolina   \n",
       "1        1/2/09 4:53  Product1   1200         Visa             Betina   \n",
       "2       1/2/09 13:08  Product1   1200   Mastercard  Federica e Andrea   \n",
       "3       1/3/09 14:44  Product1   1200         Visa              Gouya   \n",
       "4       1/4/09 12:56  Product2   3600         Visa            Gerd W    \n",
       "..               ...       ...    ...          ...                ...   \n",
       "993    1/22/09 14:25  Product1   1200         Visa         Hans-Joerg   \n",
       "994     1/28/09 5:36  Product2   3600         Visa         Christiane   \n",
       "995      1/1/09 4:24  Product3   7500         Amex             Pamela   \n",
       "996     1/8/09 11:55  Product1   1200       Diners              julie   \n",
       "997    1/12/09 21:30  Product1   1200         Visa             Julia    \n",
       "\n",
       "                             City             State         Country  \\\n",
       "0                        Basildon           England  United Kingdom   \n",
       "1    Parkville                                   MO   United States   \n",
       "2    Astoria                                     OR   United States   \n",
       "3                          Echuca          Victoria       Australia   \n",
       "4    Cahaba Heights                              AL   United States   \n",
       "..                            ...               ...             ...   \n",
       "993                       Belfast  Northern Ireland  United Kingdom   \n",
       "994                   Black River       Black River       Mauritius   \n",
       "995  Skaneateles                                 NY   United States   \n",
       "996                     Haverhill           England  United Kingdom   \n",
       "997  Madison                                     WI   United States   \n",
       "\n",
       "    Account_Created    Last_Login   Latitude   Longitude  \n",
       "0       1/2/09 6:00   1/2/09 6:08  51.500000   -1.116667  \n",
       "1       1/2/09 4:42   1/2/09 7:49  39.195000  -94.681940  \n",
       "2      1/1/09 16:21  1/3/09 12:32  46.188060 -123.830000  \n",
       "3     9/25/05 21:13  1/3/09 14:22 -36.133333  144.750000  \n",
       "4    11/15/08 15:47  1/4/09 12:45  33.520560  -86.802500  \n",
       "..              ...           ...        ...         ...  \n",
       "993  11/10/08 12:15   3/1/09 3:37  54.583333   -5.933333  \n",
       "994     1/9/09 8:10   3/1/09 4:40 -20.360278   57.366111  \n",
       "995  12/28/08 17:28   3/1/09 7:21  42.946940  -76.429440  \n",
       "996  11/29/06 13:31   3/1/09 7:28  52.083333    0.433333  \n",
       "997  11/17/08 22:24  3/1/09 10:14  43.073060  -89.401110  \n",
       "\n",
       "[998 rows x 12 columns]"
      ]
     },
     "execution_count": 3,
     "metadata": {},
     "output_type": "execute_result"
    }
   ],
   "source": [
    "dataset"
   ]
  },
  {
   "cell_type": "markdown",
   "metadata": {
    "deletable": true,
    "editable": true,
    "id": "44bbOvF7xmj5"
   },
   "source": [
    "### Exploración de los datos"
   ]
  },
  {
   "cell_type": "markdown",
   "metadata": {
    "deletable": true,
    "editable": true,
    "id": "qoS-RQ47xmj6"
   },
   "source": [
    "Pandas nos permite además explorar nuestros datos de manera sencilla. Podríamos querer conocer, por ejemplo, las transacciones que se realizaron con tarjeta *Mastercard*."
   ]
  },
  {
   "cell_type": "code",
   "execution_count": 4,
   "metadata": {
    "deletable": true,
    "editable": true,
    "id": "Ju3x-OHxxmj6",
    "tags": []
   },
   "outputs": [],
   "source": [
    "mastercard = dataset[dataset[\"Payment_Type\"] == \"Mastercard\"]"
   ]
  },
  {
   "cell_type": "code",
   "execution_count": 5,
   "metadata": {
    "colab": {
     "base_uri": "https://localhost:8080/",
     "height": 589
    },
    "deletable": true,
    "editable": true,
    "executionInfo": {
     "elapsed": 38,
     "status": "ok",
     "timestamp": 1647356930615,
     "user": {
      "displayName": "Tomás González",
      "photoUrl": "https://lh3.googleusercontent.com/a-/AOh14GhTb1NqAg64QHpEefCtJFB-i7HgFmVzMPKLLDl5=s64",
      "userId": "17453457451712675901"
     },
     "user_tz": 180
    },
    "id": "iyBR7w4jxmj6",
    "outputId": "7107fa3a-1dfc-49e0-ad78-a0f6797682e5"
   },
   "outputs": [
    {
     "data": {
      "text/html": [
       "<div>\n",
       "<style scoped>\n",
       "    .dataframe tbody tr th:only-of-type {\n",
       "        vertical-align: middle;\n",
       "    }\n",
       "\n",
       "    .dataframe tbody tr th {\n",
       "        vertical-align: top;\n",
       "    }\n",
       "\n",
       "    .dataframe thead th {\n",
       "        text-align: right;\n",
       "    }\n",
       "</style>\n",
       "<table border=\"1\" class=\"dataframe\">\n",
       "  <thead>\n",
       "    <tr style=\"text-align: right;\">\n",
       "      <th></th>\n",
       "      <th>Transaction_date</th>\n",
       "      <th>Product</th>\n",
       "      <th>Price</th>\n",
       "      <th>Payment_Type</th>\n",
       "      <th>Name</th>\n",
       "      <th>City</th>\n",
       "      <th>State</th>\n",
       "      <th>Country</th>\n",
       "      <th>Account_Created</th>\n",
       "      <th>Last_Login</th>\n",
       "      <th>Latitude</th>\n",
       "      <th>Longitude</th>\n",
       "    </tr>\n",
       "  </thead>\n",
       "  <tbody>\n",
       "    <tr>\n",
       "      <th>0</th>\n",
       "      <td>1/2/09 6:17</td>\n",
       "      <td>Product1</td>\n",
       "      <td>1200</td>\n",
       "      <td>Mastercard</td>\n",
       "      <td>carolina</td>\n",
       "      <td>Basildon</td>\n",
       "      <td>England</td>\n",
       "      <td>United Kingdom</td>\n",
       "      <td>1/2/09 6:00</td>\n",
       "      <td>1/2/09 6:08</td>\n",
       "      <td>51.500000</td>\n",
       "      <td>-1.116667</td>\n",
       "    </tr>\n",
       "    <tr>\n",
       "      <th>2</th>\n",
       "      <td>1/2/09 13:08</td>\n",
       "      <td>Product1</td>\n",
       "      <td>1200</td>\n",
       "      <td>Mastercard</td>\n",
       "      <td>Federica e Andrea</td>\n",
       "      <td>Astoria</td>\n",
       "      <td>OR</td>\n",
       "      <td>United States</td>\n",
       "      <td>1/1/09 16:21</td>\n",
       "      <td>1/3/09 12:32</td>\n",
       "      <td>46.188060</td>\n",
       "      <td>-123.830000</td>\n",
       "    </tr>\n",
       "    <tr>\n",
       "      <th>6</th>\n",
       "      <td>1/4/09 20:11</td>\n",
       "      <td>Product1</td>\n",
       "      <td>1200</td>\n",
       "      <td>Mastercard</td>\n",
       "      <td>Fleur</td>\n",
       "      <td>Peoria</td>\n",
       "      <td>IL</td>\n",
       "      <td>United States</td>\n",
       "      <td>1/3/09 9:38</td>\n",
       "      <td>1/4/09 19:45</td>\n",
       "      <td>40.693610</td>\n",
       "      <td>-89.588890</td>\n",
       "    </tr>\n",
       "    <tr>\n",
       "      <th>7</th>\n",
       "      <td>1/2/09 20:09</td>\n",
       "      <td>Product1</td>\n",
       "      <td>1200</td>\n",
       "      <td>Mastercard</td>\n",
       "      <td>adam</td>\n",
       "      <td>Martin</td>\n",
       "      <td>TN</td>\n",
       "      <td>United States</td>\n",
       "      <td>1/2/09 17:43</td>\n",
       "      <td>1/4/09 20:01</td>\n",
       "      <td>36.343330</td>\n",
       "      <td>-88.850280</td>\n",
       "    </tr>\n",
       "    <tr>\n",
       "      <th>8</th>\n",
       "      <td>1/4/09 13:17</td>\n",
       "      <td>Product1</td>\n",
       "      <td>1200</td>\n",
       "      <td>Mastercard</td>\n",
       "      <td>Renee Elisabeth</td>\n",
       "      <td>Tel Aviv</td>\n",
       "      <td>Tel Aviv</td>\n",
       "      <td>Israel</td>\n",
       "      <td>1/4/09 13:03</td>\n",
       "      <td>1/4/09 22:10</td>\n",
       "      <td>32.066667</td>\n",
       "      <td>34.766667</td>\n",
       "    </tr>\n",
       "    <tr>\n",
       "      <th>...</th>\n",
       "      <td>...</td>\n",
       "      <td>...</td>\n",
       "      <td>...</td>\n",
       "      <td>...</td>\n",
       "      <td>...</td>\n",
       "      <td>...</td>\n",
       "      <td>...</td>\n",
       "      <td>...</td>\n",
       "      <td>...</td>\n",
       "      <td>...</td>\n",
       "      <td>...</td>\n",
       "      <td>...</td>\n",
       "    </tr>\n",
       "    <tr>\n",
       "      <th>986</th>\n",
       "      <td>1/7/09 17:48</td>\n",
       "      <td>Product1</td>\n",
       "      <td>1200</td>\n",
       "      <td>Mastercard</td>\n",
       "      <td>Alex</td>\n",
       "      <td>Augusta</td>\n",
       "      <td>GA</td>\n",
       "      <td>United States</td>\n",
       "      <td>6/10/05 20:25</td>\n",
       "      <td>2/28/09 19:57</td>\n",
       "      <td>33.517220</td>\n",
       "      <td>-82.075830</td>\n",
       "    </tr>\n",
       "    <tr>\n",
       "      <th>987</th>\n",
       "      <td>1/23/09 12:42</td>\n",
       "      <td>Product2</td>\n",
       "      <td>3600</td>\n",
       "      <td>Mastercard</td>\n",
       "      <td>Anke</td>\n",
       "      <td>Avalon</td>\n",
       "      <td>New South Wales</td>\n",
       "      <td>Australia</td>\n",
       "      <td>3/3/08 17:38</td>\n",
       "      <td>2/28/09 22:26</td>\n",
       "      <td>-33.633333</td>\n",
       "      <td>151.333333</td>\n",
       "    </tr>\n",
       "    <tr>\n",
       "      <th>988</th>\n",
       "      <td>1/7/09 19:48</td>\n",
       "      <td>Product2</td>\n",
       "      <td>3600</td>\n",
       "      <td>Mastercard</td>\n",
       "      <td>TRICIA</td>\n",
       "      <td>Sydney</td>\n",
       "      <td>New South Wales</td>\n",
       "      <td>Australia</td>\n",
       "      <td>9/21/08 20:49</td>\n",
       "      <td>3/1/09 0:14</td>\n",
       "      <td>-33.883333</td>\n",
       "      <td>151.216667</td>\n",
       "    </tr>\n",
       "    <tr>\n",
       "      <th>989</th>\n",
       "      <td>1/26/09 11:19</td>\n",
       "      <td>Product1</td>\n",
       "      <td>1200</td>\n",
       "      <td>Mastercard</td>\n",
       "      <td>smith</td>\n",
       "      <td>Lahti</td>\n",
       "      <td>Etela-Suomen Laani</td>\n",
       "      <td>Finland</td>\n",
       "      <td>1/4/09 5:25</td>\n",
       "      <td>3/1/09 0:39</td>\n",
       "      <td>60.966667</td>\n",
       "      <td>25.666667</td>\n",
       "    </tr>\n",
       "    <tr>\n",
       "      <th>991</th>\n",
       "      <td>1/26/09 13:41</td>\n",
       "      <td>Product1</td>\n",
       "      <td>1200</td>\n",
       "      <td>Mastercard</td>\n",
       "      <td>Lesleigh</td>\n",
       "      <td>Baden</td>\n",
       "      <td>Aargau</td>\n",
       "      <td>Switzerland</td>\n",
       "      <td>10/23/05 9:23</td>\n",
       "      <td>3/1/09 3:11</td>\n",
       "      <td>47.466667</td>\n",
       "      <td>8.300000</td>\n",
       "    </tr>\n",
       "  </tbody>\n",
       "</table>\n",
       "<p>277 rows × 12 columns</p>\n",
       "</div>"
      ],
      "text/plain": [
       "    Transaction_date   Product  Price Payment_Type               Name  \\\n",
       "0        1/2/09 6:17  Product1   1200   Mastercard           carolina   \n",
       "2       1/2/09 13:08  Product1   1200   Mastercard  Federica e Andrea   \n",
       "6       1/4/09 20:11  Product1   1200   Mastercard              Fleur   \n",
       "7       1/2/09 20:09  Product1   1200   Mastercard               adam   \n",
       "8       1/4/09 13:17  Product1   1200   Mastercard    Renee Elisabeth   \n",
       "..               ...       ...    ...          ...                ...   \n",
       "986     1/7/09 17:48  Product1   1200   Mastercard               Alex   \n",
       "987    1/23/09 12:42  Product2   3600   Mastercard               Anke   \n",
       "988     1/7/09 19:48  Product2   3600   Mastercard             TRICIA   \n",
       "989    1/26/09 11:19  Product1   1200   Mastercard              smith   \n",
       "991    1/26/09 13:41  Product1   1200   Mastercard           Lesleigh   \n",
       "\n",
       "                             City               State         Country  \\\n",
       "0                        Basildon             England  United Kingdom   \n",
       "2    Astoria                                       OR   United States   \n",
       "6    Peoria                                        IL   United States   \n",
       "7    Martin                                        TN   United States   \n",
       "8                        Tel Aviv            Tel Aviv          Israel   \n",
       "..                            ...                 ...             ...   \n",
       "986  Augusta                                       GA   United States   \n",
       "987                        Avalon     New South Wales       Australia   \n",
       "988                        Sydney     New South Wales       Australia   \n",
       "989                         Lahti  Etela-Suomen Laani         Finland   \n",
       "991                         Baden              Aargau     Switzerland   \n",
       "\n",
       "    Account_Created     Last_Login   Latitude   Longitude  \n",
       "0       1/2/09 6:00    1/2/09 6:08  51.500000   -1.116667  \n",
       "2      1/1/09 16:21   1/3/09 12:32  46.188060 -123.830000  \n",
       "6       1/3/09 9:38   1/4/09 19:45  40.693610  -89.588890  \n",
       "7      1/2/09 17:43   1/4/09 20:01  36.343330  -88.850280  \n",
       "8      1/4/09 13:03   1/4/09 22:10  32.066667   34.766667  \n",
       "..              ...            ...        ...         ...  \n",
       "986   6/10/05 20:25  2/28/09 19:57  33.517220  -82.075830  \n",
       "987    3/3/08 17:38  2/28/09 22:26 -33.633333  151.333333  \n",
       "988   9/21/08 20:49    3/1/09 0:14 -33.883333  151.216667  \n",
       "989     1/4/09 5:25    3/1/09 0:39  60.966667   25.666667  \n",
       "991   10/23/05 9:23    3/1/09 3:11  47.466667    8.300000  \n",
       "\n",
       "[277 rows x 12 columns]"
      ]
     },
     "execution_count": 5,
     "metadata": {},
     "output_type": "execute_result"
    }
   ],
   "source": [
    "mastercard"
   ]
  },
  {
   "cell_type": "markdown",
   "metadata": {
    "deletable": true,
    "editable": true,
    "id": "Mh3vxK5Wxmj7"
   },
   "source": [
    "Para saber rápidamente cuántas transacciones cumplen con aquella condición, usamos el método ```len```."
   ]
  },
  {
   "cell_type": "code",
   "execution_count": 6,
   "metadata": {
    "colab": {
     "base_uri": "https://localhost:8080/"
    },
    "deletable": true,
    "editable": true,
    "executionInfo": {
     "elapsed": 38,
     "status": "ok",
     "timestamp": 1647356930616,
     "user": {
      "displayName": "Tomás González",
      "photoUrl": "https://lh3.googleusercontent.com/a-/AOh14GhTb1NqAg64QHpEefCtJFB-i7HgFmVzMPKLLDl5=s64",
      "userId": "17453457451712675901"
     },
     "user_tz": 180
    },
    "id": "sODHuAlAxmj7",
    "outputId": "18a479bb-0bdf-41a1-9861-7aecd14b80bb"
   },
   "outputs": [
    {
     "data": {
      "text/plain": [
       "277"
      ]
     },
     "execution_count": 6,
     "metadata": {},
     "output_type": "execute_result"
    }
   ],
   "source": [
    "len(mastercard)"
   ]
  },
  {
   "cell_type": "markdown",
   "metadata": {
    "deletable": true,
    "editable": true,
    "id": "YnitLFgVxmj7"
   },
   "source": [
    "Comparando con el tamaño del dataset original:"
   ]
  },
  {
   "cell_type": "code",
   "execution_count": 7,
   "metadata": {
    "colab": {
     "base_uri": "https://localhost:8080/"
    },
    "deletable": true,
    "editable": true,
    "executionInfo": {
     "elapsed": 33,
     "status": "ok",
     "timestamp": 1647356930616,
     "user": {
      "displayName": "Tomás González",
      "photoUrl": "https://lh3.googleusercontent.com/a-/AOh14GhTb1NqAg64QHpEefCtJFB-i7HgFmVzMPKLLDl5=s64",
      "userId": "17453457451712675901"
     },
     "user_tz": 180
    },
    "id": "kGM06XR-xmj7",
    "outputId": "2b4680c9-cc3d-4835-c9b1-52bddea281f6"
   },
   "outputs": [
    {
     "data": {
      "text/plain": [
       "998"
      ]
     },
     "execution_count": 7,
     "metadata": {},
     "output_type": "execute_result"
    }
   ],
   "source": [
    "len(dataset)"
   ]
  },
  {
   "cell_type": "markdown",
   "metadata": {
    "deletable": true,
    "editable": true,
    "id": "_jOgTl1Dxmj7"
   },
   "source": [
    "También podríamos querer saber cuántas de estas transacciones se realizaron con Mastercard y en Estados Unidos:"
   ]
  },
  {
   "cell_type": "code",
   "execution_count": 8,
   "metadata": {
    "colab": {
     "base_uri": "https://localhost:8080/",
     "height": 467
    },
    "deletable": true,
    "editable": true,
    "executionInfo": {
     "elapsed": 32,
     "status": "ok",
     "timestamp": 1647356930616,
     "user": {
      "displayName": "Tomás González",
      "photoUrl": "https://lh3.googleusercontent.com/a-/AOh14GhTb1NqAg64QHpEefCtJFB-i7HgFmVzMPKLLDl5=s64",
      "userId": "17453457451712675901"
     },
     "user_tz": 180
    },
    "id": "_ynVFLXtxmj8",
    "outputId": "7b69ca5e-4316-421f-c357-b87617660a5f"
   },
   "outputs": [
    {
     "data": {
      "text/html": [
       "<div>\n",
       "<style scoped>\n",
       "    .dataframe tbody tr th:only-of-type {\n",
       "        vertical-align: middle;\n",
       "    }\n",
       "\n",
       "    .dataframe tbody tr th {\n",
       "        vertical-align: top;\n",
       "    }\n",
       "\n",
       "    .dataframe thead th {\n",
       "        text-align: right;\n",
       "    }\n",
       "</style>\n",
       "<table border=\"1\" class=\"dataframe\">\n",
       "  <thead>\n",
       "    <tr style=\"text-align: right;\">\n",
       "      <th></th>\n",
       "      <th>Transaction_date</th>\n",
       "      <th>Product</th>\n",
       "      <th>Price</th>\n",
       "      <th>Payment_Type</th>\n",
       "      <th>Name</th>\n",
       "      <th>City</th>\n",
       "      <th>State</th>\n",
       "      <th>Country</th>\n",
       "      <th>Account_Created</th>\n",
       "      <th>Last_Login</th>\n",
       "      <th>Latitude</th>\n",
       "      <th>Longitude</th>\n",
       "    </tr>\n",
       "  </thead>\n",
       "  <tbody>\n",
       "    <tr>\n",
       "      <th>2</th>\n",
       "      <td>1/2/09 13:08</td>\n",
       "      <td>Product1</td>\n",
       "      <td>1200</td>\n",
       "      <td>Mastercard</td>\n",
       "      <td>Federica e Andrea</td>\n",
       "      <td>Astoria</td>\n",
       "      <td>OR</td>\n",
       "      <td>United States</td>\n",
       "      <td>1/1/09 16:21</td>\n",
       "      <td>1/3/09 12:32</td>\n",
       "      <td>46.18806</td>\n",
       "      <td>-123.83000</td>\n",
       "    </tr>\n",
       "    <tr>\n",
       "      <th>6</th>\n",
       "      <td>1/4/09 20:11</td>\n",
       "      <td>Product1</td>\n",
       "      <td>1200</td>\n",
       "      <td>Mastercard</td>\n",
       "      <td>Fleur</td>\n",
       "      <td>Peoria</td>\n",
       "      <td>IL</td>\n",
       "      <td>United States</td>\n",
       "      <td>1/3/09 9:38</td>\n",
       "      <td>1/4/09 19:45</td>\n",
       "      <td>40.69361</td>\n",
       "      <td>-89.58889</td>\n",
       "    </tr>\n",
       "    <tr>\n",
       "      <th>7</th>\n",
       "      <td>1/2/09 20:09</td>\n",
       "      <td>Product1</td>\n",
       "      <td>1200</td>\n",
       "      <td>Mastercard</td>\n",
       "      <td>adam</td>\n",
       "      <td>Martin</td>\n",
       "      <td>TN</td>\n",
       "      <td>United States</td>\n",
       "      <td>1/2/09 17:43</td>\n",
       "      <td>1/4/09 20:01</td>\n",
       "      <td>36.34333</td>\n",
       "      <td>-88.85028</td>\n",
       "    </tr>\n",
       "    <tr>\n",
       "      <th>12</th>\n",
       "      <td>1/2/09 9:16</td>\n",
       "      <td>Product1</td>\n",
       "      <td>1200</td>\n",
       "      <td>Mastercard</td>\n",
       "      <td>Sean</td>\n",
       "      <td>Shavano Park</td>\n",
       "      <td>TX</td>\n",
       "      <td>United States</td>\n",
       "      <td>1/2/09 8:32</td>\n",
       "      <td>1/5/09 9:05</td>\n",
       "      <td>29.42389</td>\n",
       "      <td>-98.49333</td>\n",
       "    </tr>\n",
       "    <tr>\n",
       "      <th>30</th>\n",
       "      <td>1/8/09 3:56</td>\n",
       "      <td>Product1</td>\n",
       "      <td>1200</td>\n",
       "      <td>Mastercard</td>\n",
       "      <td>Katherine</td>\n",
       "      <td>New York</td>\n",
       "      <td>NY</td>\n",
       "      <td>United States</td>\n",
       "      <td>1/8/09 3:33</td>\n",
       "      <td>1/8/09 6:19</td>\n",
       "      <td>40.71417</td>\n",
       "      <td>-74.00639</td>\n",
       "    </tr>\n",
       "    <tr>\n",
       "      <th>...</th>\n",
       "      <td>...</td>\n",
       "      <td>...</td>\n",
       "      <td>...</td>\n",
       "      <td>...</td>\n",
       "      <td>...</td>\n",
       "      <td>...</td>\n",
       "      <td>...</td>\n",
       "      <td>...</td>\n",
       "      <td>...</td>\n",
       "      <td>...</td>\n",
       "      <td>...</td>\n",
       "      <td>...</td>\n",
       "    </tr>\n",
       "    <tr>\n",
       "      <th>962</th>\n",
       "      <td>1/10/09 9:32</td>\n",
       "      <td>Product2</td>\n",
       "      <td>3600</td>\n",
       "      <td>Mastercard</td>\n",
       "      <td>Cheryl</td>\n",
       "      <td>Hilton Head</td>\n",
       "      <td>SC</td>\n",
       "      <td>United States</td>\n",
       "      <td>1/10/05 21:39</td>\n",
       "      <td>2/27/09 7:33</td>\n",
       "      <td>32.21611</td>\n",
       "      <td>-80.75278</td>\n",
       "    </tr>\n",
       "    <tr>\n",
       "      <th>964</th>\n",
       "      <td>1/6/09 18:11</td>\n",
       "      <td>Product2</td>\n",
       "      <td>3600</td>\n",
       "      <td>Mastercard</td>\n",
       "      <td>Triona</td>\n",
       "      <td>Swampscott</td>\n",
       "      <td>MA</td>\n",
       "      <td>United States</td>\n",
       "      <td>6/9/06 8:57</td>\n",
       "      <td>2/27/09 13:00</td>\n",
       "      <td>42.47083</td>\n",
       "      <td>-70.91806</td>\n",
       "    </tr>\n",
       "    <tr>\n",
       "      <th>969</th>\n",
       "      <td>1/7/09 18:15</td>\n",
       "      <td>Product1</td>\n",
       "      <td>1200</td>\n",
       "      <td>Mastercard</td>\n",
       "      <td>Selma</td>\n",
       "      <td>Greenville</td>\n",
       "      <td>TX</td>\n",
       "      <td>United States</td>\n",
       "      <td>1/5/09 18:16</td>\n",
       "      <td>2/27/09 19:07</td>\n",
       "      <td>33.13833</td>\n",
       "      <td>-96.11056</td>\n",
       "    </tr>\n",
       "    <tr>\n",
       "      <th>979</th>\n",
       "      <td>1/23/09 10:04</td>\n",
       "      <td>Product1</td>\n",
       "      <td>1200</td>\n",
       "      <td>Mastercard</td>\n",
       "      <td>Kevin</td>\n",
       "      <td>Hollywood</td>\n",
       "      <td>CA</td>\n",
       "      <td>United States</td>\n",
       "      <td>5/30/06 20:25</td>\n",
       "      <td>2/28/09 9:59</td>\n",
       "      <td>34.09833</td>\n",
       "      <td>-118.32583</td>\n",
       "    </tr>\n",
       "    <tr>\n",
       "      <th>986</th>\n",
       "      <td>1/7/09 17:48</td>\n",
       "      <td>Product1</td>\n",
       "      <td>1200</td>\n",
       "      <td>Mastercard</td>\n",
       "      <td>Alex</td>\n",
       "      <td>Augusta</td>\n",
       "      <td>GA</td>\n",
       "      <td>United States</td>\n",
       "      <td>6/10/05 20:25</td>\n",
       "      <td>2/28/09 19:57</td>\n",
       "      <td>33.51722</td>\n",
       "      <td>-82.07583</td>\n",
       "    </tr>\n",
       "  </tbody>\n",
       "</table>\n",
       "<p>131 rows × 12 columns</p>\n",
       "</div>"
      ],
      "text/plain": [
       "    Transaction_date   Product  Price Payment_Type               Name  \\\n",
       "2       1/2/09 13:08  Product1   1200   Mastercard  Federica e Andrea   \n",
       "6       1/4/09 20:11  Product1   1200   Mastercard              Fleur   \n",
       "7       1/2/09 20:09  Product1   1200   Mastercard               adam   \n",
       "12       1/2/09 9:16  Product1   1200   Mastercard              Sean    \n",
       "30       1/8/09 3:56  Product1   1200   Mastercard          Katherine   \n",
       "..               ...       ...    ...          ...                ...   \n",
       "962     1/10/09 9:32  Product2   3600   Mastercard             Cheryl   \n",
       "964     1/6/09 18:11  Product2   3600   Mastercard             Triona   \n",
       "969     1/7/09 18:15  Product1   1200   Mastercard              Selma   \n",
       "979    1/23/09 10:04  Product1   1200   Mastercard              Kevin   \n",
       "986     1/7/09 17:48  Product1   1200   Mastercard               Alex   \n",
       "\n",
       "                             City State        Country Account_Created  \\\n",
       "2    Astoria                         OR  United States    1/1/09 16:21   \n",
       "6    Peoria                          IL  United States     1/3/09 9:38   \n",
       "7    Martin                          TN  United States    1/2/09 17:43   \n",
       "12   Shavano Park                    TX  United States     1/2/09 8:32   \n",
       "30   New York                        NY  United States     1/8/09 3:33   \n",
       "..                            ...   ...            ...             ...   \n",
       "962  Hilton Head                     SC  United States   1/10/05 21:39   \n",
       "964  Swampscott                      MA  United States     6/9/06 8:57   \n",
       "969  Greenville                      TX  United States    1/5/09 18:16   \n",
       "979  Hollywood                       CA  United States   5/30/06 20:25   \n",
       "986  Augusta                         GA  United States   6/10/05 20:25   \n",
       "\n",
       "        Last_Login  Latitude  Longitude  \n",
       "2     1/3/09 12:32  46.18806 -123.83000  \n",
       "6     1/4/09 19:45  40.69361  -89.58889  \n",
       "7     1/4/09 20:01  36.34333  -88.85028  \n",
       "12     1/5/09 9:05  29.42389  -98.49333  \n",
       "30     1/8/09 6:19  40.71417  -74.00639  \n",
       "..             ...       ...        ...  \n",
       "962   2/27/09 7:33  32.21611  -80.75278  \n",
       "964  2/27/09 13:00  42.47083  -70.91806  \n",
       "969  2/27/09 19:07  33.13833  -96.11056  \n",
       "979   2/28/09 9:59  34.09833 -118.32583  \n",
       "986  2/28/09 19:57  33.51722  -82.07583  \n",
       "\n",
       "[131 rows x 12 columns]"
      ]
     },
     "execution_count": 8,
     "metadata": {},
     "output_type": "execute_result"
    }
   ],
   "source": [
    "mastercard_usa = dataset[(dataset[\"Payment_Type\"] == \"Mastercard\") & (dataset[\"Country\"] == \"United States\")]\n",
    "mastercard_usa"
   ]
  },
  {
   "cell_type": "code",
   "execution_count": 9,
   "metadata": {
    "colab": {
     "base_uri": "https://localhost:8080/"
    },
    "deletable": true,
    "editable": true,
    "executionInfo": {
     "elapsed": 31,
     "status": "ok",
     "timestamp": 1647356930616,
     "user": {
      "displayName": "Tomás González",
      "photoUrl": "https://lh3.googleusercontent.com/a-/AOh14GhTb1NqAg64QHpEefCtJFB-i7HgFmVzMPKLLDl5=s64",
      "userId": "17453457451712675901"
     },
     "user_tz": 180
    },
    "id": "C5oEOhFjxmj8",
    "outputId": "3f11faa7-66b8-4bbd-e953-6e9a8ccc98e6"
   },
   "outputs": [
    {
     "data": {
      "text/plain": [
       "131"
      ]
     },
     "execution_count": 9,
     "metadata": {},
     "output_type": "execute_result"
    }
   ],
   "source": [
    "len(mastercard_usa)"
   ]
  },
  {
   "cell_type": "markdown",
   "metadata": {
    "id": "q7k1SIs3zWyE"
   },
   "source": [
    "### Obtener algunos indicadores relevantes\n",
    "\n",
    "El método `.describe()` entrega medidas de tendencia central que pueden ser útiles para la exploración de datos. A continuación veremos algunas cifras relacionadas a la columna `Price`."
   ]
  },
  {
   "cell_type": "code",
   "execution_count": 10,
   "metadata": {
    "colab": {
     "base_uri": "https://localhost:8080/"
    },
    "executionInfo": {
     "elapsed": 31,
     "status": "ok",
     "timestamp": 1647356930617,
     "user": {
      "displayName": "Tomás González",
      "photoUrl": "https://lh3.googleusercontent.com/a-/AOh14GhTb1NqAg64QHpEefCtJFB-i7HgFmVzMPKLLDl5=s64",
      "userId": "17453457451712675901"
     },
     "user_tz": 180
    },
    "id": "hVmNLyHxzghu",
    "outputId": "a5595233-3cae-4c58-87af-39633db9318a"
   },
   "outputs": [
    {
     "data": {
      "text/plain": [
       "count      998.000000\n",
       "mean      1633.767535\n",
       "std       1156.034724\n",
       "min        250.000000\n",
       "25%       1200.000000\n",
       "50%       1200.000000\n",
       "75%       1200.000000\n",
       "max      13000.000000\n",
       "Name: Price, dtype: float64"
      ]
     },
     "execution_count": 10,
     "metadata": {},
     "output_type": "execute_result"
    }
   ],
   "source": [
    "dataset[\"Price\"].describe()"
   ]
  },
  {
   "cell_type": "markdown",
   "metadata": {
    "id": "79UEVSzW0ACq"
   },
   "source": [
    "`.describe()` también funciona en columnas de datos categóricos."
   ]
  },
  {
   "cell_type": "code",
   "execution_count": 11,
   "metadata": {
    "colab": {
     "base_uri": "https://localhost:8080/"
    },
    "executionInfo": {
     "elapsed": 30,
     "status": "ok",
     "timestamp": 1647356930617,
     "user": {
      "displayName": "Tomás González",
      "photoUrl": "https://lh3.googleusercontent.com/a-/AOh14GhTb1NqAg64QHpEefCtJFB-i7HgFmVzMPKLLDl5=s64",
      "userId": "17453457451712675901"
     },
     "user_tz": 180
    },
    "id": "2FR5N8FZz_nR",
    "outputId": "1b474478-83eb-44cf-931e-89b0284b1ada"
   },
   "outputs": [
    {
     "data": {
      "text/plain": [
       "count          998\n",
       "unique           4\n",
       "top       Product1\n",
       "freq           847\n",
       "Name: Product, dtype: object"
      ]
     },
     "execution_count": 11,
     "metadata": {},
     "output_type": "execute_result"
    }
   ],
   "source": [
    "dataset[\"Product\"].describe()"
   ]
  },
  {
   "cell_type": "markdown",
   "metadata": {
    "id": "a_o3DX9v0Jsy"
   },
   "source": [
    "Otro método muy útil para las columnas de datos categóricos es `.value_counts()`, con el que se puede observar cuántos de cada valor hay en cierta columna. Por ejemplo, si queremos ver cómo se distribuyen los métodos de pago:"
   ]
  },
  {
   "cell_type": "code",
   "execution_count": 12,
   "metadata": {
    "colab": {
     "base_uri": "https://localhost:8080/"
    },
    "executionInfo": {
     "elapsed": 28,
     "status": "ok",
     "timestamp": 1647356930617,
     "user": {
      "displayName": "Tomás González",
      "photoUrl": "https://lh3.googleusercontent.com/a-/AOh14GhTb1NqAg64QHpEefCtJFB-i7HgFmVzMPKLLDl5=s64",
      "userId": "17453457451712675901"
     },
     "user_tz": 180
    },
    "id": "B7ExiBpY0JG2",
    "outputId": "99742188-805f-47c0-ba7f-98eb218447ac"
   },
   "outputs": [
    {
     "data": {
      "text/plain": [
       "Visa          522\n",
       "Mastercard    277\n",
       "Amex          110\n",
       "Diners         89\n",
       "Name: Payment_Type, dtype: int64"
      ]
     },
     "execution_count": 12,
     "metadata": {},
     "output_type": "execute_result"
    }
   ],
   "source": [
    "dataset[\"Payment_Type\"].value_counts()"
   ]
  },
  {
   "cell_type": "markdown",
   "metadata": {
    "id": "CS3Lwyno0kDs"
   },
   "source": [
    "### Gráficos sencillos\n",
    "\n",
    "Pandas permite hacer gráficos sencillos, tales como gráficos de barra o de línea. A modo de ejemplo, graficaremos la distribución de los precios."
   ]
  },
  {
   "cell_type": "code",
   "execution_count": 13,
   "metadata": {
    "colab": {
     "base_uri": "https://localhost:8080/",
     "height": 316
    },
    "executionInfo": {
     "elapsed": 28,
     "status": "ok",
     "timestamp": 1647356930618,
     "user": {
      "displayName": "Tomás González",
      "photoUrl": "https://lh3.googleusercontent.com/a-/AOh14GhTb1NqAg64QHpEefCtJFB-i7HgFmVzMPKLLDl5=s64",
      "userId": "17453457451712675901"
     },
     "user_tz": 180
    },
    "id": "JoQCWJVS0IkZ",
    "outputId": "68e9b708-94c2-4a91-c280-fc9a26736021"
   },
   "outputs": [
    {
     "data": {
      "text/plain": [
       "array([[<AxesSubplot:title={'center':'Price'}>]], dtype=object)"
      ]
     },
     "execution_count": 13,
     "metadata": {},
     "output_type": "execute_result"
    },
    {
     "data": {
      "image/png": "[encoded data removed]",
      "text/plain": [
       "<Figure size 432x288 with 1 Axes>"
      ]
     },
     "metadata": {
      "needs_background": "light"
     },
     "output_type": "display_data"
    }
   ],
   "source": [
    "dataset.hist(\"Price\")"
   ]
  },
  {
   "cell_type": "markdown",
   "metadata": {
    "id": "kJvXXC-C1wmt"
   },
   "source": [
    "También se puede estudiar datos categóricos:"
   ]
  },
  {
   "cell_type": "code",
   "execution_count": 14,
   "metadata": {
    "colab": {
     "base_uri": "https://localhost:8080/",
     "height": 329
    },
    "executionInfo": {
     "elapsed": 28,
     "status": "ok",
     "timestamp": 1647356931164,
     "user": {
      "displayName": "Tomás González",
      "photoUrl": "https://lh3.googleusercontent.com/a-/AOh14GhTb1NqAg64QHpEefCtJFB-i7HgFmVzMPKLLDl5=s64",
      "userId": "17453457451712675901"
     },
     "user_tz": 180
    },
    "id": "kmSmzkPX1wNT",
    "outputId": "aaab20c6-9a46-4093-ec6d-6c01ba72f0d0"
   },
   "outputs": [
    {
     "data": {
      "text/plain": [
       "<AxesSubplot:>"
      ]
     },
     "execution_count": 14,
     "metadata": {},
     "output_type": "execute_result"
    },
    {
     "data": {
      "image/png": "[encoded data removed]",
      "text/plain": [
       "<Figure size 432x288 with 1 Axes>"
      ]
     },
     "metadata": {
      "needs_background": "light"
     },
     "output_type": "display_data"
    }
   ],
   "source": [
    "dataset[\"Payment_Type\"].value_counts().plot(kind=\"bar\")"
   ]
  },
  {
   "cell_type": "markdown",
   "metadata": {
    "id": "tDMuuK8ZzPc_"
   },
   "source": [
    "### Reemplazar datos faltantes\n",
    "\n",
    "Es muy común que existan datos faltantes en los *datasets*. Es importante reemplazarlos, puesto que los modelos de *machine learning* que estudiaremos no aceptan datos faltantes. Afortunadamente, reemplazar datos faltantes es fácil con `pandas`.\n",
    "\n",
    "A continuación, eliminaremos datos al azar de la columna `Product`, solo con el fin de poder mostrar cómo se hace el reemplazo."
   ]
  },
  {
   "cell_type": "code",
   "execution_count": 15,
   "metadata": {
    "id": "OnM0iSQ32SmV"
   },
   "outputs": [],
   "source": [
    "dataset[\"Product\"] = dataset[\"Product\"].sample(frac=0.99)"
   ]
  },
  {
   "cell_type": "markdown",
   "metadata": {
    "id": "eAq4CTSL4naD"
   },
   "source": [
    "Para verificar que faltan datos:"
   ]
  },
  {
   "cell_type": "code",
   "execution_count": 16,
   "metadata": {
    "colab": {
     "base_uri": "https://localhost:8080/"
    },
    "executionInfo": {
     "elapsed": 27,
     "status": "ok",
     "timestamp": 1647356931165,
     "user": {
      "displayName": "Tomás González",
      "photoUrl": "https://lh3.googleusercontent.com/a-/AOh14GhTb1NqAg64QHpEefCtJFB-i7HgFmVzMPKLLDl5=s64",
      "userId": "17453457451712675901"
     },
     "user_tz": 180
    },
    "id": "l_JhSEub4mjm",
    "outputId": "a908d221-755e-4848-dde8-4a9761dc4f75"
   },
   "outputs": [
    {
     "data": {
      "text/plain": [
       "10"
      ]
     },
     "execution_count": 16,
     "metadata": {},
     "output_type": "execute_result"
    }
   ],
   "source": [
    "dataset[\"Product\"].isnull().sum()"
   ]
  },
  {
   "cell_type": "markdown",
   "metadata": {
    "id": "iqfjfDU-3RZn"
   },
   "source": [
    "La función para reemplazar datos es `.fillna()`, a la cual debemos entregarle el dato que usaremos como relleno. Una opción, por ejemplo, es usar el producto más común (reemplazar por la moda). Para saber cuál es este, usamos `value_counts()`"
   ]
  },
  {
   "cell_type": "code",
   "execution_count": 17,
   "metadata": {
    "colab": {
     "base_uri": "https://localhost:8080/"
    },
    "executionInfo": {
     "elapsed": 26,
     "status": "ok",
     "timestamp": 1647356931165,
     "user": {
      "displayName": "Tomás González",
      "photoUrl": "https://lh3.googleusercontent.com/a-/AOh14GhTb1NqAg64QHpEefCtJFB-i7HgFmVzMPKLLDl5=s64",
      "userId": "17453457451712675901"
     },
     "user_tz": 180
    },
    "id": "p-9YI6UxzSEz",
    "outputId": "7b54b262-c425-4a97-ea65-b4d4b182ed1b"
   },
   "outputs": [
    {
     "data": {
      "text/plain": [
       "Product1     837\n",
       "Product2     136\n",
       "Product3      14\n",
       "Product3       1\n",
       "Name: Product, dtype: int64"
      ]
     },
     "execution_count": 17,
     "metadata": {},
     "output_type": "execute_result"
    }
   ],
   "source": [
    "dataset[\"Product\"].value_counts()"
   ]
  },
  {
   "cell_type": "markdown",
   "metadata": {
    "id": "WsMaQXML3o6q"
   },
   "source": [
    "El Product1 es el más común, por lo que rellenaremos los datos faltantes de la columna con ese valor."
   ]
  },
  {
   "cell_type": "code",
   "execution_count": 18,
   "metadata": {
    "id": "Scy65F8n3h2n"
   },
   "outputs": [],
   "source": [
    "dataset[\"Product\"] = dataset[\"Product\"].fillna(\"Product1\")"
   ]
  },
  {
   "cell_type": "markdown",
   "metadata": {
    "id": "YZLQ7cpH3zBC"
   },
   "source": [
    "Para verificar que efectivamente se llenaron los valores faltantes:"
   ]
  },
  {
   "cell_type": "code",
   "execution_count": 19,
   "metadata": {
    "colab": {
     "base_uri": "https://localhost:8080/"
    },
    "executionInfo": {
     "elapsed": 25,
     "status": "ok",
     "timestamp": 1647356931165,
     "user": {
      "displayName": "Tomás González",
      "photoUrl": "https://lh3.googleusercontent.com/a-/AOh14GhTb1NqAg64QHpEefCtJFB-i7HgFmVzMPKLLDl5=s64",
      "userId": "17453457451712675901"
     },
     "user_tz": 180
    },
    "id": "HifsR7lr3yWh",
    "outputId": "62d7f1a9-36c6-4d5a-f7c8-a1d5daaebb36"
   },
   "outputs": [
    {
     "data": {
      "text/plain": [
       "0"
      ]
     },
     "execution_count": 19,
     "metadata": {},
     "output_type": "execute_result"
    }
   ],
   "source": [
    "dataset[\"Product\"].isnull().sum()"
   ]
  },
  {
   "cell_type": "markdown",
   "metadata": {
    "id": "iFOgp68O37s_"
   },
   "source": [
    "Notamos que ahora hay 10 Product1 adicionales.\n",
    "\n",
    "En caso de tener una columna numérica con valores faltantes, una opción es reemplazar con la media. Nuevamente, eliminaremos algunos datos al azar para mostrar cómo se hace el reemplazo."
   ]
  },
  {
   "cell_type": "code",
   "execution_count": 20,
   "metadata": {
    "id": "YaBmQsnI35Jx"
   },
   "outputs": [],
   "source": [
    "dataset[\"Price\"] = dataset[\"Price\"].sample(frac=0.85)"
   ]
  },
  {
   "cell_type": "code",
   "execution_count": 21,
   "metadata": {
    "colab": {
     "base_uri": "https://localhost:8080/"
    },
    "executionInfo": {
     "elapsed": 25,
     "status": "ok",
     "timestamp": 1647356931166,
     "user": {
      "displayName": "Tomás González",
      "photoUrl": "https://lh3.googleusercontent.com/a-/AOh14GhTb1NqAg64QHpEefCtJFB-i7HgFmVzMPKLLDl5=s64",
      "userId": "17453457451712675901"
     },
     "user_tz": 180
    },
    "id": "-a5nsD8A4zKI",
    "outputId": "8cfede76-8fc9-465a-dd08-e3c313552dd8"
   },
   "outputs": [
    {
     "data": {
      "text/plain": [
       "150"
      ]
     },
     "execution_count": 21,
     "metadata": {},
     "output_type": "execute_result"
    }
   ],
   "source": [
    "dataset[\"Price\"].isnull().sum()"
   ]
  },
  {
   "cell_type": "code",
   "execution_count": 22,
   "metadata": {
    "id": "fmWQy3L74fBZ"
   },
   "outputs": [],
   "source": [
    "dataset[\"Price\"] = dataset[\"Price\"].fillna(dataset[\"Price\"].mean())"
   ]
  },
  {
   "cell_type": "code",
   "execution_count": 23,
   "metadata": {
    "colab": {
     "base_uri": "https://localhost:8080/"
    },
    "executionInfo": {
     "elapsed": 24,
     "status": "ok",
     "timestamp": 1647356931166,
     "user": {
      "displayName": "Tomás González",
      "photoUrl": "https://lh3.googleusercontent.com/a-/AOh14GhTb1NqAg64QHpEefCtJFB-i7HgFmVzMPKLLDl5=s64",
      "userId": "17453457451712675901"
     },
     "user_tz": 180
    },
    "id": "JOSh6qvX48q5",
    "outputId": "82c04e0e-5f55-488a-f218-4ae80e0e74f6"
   },
   "outputs": [
    {
     "data": {
      "text/plain": [
       "0"
      ]
     },
     "execution_count": 23,
     "metadata": {},
     "output_type": "execute_result"
    }
   ],
   "source": [
    "dataset[\"Price\"].isnull().sum()"
   ]
  },
  {
   "cell_type": "markdown",
   "metadata": {
    "id": "7D_qNhmf6mtO"
   },
   "source": [
    "### Eliminar filas con demasiados datos nulos\n",
    "\n",
    "Podría ocurrir que una fila tiene tantos datos nulos que no aporta al análisis, por lo que conviene borrarla. En esta sección se verá un ejemplo de cómo hacerlo.\n",
    "\n",
    "Solo para ilustrar, eliminaremos algunos datos.\n",
    "\n"
   ]
  },
  {
   "cell_type": "code",
   "execution_count": 24,
   "metadata": {
    "id": "uYrUhtj160T5"
   },
   "outputs": [],
   "source": [
    "dataset[\"Price\"] = dataset[\"Price\"].sample(frac=0.85)"
   ]
  },
  {
   "cell_type": "code",
   "execution_count": 25,
   "metadata": {
    "colab": {
     "base_uri": "https://localhost:8080/"
    },
    "executionInfo": {
     "elapsed": 24,
     "status": "ok",
     "timestamp": 1647356931166,
     "user": {
      "displayName": "Tomás González",
      "photoUrl": "https://lh3.googleusercontent.com/a-/AOh14GhTb1NqAg64QHpEefCtJFB-i7HgFmVzMPKLLDl5=s64",
      "userId": "17453457451712675901"
     },
     "user_tz": 180
    },
    "id": "CNF5nQvD7eNZ",
    "outputId": "ac5260ae-9239-49c7-9fc0-5b036cda86d6"
   },
   "outputs": [
    {
     "data": {
      "text/plain": [
       "Transaction_date      0\n",
       "Product               0\n",
       "Price               150\n",
       "Payment_Type          0\n",
       "Name                  0\n",
       "City                  0\n",
       "State                 1\n",
       "Country               0\n",
       "Account_Created       0\n",
       "Last_Login            0\n",
       "Latitude              0\n",
       "Longitude             0\n",
       "dtype: int64"
      ]
     },
     "execution_count": 25,
     "metadata": {},
     "output_type": "execute_result"
    }
   ],
   "source": [
    "dataset.isnull().sum()"
   ]
  },
  {
   "cell_type": "markdown",
   "metadata": {
    "id": "appW1LIk720s"
   },
   "source": [
    "Recordemos cuántas filas había antes de eliminar las que tienen datos faltantes:"
   ]
  },
  {
   "cell_type": "code",
   "execution_count": 26,
   "metadata": {
    "colab": {
     "base_uri": "https://localhost:8080/"
    },
    "executionInfo": {
     "elapsed": 24,
     "status": "ok",
     "timestamp": 1647356931167,
     "user": {
      "displayName": "Tomás González",
      "photoUrl": "https://lh3.googleusercontent.com/a-/AOh14GhTb1NqAg64QHpEefCtJFB-i7HgFmVzMPKLLDl5=s64",
      "userId": "17453457451712675901"
     },
     "user_tz": 180
    },
    "id": "_sJ3ZN9771v0",
    "outputId": "ac4921d7-08bb-4d8f-917a-8eaa773752a0"
   },
   "outputs": [
    {
     "data": {
      "text/plain": [
       "998"
      ]
     },
     "execution_count": 26,
     "metadata": {},
     "output_type": "execute_result"
    }
   ],
   "source": [
    "len(dataset)"
   ]
  },
  {
   "cell_type": "markdown",
   "metadata": {
    "id": "I5lAIFuU8Gkc"
   },
   "source": [
    "Borramos las filas con datos faltantes:"
   ]
  },
  {
   "cell_type": "code",
   "execution_count": 27,
   "metadata": {
    "id": "tqEofpzs7lYF"
   },
   "outputs": [],
   "source": [
    "dataset = dataset.dropna()"
   ]
  },
  {
   "cell_type": "markdown",
   "metadata": {
    "id": "yx6RJU8u8MIM"
   },
   "source": [
    "Comprobamos el nuevo tamaño del *dataset*"
   ]
  },
  {
   "cell_type": "code",
   "execution_count": 28,
   "metadata": {
    "colab": {
     "base_uri": "https://localhost:8080/"
    },
    "executionInfo": {
     "elapsed": 23,
     "status": "ok",
     "timestamp": 1647356931167,
     "user": {
      "displayName": "Tomás González",
      "photoUrl": "https://lh3.googleusercontent.com/a-/AOh14GhTb1NqAg64QHpEefCtJFB-i7HgFmVzMPKLLDl5=s64",
      "userId": "17453457451712675901"
     },
     "user_tz": 180
    },
    "id": "hF9fmieI7qX4",
    "outputId": "3c70043f-ba0e-4951-ea6c-7e48e5b1b423"
   },
   "outputs": [
    {
     "data": {
      "text/plain": [
       "847"
      ]
     },
     "execution_count": 28,
     "metadata": {},
     "output_type": "execute_result"
    }
   ],
   "source": [
    "len(dataset)"
   ]
  },
  {
   "cell_type": "markdown",
   "metadata": {
    "id": "YOcIsBQU5w-_"
   },
   "source": [
    "### Eliminar columnas\n",
    "\n",
    "Si es que decidimos que una columna no es relevante para nuestro análisis, la podemos eliminar de la siguiente forma:"
   ]
  },
  {
   "cell_type": "code",
   "execution_count": 29,
   "metadata": {
    "id": "_tj6hrB054v3"
   },
   "outputs": [],
   "source": [
    "del dataset[\"Latitude\"]\n",
    "del dataset[\"Longitude\"]"
   ]
  },
  {
   "cell_type": "markdown",
   "metadata": {
    "id": "Yj6CB83V6Aqo"
   },
   "source": [
    "Para comprobar que se eliminaron esas dos columnas, podemos verificar si se encuentran en la lista de columnas del *dataset*."
   ]
  },
  {
   "cell_type": "code",
   "execution_count": 30,
   "metadata": {
    "colab": {
     "base_uri": "https://localhost:8080/"
    },
    "executionInfo": {
     "elapsed": 23,
     "status": "ok",
     "timestamp": 1647356931167,
     "user": {
      "displayName": "Tomás González",
      "photoUrl": "https://lh3.googleusercontent.com/a-/AOh14GhTb1NqAg64QHpEefCtJFB-i7HgFmVzMPKLLDl5=s64",
      "userId": "17453457451712675901"
     },
     "user_tz": 180
    },
    "id": "4k6l9Att57Ce",
    "outputId": "198ccbe7-a88a-4813-9757-874fcc816cb3"
   },
   "outputs": [
    {
     "name": "stdout",
     "output_type": "stream",
     "text": [
      "False\n",
      "False\n"
     ]
    }
   ],
   "source": [
    "print(\"Latitude\" in dataset.columns)\n",
    "print(\"Longitude\" in dataset.columns)"
   ]
  },
  {
   "cell_type": "markdown",
   "metadata": {
    "id": "fVH8qB6o1qhM"
   },
   "source": [
    "### Aplicar una función a lo largo de un eje\n",
    "\n",
    "Un método conocido para esto es `.apply()` al cual se le debe entregar una función para aplicar en cada fila, o columna, según se especifique.\n",
    "\n",
    "Por ejemplo, si queremos agregar 500 al precio de todos los productos, podemos hacer lo siguiente:\n"
   ]
  },
  {
   "cell_type": "code",
   "execution_count": 31,
   "metadata": {
    "colab": {
     "base_uri": "https://localhost:8080/"
    },
    "executionInfo": {
     "elapsed": 461,
     "status": "ok",
     "timestamp": 1647357522121,
     "user": {
      "displayName": "Tomás González",
      "photoUrl": "https://lh3.googleusercontent.com/a-/AOh14GhTb1NqAg64QHpEefCtJFB-i7HgFmVzMPKLLDl5=s64",
      "userId": "17453457451712675901"
     },
     "user_tz": 180
    },
    "id": "OaOLbE2k3Jhh",
    "outputId": "def53fc4-354a-45a3-aa90-7b3586c5b7ab"
   },
   "outputs": [
    {
     "data": {
      "text/plain": [
       "2      1700.0\n",
       "3      1700.0\n",
       "4      4100.0\n",
       "5      1700.0\n",
       "6      1700.0\n",
       "        ...  \n",
       "992    4100.0\n",
       "993    1700.0\n",
       "994    4100.0\n",
       "996    1700.0\n",
       "997    1700.0\n",
       "Name: Price, Length: 847, dtype: float64"
      ]
     },
     "execution_count": 31,
     "metadata": {},
     "output_type": "execute_result"
    }
   ],
   "source": [
    "dataset[\"Price\"].apply(lambda x: x + 500)"
   ]
  },
  {
   "cell_type": "markdown",
   "metadata": {
    "id": "VWSvvkye5XqD"
   },
   "source": [
    "## Actividad\n",
    "\n",
    "Los comandos anteriores deberían ser suficientes para realizar una exploración y procesamiento de un conjunto de datos nuevo. En caso contrario, puede buscar en internet cómo hacer con Pandas lo que se pide en cada ítem de esta actividad.\n",
    "\n",
    "En esta ocasión, utilizaremos un *dataset* de segmentación de clientes (`train_missing.csv`), al que le faltan datos en casi todas sus columnas, en distintas proporciones. Usted deberá determinar cuántos datos faltan en cada columna y tomar decisiones en cuánto a cómo procesar la información para que quede lista para los clasificadores que entrenaremos en el siguiente taller.\n",
    "\n",
    "\n",
    "1. Cargue los datos."
   ]
  },
  {
   "cell_type": "code",
   "execution_count": 32,
   "metadata": {
    "id": "WcoPzr_c4-Jl"
   },
   "outputs": [],
   "source": [
    "# Cargue los datos aquí\n",
    "import pandas as pd\n",
    "\n",
    "train_missing = pd.read_csv('train_missing.csv')"
   ]
  },
  {
   "cell_type": "markdown",
   "metadata": {
    "id": "mjkBlvoX8gx6"
   },
   "source": [
    "2. Determine cuántos datos faltan por cada columna.\n"
   ]
  },
  {
   "cell_type": "code",
   "execution_count": 33,
   "metadata": {
    "id": "ct-5aAaw8qbl"
   },
   "outputs": [
    {
     "data": {
      "text/plain": [
       "Unnamed: 0            0\n",
       "ID                    0\n",
       "Gender               81\n",
       "Ever_Married        936\n",
       "Age                 807\n",
       "Graduated           159\n",
       "Profession          124\n",
       "Work_Experience    1052\n",
       "Spending_Score       81\n",
       "Family_Size         335\n",
       "Var_1               157\n",
       "Segmentation        242\n",
       "dtype: int64"
      ]
     },
     "execution_count": 33,
     "metadata": {},
     "output_type": "execute_result"
    }
   ],
   "source": [
    "# Determine cuántos datos faltan por columna aquí\n",
    "train_missing.isnull().sum()"
   ]
  },
  {
   "cell_type": "markdown",
   "metadata": {
    "id": "SXffF-IIC1pW"
   },
   "source": [
    "3. Existe una columna que no aporta información, ¿cuál es? Elimínela y explique por qué"
   ]
  },
  {
   "cell_type": "code",
   "execution_count": 34,
   "metadata": {
    "id": "txLS1rebC9GF"
   },
   "outputs": [],
   "source": [
    "# Elimino la columna ID porque es un identificador el cual no aporta nada a la regresión lineal.\n",
    "train_missing.drop(columns = ['ID', 'Unnamed: 0'], axis = 1, inplace = True)"
   ]
  },
  {
   "cell_type": "markdown",
   "metadata": {
    "id": "6Ro8tK1x86dC"
   },
   "source": [
    "4. Elija tres columnas y entregue un *insight* sobre cada una (promedio de datos, cantidad de valores distintos, etc)."
   ]
  },
  {
   "cell_type": "code",
   "execution_count": 35,
   "metadata": {
    "id": "EiAsRAKI85VB"
   },
   "outputs": [
    {
     "data": {
      "text/html": [
       "<div>\n",
       "<style scoped>\n",
       "    .dataframe tbody tr th:only-of-type {\n",
       "        vertical-align: middle;\n",
       "    }\n",
       "\n",
       "    .dataframe tbody tr th {\n",
       "        vertical-align: top;\n",
       "    }\n",
       "\n",
       "    .dataframe thead th {\n",
       "        text-align: right;\n",
       "    }\n",
       "</style>\n",
       "<table border=\"1\" class=\"dataframe\">\n",
       "  <thead>\n",
       "    <tr style=\"text-align: right;\">\n",
       "      <th></th>\n",
       "      <th>Work_Experience</th>\n",
       "      <th>Age</th>\n",
       "      <th>Family_Size</th>\n",
       "    </tr>\n",
       "  </thead>\n",
       "  <tbody>\n",
       "    <tr>\n",
       "      <th>count</th>\n",
       "      <td>7016.000000</td>\n",
       "      <td>7261.000000</td>\n",
       "      <td>7733.000000</td>\n",
       "    </tr>\n",
       "    <tr>\n",
       "      <th>mean</th>\n",
       "      <td>2.649658</td>\n",
       "      <td>43.483680</td>\n",
       "      <td>2.850123</td>\n",
       "    </tr>\n",
       "    <tr>\n",
       "      <th>std</th>\n",
       "      <td>3.408740</td>\n",
       "      <td>16.733585</td>\n",
       "      <td>1.531413</td>\n",
       "    </tr>\n",
       "    <tr>\n",
       "      <th>min</th>\n",
       "      <td>0.000000</td>\n",
       "      <td>18.000000</td>\n",
       "      <td>1.000000</td>\n",
       "    </tr>\n",
       "    <tr>\n",
       "      <th>25%</th>\n",
       "      <td>0.000000</td>\n",
       "      <td>30.000000</td>\n",
       "      <td>2.000000</td>\n",
       "    </tr>\n",
       "    <tr>\n",
       "      <th>50%</th>\n",
       "      <td>1.000000</td>\n",
       "      <td>40.000000</td>\n",
       "      <td>3.000000</td>\n",
       "    </tr>\n",
       "    <tr>\n",
       "      <th>75%</th>\n",
       "      <td>4.000000</td>\n",
       "      <td>53.000000</td>\n",
       "      <td>4.000000</td>\n",
       "    </tr>\n",
       "    <tr>\n",
       "      <th>max</th>\n",
       "      <td>14.000000</td>\n",
       "      <td>89.000000</td>\n",
       "      <td>9.000000</td>\n",
       "    </tr>\n",
       "  </tbody>\n",
       "</table>\n",
       "</div>"
      ],
      "text/plain": [
       "       Work_Experience          Age  Family_Size\n",
       "count      7016.000000  7261.000000  7733.000000\n",
       "mean          2.649658    43.483680     2.850123\n",
       "std           3.408740    16.733585     1.531413\n",
       "min           0.000000    18.000000     1.000000\n",
       "25%           0.000000    30.000000     2.000000\n",
       "50%           1.000000    40.000000     3.000000\n",
       "75%           4.000000    53.000000     4.000000\n",
       "max          14.000000    89.000000     9.000000"
      ]
     },
     "execution_count": 35,
     "metadata": {},
     "output_type": "execute_result"
    }
   ],
   "source": [
    "# Obtenga los insights aquí\n",
    "train_missing[['Work_Experience', 'Age', 'Family_Size']].describe()"
   ]
  },
  {
   "cell_type": "markdown",
   "metadata": {
    "id": "SpAVZI2j9I9F"
   },
   "source": [
    "5. Grafique alguno de los *insights* seleccionados."
   ]
  },
  {
   "cell_type": "code",
   "execution_count": 36,
   "metadata": {
    "id": "HhNp5miQ9PtC"
   },
   "outputs": [
    {
     "data": {
      "text/plain": [
       "array([[<AxesSubplot:title={'center':'Age'}>]], dtype=object)"
      ]
     },
     "execution_count": 36,
     "metadata": {},
     "output_type": "execute_result"
    },
    {
     "data": {
      "image/png": "[encoded data removed]",
      "text/plain": [
       "<Figure size 432x288 with 1 Axes>"
      ]
     },
     "metadata": {
      "needs_background": "light"
     },
     "output_type": "display_data"
    }
   ],
   "source": [
    "# Realice el gráfico aquí\n",
    "train_missing.hist(\"Age\")"
   ]
  },
  {
   "cell_type": "code",
   "execution_count": 37,
   "metadata": {},
   "outputs": [
    {
     "data": {
      "text/plain": [
       "<AxesSubplot:>"
      ]
     },
     "execution_count": 37,
     "metadata": {},
     "output_type": "execute_result"
    },
    {
     "data": {
      "image/png": "[encoded data removed]",
      "text/plain": [
       "<Figure size 432x288 with 1 Axes>"
      ]
     },
     "metadata": {
      "needs_background": "light"
     },
     "output_type": "display_data"
    }
   ],
   "source": [
    "train_missing[\"Spending_Score\"].value_counts().plot(kind=\"bar\")"
   ]
  },
  {
   "cell_type": "markdown",
   "metadata": {
    "id": "3XtU307f9Tjp"
   },
   "source": [
    "6. Ejecute la/las estrategia/estrategias que le parezca/parezcan más adecuada/adecuadas para abordar los datos faltantes en cada columna (porque tal vez no todas las columnas necesiten el mismo procedimiento). ¿Por qué considera que la o las estrategias escogidas son las más indicadas?"
   ]
  },
  {
   "cell_type": "code",
   "execution_count": 38,
   "metadata": {
    "id": "dOzBUpx8-J3P"
   },
   "outputs": [
    {
     "data": {
      "text/plain": [
       "Gender             0.010040\n",
       "Ever_Married       0.116014\n",
       "Age                0.100025\n",
       "Graduated          0.019707\n",
       "Profession         0.015369\n",
       "Work_Experience    0.130392\n",
       "Spending_Score     0.010040\n",
       "Family_Size        0.041522\n",
       "Var_1              0.019460\n",
       "Segmentation       0.029995\n",
       "dtype: float64"
      ]
     },
     "execution_count": 38,
     "metadata": {},
     "output_type": "execute_result"
    }
   ],
   "source": [
    "# Dado el porcentaje faltante de datos, decidi rellenar las features con bajo % faltante tanto con la moda como la media (dependiendo del tipo\n",
    "# del dato), y elimine la columna con mayor cantidad de datos dado que en la práctica rellenar una columna con demasiados datos faltantes \n",
    "# sesgaría demasiado la muestra.\n",
    "\n",
    "train_missing.isnull().sum()/train_missing.shape[0]"
   ]
  },
  {
   "cell_type": "code",
   "execution_count": 39,
   "metadata": {
    "id": "qYQlc6WUaDwk"
   },
   "outputs": [],
   "source": [
    "# Realizar el cambio solicitado aquí\n",
    "train_missing['Gender'] = train_missing.Gender.fillna(\"Male\")"
   ]
  },
  {
   "cell_type": "code",
   "execution_count": 40,
   "metadata": {},
   "outputs": [],
   "source": [
    "train_missing['Graduated'] = train_missing.Graduated.fillna(\"Yes\")"
   ]
  },
  {
   "cell_type": "code",
   "execution_count": 41,
   "metadata": {},
   "outputs": [],
   "source": [
    "train_missing['Profession'] = train_missing.Profession.fillna(\"Artist\")"
   ]
  },
  {
   "cell_type": "code",
   "execution_count": 42,
   "metadata": {},
   "outputs": [],
   "source": [
    "train_missing['Spending_Score'] = train_missing.Spending_Score.fillna(\"Low\")"
   ]
  },
  {
   "cell_type": "code",
   "execution_count": 43,
   "metadata": {},
   "outputs": [],
   "source": [
    "train_missing['Family_Size'] = train_missing.Family_Size.fillna(train_missing.Family_Size.mean().astype(int))\n",
    "train_missing['Age'] = train_missing.Family_Size.fillna(train_missing.Age.mean().astype(int))"
   ]
  },
  {
   "cell_type": "code",
   "execution_count": 44,
   "metadata": {},
   "outputs": [],
   "source": [
    "train_missing['Segmentation'] = train_missing.Segmentation.fillna('D')"
   ]
  },
  {
   "cell_type": "code",
   "execution_count": 45,
   "metadata": {},
   "outputs": [],
   "source": [
    "train_missing['Ever_Married'] = train_missing.Ever_Married.fillna('Yes')"
   ]
  },
  {
   "cell_type": "code",
   "execution_count": 46,
   "metadata": {},
   "outputs": [],
   "source": [
    "del train_missing['Work_Experience']"
   ]
  },
  {
   "cell_type": "markdown",
   "metadata": {
    "id": "00fh0gHXZewp"
   },
   "source": [
    "7. Te solicitan modificar la edad para que sea contada en meses en vez de años. Utiliza `apply` para hacer el cambio correspondiente. "
   ]
  },
  {
   "cell_type": "code",
   "execution_count": 47,
   "metadata": {},
   "outputs": [],
   "source": [
    "train_missing['Age'] = train_missing.Age.apply(lambda x: x * 12)"
   ]
  },
  {
   "cell_type": "markdown",
   "metadata": {
    "id": "d7_peB6u90TL"
   },
   "source": [
    "8. Investigue sobre el método `.to_csv` de Pandas y exporte los datos ya procesados (sin datos faltantes)."
   ]
  },
  {
   "cell_type": "code",
   "execution_count": 48,
   "metadata": {
    "id": "Ts8uQAmO9S5H"
   },
   "outputs": [],
   "source": [
    "# Ejecute .to_csv aquí\n",
    "train_missing.to_csv('train_processed.csv')"
   ]
  }
 ],
 "metadata": {
  "colab": {
   "collapsed_sections": [],
   "name": "Actividad 1.ipynb",
   "provenance": [
    {
     "file_id": "1wRPFq-Fjtz6JPlfFpAJP8lN1xymmvSj9",
     "timestamp": 1647347418074
    }
   ]
  },
  "kernelspec": {
   "display_name": "Python 3",
   "language": "python",
   "name": "python3"
  },
  "language_info": {
   "codemirror_mode": {
    "name": "ipython",
    "version": 3
   },
   "file_extension": ".py",
   "mimetype": "text/x-python",
   "name": "python",
   "nbconvert_exporter": "python",
   "pygments_lexer": "ipython3",
   "version": "3.9.1"
  }
 },
 "nbformat": 4,
 "nbformat_minor": 4
}
